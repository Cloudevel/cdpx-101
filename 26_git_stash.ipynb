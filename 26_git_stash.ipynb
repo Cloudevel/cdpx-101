{
 "cells": [
  {
   "cell_type": "markdown",
   "metadata": {},
   "source": [
    "<a href=\"https://cloudevel.com\"> <img src=\"img/cloudevel.png\" width=\"500px\"></a>"
   ]
  },
  {
   "cell_type": "markdown",
   "metadata": {},
   "source": [
    "# Preservación de trabajo en progreso.\n",
    "\n",
    "Es común que sea necesario \"pausar\" el trabajo que se realiza en un repositorio y restituir un directorio de trabajo \"limpio\", pero dicho trabajo aún no amerita realizar un \"commit\".\n",
    "\n",
    "*Git* permite definir unestado conocido como \"trabajo en proceso\" (*WIP* por sus siglads en inglés)."
   ]
  },
  {
   "cell_type": "markdown",
   "metadata": {},
   "source": [
    "## Preliminares:\n",
    "\n",
    "A fin de contar con un entorno unificado, se utilizará una versión creada previamente del directorio ```demo``` que incluye los ejercicios de los capítulos previos y se encuentra comprimida en el archivo ```src/prueba.zip```. "
   ]
  },
  {
   "cell_type": "code",
   "execution_count": 1,
   "metadata": {},
   "outputs": [],
   "source": [
    "rm -rf prueba"
   ]
  },
  {
   "cell_type": "code",
   "execution_count": 2,
   "metadata": {
    "scrolled": false
   },
   "outputs": [
    {
     "name": "stdout",
     "output_type": "stream",
     "text": [
      "Archive:  src/prueba.zip\n",
      "   creating: prueba/\n",
      " extracting: prueba/archivo-2        \n",
      " extracting: prueba/archivo-1        \n",
      "   creating: prueba/.git/\n",
      "  inflating: prueba/.git/index       \n",
      "   creating: prueba/.git/refs/\n",
      "   creating: prueba/.git/refs/heads/\n",
      "  inflating: prueba/.git/refs/heads/master  \n",
      " extracting: prueba/.git/refs/heads/restituida  \n",
      " extracting: prueba/.git/refs/heads/nueva  \n",
      "   creating: prueba/.git/refs/tags/\n",
      "  inflating: prueba/.git/description  \n",
      "   creating: prueba/.git/info/\n",
      "  inflating: prueba/.git/info/exclude  \n",
      " extracting: prueba/.git/ORIG_HEAD   \n",
      " extracting: prueba/.git/COMMIT_EDITMSG  \n",
      "   creating: prueba/.git/objects/\n",
      "   creating: prueba/.git/objects/90/\n",
      " extracting: prueba/.git/objects/90/a8b80bbb845cb1187852777769937a9574e3ab  \n",
      "   creating: prueba/.git/objects/ed/\n",
      " extracting: prueba/.git/objects/ed/7d117fc8970b297653c23ebc41936cc4ab4472  \n",
      "   creating: prueba/.git/objects/pack/\n",
      "   creating: prueba/.git/objects/cb/\n",
      " extracting: prueba/.git/objects/cb/0b6bb3a84bc6fcd0f6a0f87909bf68f298e21a  \n",
      "   creating: prueba/.git/objects/2c/\n",
      " extracting: prueba/.git/objects/2c/b76ef80c41c0037c6a82092737cba6061c7083  \n",
      "   creating: prueba/.git/objects/info/\n",
      "   creating: prueba/.git/objects/e6/\n",
      " extracting: prueba/.git/objects/e6/9de29bb2d1d6434b8b29ae775ad8c2e48c5391  \n",
      "   creating: prueba/.git/objects/a1/\n",
      " extracting: prueba/.git/objects/a1/9abfea0f29b668c91c58c834b8965e6c37804f  \n",
      "   creating: prueba/.git/objects/dc/\n",
      " extracting: prueba/.git/objects/dc/d3ac8c60d63186964b45f87cc4416e6caefa5f  \n",
      "   creating: prueba/.git/objects/78/\n",
      " extracting: prueba/.git/objects/78/8564428c6076630b22efc89ad20c5f63ee9bf1  \n",
      "   creating: prueba/.git/objects/ba/\n",
      " extracting: prueba/.git/objects/ba/397e8f7c51f8dfdefa12250933811042df91a2  \n",
      "   creating: prueba/.git/objects/ff/\n",
      " extracting: prueba/.git/objects/ff/7ede1f3ce0201ae532684bbee157247c3a88b7  \n",
      "   creating: prueba/.git/objects/ac/\n",
      " extracting: prueba/.git/objects/ac/9103394fb02ee49adb4c05e2125174707fbb7d  \n",
      "   creating: prueba/.git/objects/1f/\n",
      " extracting: prueba/.git/objects/1f/1f5adbb5e6ff2e2ff651e352f21df0417defb2  \n",
      "   creating: prueba/.git/objects/08/\n",
      " extracting: prueba/.git/objects/08/34a0b252e02bc28bae34588e01f410ad771884  \n",
      "   creating: prueba/.git/objects/d7/\n",
      " extracting: prueba/.git/objects/d7/f0e7ba5cf079cdea1d7c8792e1432161f082c1  \n",
      "   creating: prueba/.git/objects/46/\n",
      " extracting: prueba/.git/objects/46/c8014e29a665bd0e883c9008ad4412f8933809  \n",
      "   creating: prueba/.git/objects/df/\n",
      " extracting: prueba/.git/objects/df/8a330f084618bdb823d99a6997d7be4b9efd15  \n",
      "   creating: prueba/.git/objects/b3/\n",
      " extracting: prueba/.git/objects/b3/890082fec489a5ecff76db4fd36cc10d4bc8d6  \n",
      "   creating: prueba/.git/branches/\n",
      "   creating: prueba/.git/logs/\n",
      "   creating: prueba/.git/logs/refs/\n",
      "   creating: prueba/.git/logs/refs/heads/\n",
      "  inflating: prueba/.git/logs/refs/heads/master  \n",
      "  inflating: prueba/.git/logs/refs/heads/restituida  \n",
      "  inflating: prueba/.git/logs/refs/heads/nueva  \n",
      "  inflating: prueba/.git/logs/HEAD   \n",
      " extracting: prueba/.git/HEAD        \n",
      "  inflating: prueba/.git/config      \n",
      "   creating: prueba/.git/hooks/\n",
      "  inflating: prueba/.git/hooks/post-update.sample  \n",
      "  inflating: prueba/.git/hooks/commit-msg.sample  \n",
      "  inflating: prueba/.git/hooks/pre-receive.sample  \n",
      "  inflating: prueba/.git/hooks/update.sample  \n",
      "  inflating: prueba/.git/hooks/pre-push.sample  \n",
      "  inflating: prueba/.git/hooks/fsmonitor-watchman.sample  \n",
      "  inflating: prueba/.git/hooks/prepare-commit-msg.sample  \n",
      "  inflating: prueba/.git/hooks/pre-applypatch.sample  \n",
      "  inflating: prueba/.git/hooks/pre-rebase.sample  \n",
      "  inflating: prueba/.git/hooks/applypatch-msg.sample  \n",
      "  inflating: prueba/.git/hooks/pre-commit.sample  \n",
      " extracting: prueba/archivo_nuevo    \n",
      " extracting: prueba/invisible        \n",
      " extracting: prueba/.gitignore       \n"
     ]
    }
   ],
   "source": [
    "unzip src/prueba.zip"
   ]
  },
  {
   "cell_type": "code",
   "execution_count": 3,
   "metadata": {},
   "outputs": [],
   "source": [
    "cd prueba"
   ]
  },
  {
   "cell_type": "code",
   "execution_count": 4,
   "metadata": {},
   "outputs": [
    {
     "name": "stdout",
     "output_type": "stream",
     "text": [
      "* \u001b[32mmaster\u001b[m\n",
      "  nueva\u001b[m\n",
      "  restituida\u001b[m\n"
     ]
    }
   ],
   "source": [
    "git branch"
   ]
  },
  {
   "cell_type": "code",
   "execution_count": 5,
   "metadata": {},
   "outputs": [
    {
     "name": "stdout",
     "output_type": "stream",
     "text": [
      "\u001b[33mff7ede1\u001b[m\u001b[33m (\u001b[m\u001b[1;36mHEAD -> \u001b[m\u001b[1;32mmaster\u001b[m\u001b[33m)\u001b[m commit fusionado\n",
      "\u001b[33m0834a0b\u001b[m quinto commit\n",
      "\u001b[33m46c8014\u001b[m\u001b[33m (\u001b[m\u001b[1;32mnueva\u001b[m\u001b[33m)\u001b[m primer commit de la rama nueva\n",
      "\u001b[33mba397e8\u001b[m\u001b[33m (\u001b[m\u001b[1;32mrestituida\u001b[m\u001b[33m)\u001b[m cuarto commit\n",
      "\u001b[33mcb0b6bb\u001b[m segundo commit\n",
      "\u001b[33med7d117\u001b[m primer commit\n"
     ]
    }
   ],
   "source": [
    "git log --oneline"
   ]
  },
  {
   "cell_type": "markdown",
   "metadata": {},
   "source": [
    "## El comando ```git stash```.\n",
    "\n",
    "Este comnando permite preservar tanto el directorio de trabajo como el índice actual y regresar a ```HEAD``` sin necesidad de realizar un commit.\n",
    "\n",
    "```\n",
    "git stash <opciones y argumentos>\n",
    "```\n",
    "\n",
    "Ejecutar ```git stash``` sin opciones es queivalente a ```git stash push```.\n",
    "\n",
    "Para mayor referencia es posible consultar la siguiente liga:\n",
    "\n",
    "https://www.git-scm.com/docs/git-stash"
   ]
  },
  {
   "cell_type": "markdown",
   "metadata": {},
   "source": [
    "### El comando ```git stash push```.\n",
    "\n",
    "Este comando realiza las siguientes acciones:\n",
    "\n",
    "* Crea una referencia guardada en el archivo ```.git/refs/stash``` del repositorio actual.\n",
    "* Guarda el estado del directorio de trabajo y del índice del repositorio.\n",
    "* Regresa el estado del repositorio a ```HEAD```.\n",
    "\n",
    "**Nota:** Es posible guardar más de in estado *WIP* usando ```git stash push```."
   ]
  },
  {
   "cell_type": "markdown",
   "metadata": {},
   "source": [
    "**Ejemplo:**"
   ]
  },
  {
   "cell_type": "markdown",
   "metadata": {},
   "source": [
    "* La siguiente celda creará al archivo ```preservado-2``` . "
   ]
  },
  {
   "cell_type": "code",
   "execution_count": 6,
   "metadata": {},
   "outputs": [],
   "source": [
    "touch preservado-1"
   ]
  },
  {
   "cell_type": "markdown",
   "metadata": {},
   "source": [
    "* La siguiente celda modificará a ```archivo-2```."
   ]
  },
  {
   "cell_type": "code",
   "execution_count": 7,
   "metadata": {},
   "outputs": [],
   "source": [
    "echo \"nueva línea\" >> archivo-2"
   ]
  },
  {
   "cell_type": "code",
   "execution_count": 8,
   "metadata": {},
   "outputs": [
    {
     "name": "stdout",
     "output_type": "stream",
     "text": [
      "nueva línea\n"
     ]
    }
   ],
   "source": [
    "cat archivo-2"
   ]
  },
  {
   "cell_type": "code",
   "execution_count": 9,
   "metadata": {
    "scrolled": true
   },
   "outputs": [
    {
     "name": "stdout",
     "output_type": "stream",
     "text": [
      "archivo-1  archivo-2  archivo_nuevo  invisible  preservado-1\n"
     ]
    }
   ],
   "source": [
    "ls"
   ]
  },
  {
   "cell_type": "markdown",
   "metadata": {},
   "source": [
    "La siguiente celda mostrará las modificaciones del repositorio con respecto a ```HEAD```."
   ]
  },
  {
   "cell_type": "code",
   "execution_count": 10,
   "metadata": {
    "scrolled": true
   },
   "outputs": [
    {
     "name": "stdout",
     "output_type": "stream",
     "text": [
      "En la rama master\n",
      "Cambios no rastreados para el commit:\n",
      "  (usa \"git add <archivo>...\" para actualizar lo que será confirmado)\n",
      "  (usa \"git checkout -- <archivo>...\" para descartar los cambios en el directorio de trabajo)\n",
      "\n",
      "\t\u001b[31mmodificado:     archivo-2\u001b[m\n",
      "\n",
      "Archivos sin seguimiento:\n",
      "  (usa \"git add <archivo>...\" para incluirlo a lo que se será confirmado)\n",
      "\n",
      "\t\u001b[31mpreservado-1\u001b[m\n",
      "\n",
      "sin cambios agregados al commit (usa \"git add\" y/o \"git commit -a\")\n"
     ]
    }
   ],
   "source": [
    "git status"
   ]
  },
  {
   "cell_type": "markdown",
   "metadata": {},
   "source": [
    "* Se añadirán las modificaciones al índice."
   ]
  },
  {
   "cell_type": "code",
   "execution_count": 11,
   "metadata": {},
   "outputs": [],
   "source": [
    "git add --all"
   ]
  },
  {
   "cell_type": "markdown",
   "metadata": {},
   "source": [
    "* Se ejecutará el comando```git stash push```."
   ]
  },
  {
   "cell_type": "code",
   "execution_count": 12,
   "metadata": {
    "scrolled": true
   },
   "outputs": [
    {
     "name": "stdout",
     "output_type": "stream",
     "text": [
      "Directorio de trabajo guardado y estado de índice WIP on master: ff7ede1 commit fusionado\n"
     ]
    }
   ],
   "source": [
    "git stash push"
   ]
  },
  {
   "cell_type": "markdown",
   "metadata": {},
   "source": [
    "* El sistema de archivos ha sido restablecido a ```HEAD```."
   ]
  },
  {
   "cell_type": "code",
   "execution_count": 13,
   "metadata": {},
   "outputs": [
    {
     "name": "stdout",
     "output_type": "stream",
     "text": [
      "archivo-1  archivo-2  archivo_nuevo  invisible\n"
     ]
    }
   ],
   "source": [
    "ls"
   ]
  },
  {
   "cell_type": "code",
   "execution_count": 14,
   "metadata": {},
   "outputs": [
    {
     "name": "stdout",
     "output_type": "stream",
     "text": [
      "En la rama master\n",
      "nada para hacer commit, el árbol de trabajo está limpio\n"
     ]
    }
   ],
   "source": [
    "git status"
   ]
  },
  {
   "cell_type": "code",
   "execution_count": 15,
   "metadata": {
    "scrolled": true
   },
   "outputs": [
    {
     "name": "stdout",
     "output_type": "stream",
     "text": [
      "\u001b[33mff7ede1\u001b[m\u001b[33m (\u001b[m\u001b[1;36mHEAD -> \u001b[m\u001b[1;32mmaster\u001b[m\u001b[33m)\u001b[m commit fusionado\n",
      "\u001b[33m0834a0b\u001b[m quinto commit\n",
      "\u001b[33m46c8014\u001b[m\u001b[33m (\u001b[m\u001b[1;32mnueva\u001b[m\u001b[33m)\u001b[m primer commit de la rama nueva\n",
      "\u001b[33mba397e8\u001b[m\u001b[33m (\u001b[m\u001b[1;32mrestituida\u001b[m\u001b[33m)\u001b[m cuarto commit\n",
      "\u001b[33mcb0b6bb\u001b[m segundo commit\n",
      "\u001b[33med7d117\u001b[m primer commit\n"
     ]
    }
   ],
   "source": [
    "git log --oneline"
   ]
  },
  {
   "cell_type": "markdown",
   "metadata": {},
   "source": [
    "* La siguiente linea mostrará la estructura del directorio ```.git/refs``` del repositorio. El resultado es algo similar a:\n",
    "\n",
    "```\n",
    ".git/refs\n",
    "├── heads\n",
    "│   ├── master\n",
    "│   ├── nueva\n",
    "│   └── restituida\n",
    "├── stash\n",
    "└── tags\n",
    "```"
   ]
  },
  {
   "cell_type": "code",
   "execution_count": 16,
   "metadata": {
    "scrolled": true
   },
   "outputs": [
    {
     "name": "stdout",
     "output_type": "stream",
     "text": [
      "\u001b[01;34m.git/refs\u001b[00m\n",
      "├── \u001b[01;34mheads\u001b[00m\n",
      "│   ├── master\n",
      "│   ├── nueva\n",
      "│   └── restituida\n",
      "├── stash\n",
      "└── \u001b[01;34mtags\u001b[00m\n",
      "\n",
      "2 directories, 4 files\n"
     ]
    }
   ],
   "source": [
    "tree .git/refs"
   ]
  },
  {
   "cell_type": "markdown",
   "metadata": {},
   "source": [
    "* El contenido de ```.git/refs/stash``` es un identificador."
   ]
  },
  {
   "cell_type": "code",
   "execution_count": 17,
   "metadata": {
    "scrolled": true
   },
   "outputs": [
    {
     "name": "stdout",
     "output_type": "stream",
     "text": [
      "e3d8a0db6907ddfa0efa87b908832f8bb2f3f2f1\n"
     ]
    }
   ],
   "source": [
    "cat .git/refs/stash"
   ]
  },
  {
   "cell_type": "markdown",
   "metadata": {},
   "source": [
    "* La siguiente celda creará al archivo ```preservado-2```."
   ]
  },
  {
   "cell_type": "code",
   "execution_count": 18,
   "metadata": {},
   "outputs": [],
   "source": [
    "echo Más contenido > preservado-2"
   ]
  },
  {
   "cell_type": "markdown",
   "metadata": {},
   "source": [
    "* Se ejecutará el comando ```git stash```."
   ]
  },
  {
   "cell_type": "code",
   "execution_count": 19,
   "metadata": {},
   "outputs": [],
   "source": [
    "git add --all"
   ]
  },
  {
   "cell_type": "code",
   "execution_count": 20,
   "metadata": {},
   "outputs": [
    {
     "name": "stdout",
     "output_type": "stream",
     "text": [
      "Directorio de trabajo guardado y estado de índice WIP on master: ff7ede1 commit fusionado\n"
     ]
    }
   ],
   "source": [
    "git stash"
   ]
  },
  {
   "cell_type": "markdown",
   "metadata": {},
   "source": [
    "### El comando ```git stash list```.\n",
    "\n",
    "Este comando regresa un listado de estados *WIP* de un repositorio. Cada línea se describe de la siguiente manera:\n",
    "\n",
    "```\n",
    "stash@{<n>} WIP on <rama>: <identificador> <mensaje>\n",
    "```\n",
    "\n",
    "Donde:\n",
    "\n",
    "* ```<n>``` es un número que comienza en ```0``` y va aumentando de uno en uno. El número ```0``` corresponde al evento más reciente.\n",
    "* ```<rama>``` corresponde a la rama en la que se realizó el \"stash\".\n",
    "* ```<identificador>``` corresponde al identificador del commit en el que se realizó el \"stash\".\n",
    "* ```<mensaje>``` corresponde al mensaje del commit en el que se realizó el \"stash\"."
   ]
  },
  {
   "cell_type": "markdown",
   "metadata": {},
   "source": [
    "**Ejemplo:**"
   ]
  },
  {
   "cell_type": "markdown",
   "metadata": {},
   "source": [
    "La siguiente celda contiene la lista de los \"stash\" almacenados."
   ]
  },
  {
   "cell_type": "code",
   "execution_count": 21,
   "metadata": {},
   "outputs": [
    {
     "name": "stdout",
     "output_type": "stream",
     "text": [
      "stash@{0}: WIP on master: ff7ede1 commit fusionado\n",
      "stash@{1}: WIP on master: ff7ede1 commit fusionado\n"
     ]
    }
   ],
   "source": [
    "git stash list"
   ]
  },
  {
   "cell_type": "markdown",
   "metadata": {},
   "source": [
    "### El comando ```git stash show```.\n",
    "\n",
    "Este comando muestra las modificaciones al estado de un stash.\n",
    "\n",
    "```\n",
    "git stash show <stash> \n",
    "```\n",
    "\n",
    "Donde:\n",
    "\n",
    "* ```<stash>``` es un stash específico usando la sintaxis ```stash@{<n>}```. El valor por defecto es ```stash@{0}```."
   ]
  },
  {
   "cell_type": "markdown",
   "metadata": {},
   "source": [
    "**Ejemplos:**"
   ]
  },
  {
   "cell_type": "code",
   "execution_count": 22,
   "metadata": {},
   "outputs": [
    {
     "name": "stdout",
     "output_type": "stream",
     "text": [
      " preservado-2 | 1 \u001b[32m+\u001b[m\n",
      " 1 file changed, 1 insertion(+)\n"
     ]
    }
   ],
   "source": [
    "git stash show"
   ]
  },
  {
   "cell_type": "code",
   "execution_count": 23,
   "metadata": {},
   "outputs": [
    {
     "name": "stdout",
     "output_type": "stream",
     "text": [
      " preservado-2 | 1 \u001b[32m+\u001b[m\n",
      " 1 file changed, 1 insertion(+)\n"
     ]
    }
   ],
   "source": [
    "git stash show stash@{0}"
   ]
  },
  {
   "cell_type": "code",
   "execution_count": 24,
   "metadata": {},
   "outputs": [
    {
     "name": "stdout",
     "output_type": "stream",
     "text": [
      " archivo-2    | 1 \u001b[32m+\u001b[m\n",
      " preservado-1 | 0\n",
      " 2 files changed, 1 insertion(+)\n"
     ]
    }
   ],
   "source": [
    "git stash show stash@{1}"
   ]
  },
  {
   "cell_type": "markdown",
   "metadata": {},
   "source": [
    "### El comando ```git stash branch```.\n",
    "\n",
    "Este comando crea una nueva rama que será una bifurcación de la rama desde la que se originó el stash indicado y la que se le volcará el contenido del stash y éste será elimiando.\n",
    "\n",
    "```\n",
    "git stash <rama> <stash>\n",
    "```\n",
    "\n",
    "Donde:\n",
    "\n",
    "* ```<rama>``` es la etiqueta de la nueva rama.\n",
    "* ```<stash>``` la referencia a un  stash en particular. El valor por defecto es ```stash${0}```."
   ]
  },
  {
   "cell_type": "markdown",
   "metadata": {},
   "source": [
    "**Ejemplo:**"
   ]
  },
  {
   "cell_type": "markdown",
   "metadata": {},
   "source": [
    "* La siguiente celda creará a la ramam ```en_progreso``` usando a ```stash@{1}```."
   ]
  },
  {
   "cell_type": "code",
   "execution_count": 25,
   "metadata": {},
   "outputs": [
    {
     "name": "stdout",
     "output_type": "stream",
     "text": [
      "Cambiado a nueva rama 'en_progreso'\n",
      "En la rama en_progreso\n",
      "Cambios a ser confirmados:\n",
      "  (usa \"git reset HEAD <archivo>...\" para sacar del área de stage)\n",
      "\n",
      "\t\u001b[32mmodificado:     archivo-2\u001b[m\n",
      "\t\u001b[32mnuevo archivo:  preservado-1\u001b[m\n",
      "\n",
      "Botado stash@{1} (e3d8a0db6907ddfa0efa87b908832f8bb2f3f2f1)\n"
     ]
    }
   ],
   "source": [
    "git stash branch en_progreso stash@{1}"
   ]
  },
  {
   "cell_type": "code",
   "execution_count": 26,
   "metadata": {},
   "outputs": [
    {
     "name": "stdout",
     "output_type": "stream",
     "text": [
      "* \u001b[32men_progreso\u001b[m\n",
      "  master\u001b[m\n",
      "  nueva\u001b[m\n",
      "  restituida\u001b[m\n"
     ]
    }
   ],
   "source": [
    "git branch"
   ]
  },
  {
   "cell_type": "code",
   "execution_count": 27,
   "metadata": {
    "scrolled": true
   },
   "outputs": [
    {
     "name": "stdout",
     "output_type": "stream",
     "text": [
      "\u001b[33mff7ede1\u001b[m\u001b[33m (\u001b[m\u001b[1;36mHEAD -> \u001b[m\u001b[1;32men_progreso\u001b[m\u001b[33m, \u001b[m\u001b[1;32mmaster\u001b[m\u001b[33m)\u001b[m commit fusionado\n",
      "\u001b[33m0834a0b\u001b[m quinto commit\n",
      "\u001b[33m46c8014\u001b[m\u001b[33m (\u001b[m\u001b[1;32mnueva\u001b[m\u001b[33m)\u001b[m primer commit de la rama nueva\n",
      "\u001b[33mba397e8\u001b[m\u001b[33m (\u001b[m\u001b[1;32mrestituida\u001b[m\u001b[33m)\u001b[m cuarto commit\n",
      "\u001b[33mcb0b6bb\u001b[m segundo commit\n",
      "\u001b[33med7d117\u001b[m primer commit\n"
     ]
    }
   ],
   "source": [
    "git log --oneline"
   ]
  },
  {
   "cell_type": "code",
   "execution_count": 28,
   "metadata": {},
   "outputs": [
    {
     "name": "stdout",
     "output_type": "stream",
     "text": [
      "En la rama en_progreso\n",
      "Cambios a ser confirmados:\n",
      "  (usa \"git reset HEAD <archivo>...\" para sacar del área de stage)\n",
      "\n",
      "\t\u001b[32mmodificado:     archivo-2\u001b[m\n",
      "\t\u001b[32mnuevo archivo:  preservado-1\u001b[m\n",
      "\n"
     ]
    }
   ],
   "source": [
    "git status"
   ]
  },
  {
   "cell_type": "code",
   "execution_count": 29,
   "metadata": {},
   "outputs": [
    {
     "name": "stdout",
     "output_type": "stream",
     "text": [
      "archivo-1  archivo-2  archivo_nuevo  invisible  preservado-1\n"
     ]
    }
   ],
   "source": [
    "ls"
   ]
  },
  {
   "cell_type": "code",
   "execution_count": 30,
   "metadata": {},
   "outputs": [
    {
     "name": "stdout",
     "output_type": "stream",
     "text": [
      "stash@{0}: WIP on master: ff7ede1 commit fusionado\n"
     ]
    }
   ],
   "source": [
    "git stash list"
   ]
  },
  {
   "cell_type": "markdown",
   "metadata": {},
   "source": [
    "* Se realizará un commit con todas las modificaciones."
   ]
  },
  {
   "cell_type": "code",
   "execution_count": 31,
   "metadata": {},
   "outputs": [],
   "source": [
    "git add --all"
   ]
  },
  {
   "cell_type": "code",
   "execution_count": 32,
   "metadata": {},
   "outputs": [
    {
     "name": "stdout",
     "output_type": "stream",
     "text": [
      "[en_progreso f5d98b8] trabajo en firme\n",
      " 2 files changed, 1 insertion(+)\n",
      " create mode 100644 preservado-1\n"
     ]
    }
   ],
   "source": [
    "git commit -m \"trabajo en firme\""
   ]
  },
  {
   "cell_type": "markdown",
   "metadata": {},
   "source": [
    "### El comando ```git stash apply```.\n",
    "\n",
    "Este comando aplica un stash específico a una rama que no necesariamente es desde la que se originó el estas. Dicho stash no es eliminado al aplicarse.\n",
    "\n",
    "```\n",
    "git apply <stash>\n",
    "```\n",
    "Donde: \n",
    "\n",
    "* ```<stash>``` la referencia a un  stash en particular. El valor por defecto es ```stash${0}```."
   ]
  },
  {
   "cell_type": "markdown",
   "metadata": {},
   "source": [
    "**Ejemplo:**"
   ]
  },
  {
   "cell_type": "markdown",
   "metadata": {},
   "source": [
    "* La siguiente celda moverá el repositorio a la rama ```nueva```."
   ]
  },
  {
   "cell_type": "code",
   "execution_count": 33,
   "metadata": {},
   "outputs": [
    {
     "name": "stdout",
     "output_type": "stream",
     "text": [
      "Cambiado a rama 'nueva'\n"
     ]
    }
   ],
   "source": [
    "git checkout nueva"
   ]
  },
  {
   "cell_type": "code",
   "execution_count": 34,
   "metadata": {},
   "outputs": [
    {
     "name": "stdout",
     "output_type": "stream",
     "text": [
      "archivo-1  archivo-2  archivo_nuevo  invisible\n"
     ]
    }
   ],
   "source": [
    "ls"
   ]
  },
  {
   "cell_type": "markdown",
   "metadata": {},
   "source": [
    "* Se ejecutará el comando  ```git stash apply```."
   ]
  },
  {
   "cell_type": "code",
   "execution_count": 35,
   "metadata": {
    "scrolled": false
   },
   "outputs": [
    {
     "name": "stdout",
     "output_type": "stream",
     "text": [
      "En la rama nueva\n",
      "Cambios a ser confirmados:\n",
      "  (usa \"git reset HEAD <archivo>...\" para sacar del área de stage)\n",
      "\n",
      "\t\u001b[32mnuevo archivo:  preservado-2\u001b[m\n",
      "\n"
     ]
    }
   ],
   "source": [
    "git stash apply"
   ]
  },
  {
   "cell_type": "markdown",
   "metadata": {},
   "source": [
    "* El stash no fue eliminado."
   ]
  },
  {
   "cell_type": "code",
   "execution_count": 36,
   "metadata": {
    "scrolled": true
   },
   "outputs": [
    {
     "name": "stdout",
     "output_type": "stream",
     "text": [
      "stash@{0}: WIP on master: ff7ede1 commit fusionado\n"
     ]
    }
   ],
   "source": [
    "git stash list"
   ]
  },
  {
   "cell_type": "markdown",
   "metadata": {},
   "source": [
    "### El comando ```git stash pop```.\n",
    "\n",
    "Este comando permite volcar un stash en una rama. Una vez aplicado, el stash será eliminado.\n",
    "\n",
    "```\n",
    "git stash pop <stash>\n",
    "```\n",
    "\n",
    "Donde:\n",
    "\n",
    "* ```<stash>``` la referencia a un  stash en particular. El valor por defecto es ```stash${0}```."
   ]
  },
  {
   "cell_type": "markdown",
   "metadata": {},
   "source": [
    "**Ejemplo:**"
   ]
  },
  {
   "cell_type": "markdown",
   "metadata": {},
   "source": [
    "* Se ejecutará el comando ```stash pop```."
   ]
  },
  {
   "cell_type": "code",
   "execution_count": 37,
   "metadata": {},
   "outputs": [
    {
     "name": "stdout",
     "output_type": "stream",
     "text": [
      "En la rama nueva\n",
      "Cambios a ser confirmados:\n",
      "  (usa \"git reset HEAD <archivo>...\" para sacar del área de stage)\n",
      "\n",
      "\t\u001b[32mnuevo archivo:  preservado-2\u001b[m\n",
      "\n",
      "Botado refs/stash@{0} (d4995b7d6da6de4b62098aa3e570f7c208db1112)\n"
     ]
    }
   ],
   "source": [
    "git stash pop"
   ]
  },
  {
   "cell_type": "code",
   "execution_count": 38,
   "metadata": {
    "scrolled": true
   },
   "outputs": [
    {
     "name": "stdout",
     "output_type": "stream",
     "text": [
      "archivo-1  archivo-2  archivo_nuevo  invisible  preservado-2\n"
     ]
    }
   ],
   "source": [
    "ls"
   ]
  },
  {
   "cell_type": "markdown",
   "metadata": {},
   "source": [
    "* La siguiente celda mostrará el listado de stash vacío."
   ]
  },
  {
   "cell_type": "code",
   "execution_count": 39,
   "metadata": {},
   "outputs": [],
   "source": [
    "git stash list"
   ]
  },
  {
   "cell_type": "markdown",
   "metadata": {},
   "source": [
    "### El comando ```git stash drop```.\n",
    "\n",
    "Este comando eliminará a un stash del listado.\n",
    "\n",
    "```\n",
    "git stash pop <stash>\n",
    "```\n",
    "Donde:\n",
    "\n",
    "* ```<stash>``` la referencia a un  stash en particular..El valor por defecto es ```stash${0}```."
   ]
  },
  {
   "cell_type": "markdown",
   "metadata": {},
   "source": [
    "**Ejemplo:**"
   ]
  },
  {
   "cell_type": "markdown",
   "metadata": {},
   "source": [
    "* La siguiente celda moverá al repositorio a la rama ```master```."
   ]
  },
  {
   "cell_type": "code",
   "execution_count": 40,
   "metadata": {
    "scrolled": true
   },
   "outputs": [
    {
     "name": "stdout",
     "output_type": "stream",
     "text": [
      "A\tpreservado-2\n",
      "Cambiado a rama 'master'\n"
     ]
    }
   ],
   "source": [
    "git checkout master"
   ]
  },
  {
   "cell_type": "markdown",
   "metadata": {},
   "source": [
    "* La siguiente celda creará al archivo ```preservado-3```."
   ]
  },
  {
   "cell_type": "code",
   "execution_count": 41,
   "metadata": {},
   "outputs": [],
   "source": [
    "echo \"Nuevo archivo.\" > preservado-3"
   ]
  },
  {
   "cell_type": "markdown",
   "metadata": {},
   "source": [
    "* Las siguientes celdas crearán un nuevo stash."
   ]
  },
  {
   "cell_type": "code",
   "execution_count": 42,
   "metadata": {},
   "outputs": [],
   "source": [
    "git add --all"
   ]
  },
  {
   "cell_type": "code",
   "execution_count": 43,
   "metadata": {
    "scrolled": true
   },
   "outputs": [
    {
     "name": "stdout",
     "output_type": "stream",
     "text": [
      "Directorio de trabajo guardado y estado de índice WIP on master: ff7ede1 commit fusionado\n"
     ]
    }
   ],
   "source": [
    "git stash"
   ]
  },
  {
   "cell_type": "code",
   "execution_count": 44,
   "metadata": {},
   "outputs": [
    {
     "name": "stdout",
     "output_type": "stream",
     "text": [
      "stash@{0}: WIP on master: ff7ede1 commit fusionado\n"
     ]
    }
   ],
   "source": [
    "git stash list"
   ]
  },
  {
   "cell_type": "markdown",
   "metadata": {},
   "source": [
    "* La siguiente celda creará al archivo ```preservado-4```."
   ]
  },
  {
   "cell_type": "code",
   "execution_count": 45,
   "metadata": {},
   "outputs": [],
   "source": [
    "echo \"Archivo nuevo.\" > preservado-4"
   ]
  },
  {
   "cell_type": "markdown",
   "metadata": {},
   "source": [
    "* Las siguientes celdas crearán un nuevo stash."
   ]
  },
  {
   "cell_type": "code",
   "execution_count": 46,
   "metadata": {},
   "outputs": [],
   "source": [
    "git add --all"
   ]
  },
  {
   "cell_type": "code",
   "execution_count": 47,
   "metadata": {},
   "outputs": [
    {
     "name": "stdout",
     "output_type": "stream",
     "text": [
      "Directorio de trabajo guardado y estado de índice WIP on master: ff7ede1 commit fusionado\n"
     ]
    }
   ],
   "source": [
    "git stash"
   ]
  },
  {
   "cell_type": "code",
   "execution_count": 48,
   "metadata": {
    "scrolled": true
   },
   "outputs": [
    {
     "name": "stdout",
     "output_type": "stream",
     "text": [
      "stash@{0}: WIP on master: ff7ede1 commit fusionado\n",
      "stash@{1}: WIP on master: ff7ede1 commit fusionado\n"
     ]
    }
   ],
   "source": [
    "git stash list"
   ]
  },
  {
   "cell_type": "markdown",
   "metadata": {},
   "source": [
    "* La siguiente celda eliminará a ```stash@{1}``` del listado de stash."
   ]
  },
  {
   "cell_type": "code",
   "execution_count": 49,
   "metadata": {},
   "outputs": [
    {
     "name": "stdout",
     "output_type": "stream",
     "text": [
      "Botado stash@{1} (405216bd17fb3b2dd60846361685bbefac999772)\n"
     ]
    }
   ],
   "source": [
    "git stash drop stash@{1}"
   ]
  },
  {
   "cell_type": "code",
   "execution_count": 50,
   "metadata": {},
   "outputs": [
    {
     "name": "stdout",
     "output_type": "stream",
     "text": [
      "stash@{0}: WIP on master: ff7ede1 commit fusionado\n"
     ]
    }
   ],
   "source": [
    "git stash list"
   ]
  },
  {
   "cell_type": "markdown",
   "metadata": {},
   "source": [
    "### El comando ```git stash clear```.\n",
    "\n",
    "Este comando limpia el listado de stash.\n",
    "\n",
    "```\n",
    "git stash clean\n",
    "```"
   ]
  },
  {
   "cell_type": "markdown",
   "metadata": {},
   "source": [
    "**Ejemplo:**"
   ]
  },
  {
   "cell_type": "markdown",
   "metadata": {},
   "source": [
    "* La siguiente celda limpiará el listado de stash."
   ]
  },
  {
   "cell_type": "code",
   "execution_count": 51,
   "metadata": {},
   "outputs": [],
   "source": [
    "git stash clear"
   ]
  },
  {
   "cell_type": "code",
   "execution_count": 52,
   "metadata": {},
   "outputs": [],
   "source": [
    "git stash list"
   ]
  },
  {
   "cell_type": "markdown",
   "metadata": {},
   "source": [
    "<p style=\"text-align: center\"><a rel=\"license\" href=\"http://creativecommons.org/licenses/by/4.0/\"><img alt=\"Licencia Creative Commons\" style=\"border-width:0\" src=\"https://i.creativecommons.org/l/by/4.0/80x15.png\" /></a><br />Esta obra está bajo una <a rel=\"license\" href=\"http://creativecommons.org/licenses/by/4.0/\">Licencia Creative Commons Atribución 4.0 Internacional</a>.</p>\n",
    "<p style=\"text-align: center\">&copy; José Luis Chiquete Valdivieso. 2020.</p>"
   ]
  }
 ],
 "metadata": {
  "kernelspec": {
   "display_name": "Bash",
   "language": "bash",
   "name": "bash"
  },
  "language_info": {
   "codemirror_mode": "shell",
   "file_extension": ".sh",
   "mimetype": "text/x-sh",
   "name": "bash"
  }
 },
 "nbformat": 4,
 "nbformat_minor": 2
}
