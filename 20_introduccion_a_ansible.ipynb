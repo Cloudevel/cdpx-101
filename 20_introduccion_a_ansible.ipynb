{
 "cells": [
  {
   "cell_type": "markdown",
   "metadata": {},
   "source": [
    "<a href=\"https://cloudevel.com\"> <img src=\"img/cloudevel.png\" width=\"500px\"></a>"
   ]
  },
  {
   "cell_type": "markdown",
   "metadata": {},
   "source": [
    "# Introducción a *Ansible*."
   ]
  },
  {
   "cell_type": "markdown",
   "metadata": {},
   "source": [
    "## Preliminares."
   ]
  },
  {
   "cell_type": "code",
   "execution_count": null,
   "metadata": {
    "scrolled": true
   },
   "outputs": [],
   "source": [
    "sudo apt install ansible -y"
   ]
  },
  {
   "cell_type": "code",
   "execution_count": null,
   "metadata": {},
   "outputs": [],
   "source": [
    "ansible --version"
   ]
  },
  {
   "cell_type": "markdown",
   "metadata": {},
   "source": [
    "## Sistemas de automatización.\n",
    "\n",
    "Es común que los administradores de sistemas realicen operaciones rutinarias que implican realizar una serie de acciones con exactamente los mismos pasos en uno o más servidores. Del mismo modo es común que los administradores cuenten con una biblioteca de scripts que realizan dichas operaciones.\n",
    "\n",
    "Conforme los centros de cómputo se ha hecho cada vez más complejos, la necesidad de automatizar la configuración y las operaciones de incluso cientos de servidores representa un reto mayúsculo que requiere más que una simple biblioteca de scripts. Para tales casos se han creado herramientas tales como:\n",
    "\n",
    "* [*Puppet*](https://puppet.com/).\n",
    "* [*Chef*](https://www.chef.io/products/)\n",
    "* [*Salt*](https://www.saltstack.com/)\n",
    "* [*Ansible*](https://www.ansible.com/)\n",
    "\n",
    "Cada una de estas herramientas permiten automatizar:\n",
    "\n",
    "* Configuraciones de servidores.\n",
    "* Configuracion de redes.\n",
    "* Aprovisionamiento de infraestructura.\n",
    "* Operaciones de DevOps."
   ]
  },
  {
   "cell_type": "markdown",
   "metadata": {},
   "source": [
    "## Ansible.\n",
    "\n",
    "Ansoble es una herramienta de automatización que sólo requiere que el anfitrión cuente con una conexión *SSH* y *Python* instalado."
   ]
  },
  {
   "cell_type": "markdown",
   "metadata": {},
   "source": [
    "## Componentes.\n",
    "\n",
    "* Nodo de control\n",
    "* Nodos gestionados\n",
    "* Inventario\n",
    "* [Módulos](https://docs.ansible.com/ansible/latest/modules/modules_by_category.html)"
   ]
  },
  {
   "cell_type": "markdown",
   "metadata": {},
   "source": [
    "## El inventario (inventory).\n",
    "\n",
    "Ansible permite configurar un inventario de nodos o anfitriones usando en archivo ```/etc/ansible/hosts```.\n",
    "\n",
    "\n",
    "https://docs.ansible.com/ansible/latest/network/getting_started/first_inventory.html"
   ]
  },
  {
   "cell_type": "markdown",
   "metadata": {},
   "source": [
    "```yaml\n",
    "all:\n",
    "  vars:\n",
    "     ansible_user: root\n",
    "     ansible_password: root\n",
    "  hosts:\n",
    "    172.28.6.1\n",
    "  children:\n",
    "   web:\n",
    "      hosts:\n",
    "        172.28.6.2\n",
    "        172.28.6.3\n",
    "    dbs:\n",
    "      hosts:\n",
    "        172.28.6.1\n",
    "        172.28.6.4\n",
    "```    "
   ]
  },
  {
   "cell_type": "code",
   "execution_count": null,
   "metadata": {},
   "outputs": [],
   "source": [
    "sudo mv src/20/hosts /etc/ansible/hosts"
   ]
  },
  {
   "cell_type": "code",
   "execution_count": null,
   "metadata": {},
   "outputs": [],
   "source": [
    "ansible all -m ping"
   ]
  },
  {
   "cell_type": "code",
   "execution_count": null,
   "metadata": {},
   "outputs": [],
   "source": [
    "sudo docker stop $(sudo docker ps -a -q)\n",
    "sudo docker container prune -f"
   ]
  },
  {
   "cell_type": "code",
   "execution_count": null,
   "metadata": {},
   "outputs": [],
   "source": [
    "sudo docker image rm ansible"
   ]
  },
  {
   "cell_type": "markdown",
   "metadata": {},
   "source": [
    "<p style=\"text-align: center\"><a rel=\"license\" href=\"http://creativecommons.org/licenses/by/4.0/\"><img alt=\"Licencia Creative Commons\" style=\"border-width:0\" src=\"https://i.creativecommons.org/l/by/4.0/80x15.png\" /></a><br />Esta obra está bajo una <a rel=\"license\" href=\"http://creativecommons.org/licenses/by/4.0/\">Licencia Creative Commons Atribución 4.0 Internacional</a>.</p>\n",
    "<p style=\"text-align: center\">&copy; José Luis Chiquete Valdivieso. 2020.</p>"
   ]
  }
 ],
 "metadata": {
  "kernelspec": {
   "display_name": "Bash",
   "language": "bash",
   "name": "bash"
  },
  "language_info": {
   "codemirror_mode": "shell",
   "file_extension": ".sh",
   "mimetype": "text/x-sh",
   "name": "bash"
  }
 },
 "nbformat": 4,
 "nbformat_minor": 2
}
