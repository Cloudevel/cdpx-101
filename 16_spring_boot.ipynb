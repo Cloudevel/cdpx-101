{
 "cells": [
  {
   "cell_type": "markdown",
   "metadata": {},
   "source": [
    "<a href=\"https://cloudevel.com\"> <img src=\"img/cloudevel.png\" width=\"500px\"></a>"
   ]
  },
  {
   "cell_type": "markdown",
   "metadata": {},
   "source": [
    "# Spring Boot."
   ]
  },
  {
   "cell_type": "markdown",
   "metadata": {},
   "source": [
    "## Preliminares.\n",
    "\n",
    "Antes de empezar, es necesario instalar y configurar algunas herramientas básicas."
   ]
  },
  {
   "cell_type": "code",
   "execution_count": null,
   "metadata": {},
   "outputs": [],
   "source": [
    "sudo apt update -y && sudo apt upgrade -y"
   ]
  },
  {
   "cell_type": "code",
   "execution_count": null,
   "metadata": {},
   "outputs": [],
   "source": [
    "sudo apt install ant ant-optional antlr groovy ivy junit4 openjdk-11-jdk -y"
   ]
  },
  {
   "cell_type": "code",
   "execution_count": null,
   "metadata": {},
   "outputs": [],
   "source": [
    "wget https://downloads.gradle-dn.com/distributions/gradle-6.1-bin.zip"
   ]
  },
  {
   "cell_type": "code",
   "execution_count": null,
   "metadata": {},
   "outputs": [],
   "source": [
    "sudo unzip gradle-6.1-bin.zip -d /opt/"
   ]
  },
  {
   "cell_type": "code",
   "execution_count": null,
   "metadata": {},
   "outputs": [],
   "source": [
    "sudo ln -sf /opt/gradle-6.1/bin/gradle /usr/local/bin/gradle"
   ]
  },
  {
   "cell_type": "code",
   "execution_count": null,
   "metadata": {},
   "outputs": [],
   "source": [
    "gradle -v"
   ]
  },
  {
   "cell_type": "markdown",
   "metadata": {},
   "source": [
    "## *Spring Framework*.\n",
    "\n",
    "*Spring Framework* o *Spring* es un marco de trabajo de código abierto enfocado al desarrollo de aplicaciones empresariales basado en *Java*. La versión más reciente de este framework es *Spring 5*.\n",
    "\n",
    "La arquitecture de *Spring* se basa en la [Inversión de Control](https://en.wikipedia.org/wiki/Inversion_of_control) y la [Inyección de dependencias](https://en.wikipedia.org/wiki/Dependency_injection), de tal modo que es posible crear aplicaciones muy complejas declarando sus componentes.\n",
    "\n",
    "A lo largo del tiempo, *Spring* ha desarrollado diversos [proyectos](https://spring.io/projects) alrededor del su [framework principal](https://spring.io/projects/spring-framework), siendo algunos de ellos:\n",
    "\n",
    "* [*Spring Cloud*](https://spring.io/projects/spring-cloud).\n",
    "* [*Spring Boot*](https://spring.io/projects/spring-boot).\n",
    "* [*Spring Data*](https://spring.io/projects/spring-data).\n",
    "* [*Spring Security*](https://spring.io/projects/spring-security).\n",
    "* [*Spring Intergation*](https://spring.io/projects/spring-integration).\n",
    "* [*Spring Batch*](https://spring.io/projects/spring-batch).\n",
    "* [*Spring Mobile*](https://spring.io/projects/spring-mobile).\n",
    "* [*Spring for Android*](https://spring.io/projects/spring-android).\n",
    "* [*Spring AMQP*](https://spring.io/projects/spring-amqp)."
   ]
  },
  {
   "cell_type": "markdown",
   "metadata": {},
   "source": [
    "## *Spring Boot.*\n",
    "\n",
    "[*Spring Boot*](https://spring.io/projects/spring-boot) es una herramienta que forma parte de [*Spring Framework*](https://spring.io), la cual permite desarrollar y desplegar aplicaciones web de forma rápida y con muy pocas configuraciones.\n",
    "\n",
    "* Es compatible con [*Apache Maven*](https://maven.apache.org/) y [*Gradle*](https://gradle.org/).\n",
    "* Permite utilizar código escrito en *Java*, [*Groovy*](https://groovy-lang.org/) y [*Kotlin*](https://kotlinlang.org/).\n",
    "* Cuenta con todo el stack de *Spring* para desarrollo de aplicaciones web.\n",
    "* Cuenta con una interfaz de línea de comandos (CLI).\n",
    "* Permite crear plantillas de proyectos de forma automatizada.\n"
   ]
  },
  {
   "cell_type": "markdown",
   "metadata": {},
   "source": [
    "<img src=\"img/spring-diagrama.png\" width=\"600px\"/>"
   ]
  },
  {
   "cell_type": "markdown",
   "metadata": {},
   "source": [
    "La documentación de referencia de Spring Boot puede ser consultada desde:\n",
    "https://docs.spring.io/spring-boot/docs/2.1.12.RELEASE/reference/html/"
   ]
  },
  {
   "cell_type": "markdown",
   "metadata": {},
   "source": [
    "## La *CLI* de *Spring Boot*.\n",
    "\n",
    "*Spring Boot* permite ejecutar aplicaciones de forma rápida directamente desde una terminal.\n",
    "\n",
    "La referencia de la *CLI* puede ser consultada desde:\n",
    "\n",
    "https://docs.spring.io/spring-boot/docs/current/reference/html/spring-boot-cli.html"
   ]
  },
  {
   "cell_type": "markdown",
   "metadata": {},
   "source": [
    "### Instalación y configuraciónde la *CLI*.\n",
    "\n",
    "* A continuación se descargará, instala'ra y configurará la *CLI* de *Spring Boot*."
   ]
  },
  {
   "cell_type": "code",
   "execution_count": null,
   "metadata": {},
   "outputs": [],
   "source": [
    "wget https://repo.spring.io/release/org/springframework/boot/spring-boot-cli/2.2.4.RELEASE/spring-boot-cli-2.2.4.RELEASE-bin.tar.gz"
   ]
  },
  {
   "cell_type": "code",
   "execution_count": null,
   "metadata": {},
   "outputs": [],
   "source": [
    "tar xvfz spring-boot-cli-2.2.4.RELEASE-bin.tar.gz -C ~/"
   ]
  },
  {
   "cell_type": "code",
   "execution_count": null,
   "metadata": {},
   "outputs": [],
   "source": [
    "chmod -R +rw ~/spring-2.2.4.RELEASE"
   ]
  },
  {
   "cell_type": "code",
   "execution_count": null,
   "metadata": {},
   "outputs": [],
   "source": [
    "mv ~/spring-2.2.4.RELEASE ~/spring"
   ]
  },
  {
   "cell_type": "code",
   "execution_count": null,
   "metadata": {},
   "outputs": [],
   "source": [
    "export PATH=$PATH:~/spring/bin"
   ]
  },
  {
   "cell_type": "code",
   "execution_count": null,
   "metadata": {},
   "outputs": [],
   "source": [
    "spring --version"
   ]
  },
  {
   "cell_type": "markdown",
   "metadata": {},
   "source": [
    "### El \"*Hola, Mundo*\" desde la *CLI* de *Spring Boot*.\n",
    "\n",
    "El archivo [src/17/hola_mundo/hola.groovy](src/17/hola_mundo/hola.groovy\") contiene el siguiente código, el cual desplegará un mensaje simple desde un servicio web de *Spring Boot*:\n",
    "\n",
    "\n",
    "``` groovy\n",
    "@Controller\n",
    "class Ejemplo {\n",
    "   @RequestMapping(\"/\")\n",
    "   @ResponseBody\n",
    "   public String hola() {\n",
    "      \"Hola, Mundo\"\n",
    "   }\n",
    "}\n",
    "```\n",
    "\n"
   ]
  },
  {
   "cell_type": "markdown",
   "metadata": {},
   "source": [
    "* La siguiente celda despelgará un servicio web en http://localhost:8080 a partir del archivo previo."
   ]
  },
  {
   "cell_type": "code",
   "execution_count": null,
   "metadata": {},
   "outputs": [],
   "source": [
    "spring run src/17/hola_mundo/hola.groovy"
   ]
  },
  {
   "cell_type": "markdown",
   "metadata": {},
   "source": [
    "### *Spring Initializr*.\n",
    "\n",
    "Para facilitar el desarrollo de plantillas para el desarrollo de aplicaciones a la medida de forma ágil, está disponible el servico en línea llamado *Spring Initializr*, mediante el cual es posible crear una estructura de archivos compatibles con *Apache Maven* y *Gradle* que incluyen los componentes y dependencias de un proyecto específico.\n",
    "\n",
    "El servicio se encuentra en https://start.spring.io/\n",
    "\n",
    "Al final se podrá descargar un archivo comp-rimido que contiene lo necesario para comenzar a desarrolla una aplicación."
   ]
  },
  {
   "cell_type": "markdown",
   "metadata": {},
   "source": [
    "## El \"*Hola, Mundo*\" con una plantilla de *Spring Boot*.\n",
    "\n",
    "El archivo [src/17/demo.zip](src/17/demo.zip) contiene una estructura de directorios y archivos creada mediante *Spring Initializr*.\n",
    "\n",
    "* Se utilizará *Gradle* para construir un archivo *.jar*.\n",
    "* Se seleccionó *Groovy* como el lemguaje por defecto de la aplicación. \n",
    "* El grupo del proyecto es ```tutorial```.\n",
    "* El nombre del proyecto es ```demo```."
   ]
  },
  {
   "cell_type": "markdown",
   "metadata": {},
   "source": [
    "* A continuación se desempaquetará el proyecto ```demo```."
   ]
  },
  {
   "cell_type": "code",
   "execution_count": null,
   "metadata": {},
   "outputs": [],
   "source": [
    "cd src/17"
   ]
  },
  {
   "cell_type": "code",
   "execution_count": null,
   "metadata": {},
   "outputs": [],
   "source": [
    "unzip demo.zip"
   ]
  },
  {
   "cell_type": "markdown",
   "metadata": {},
   "source": [
    "* El archivo [src/17/DemoApplication.groovy](src/17/DemoApplication.groovy) contiene el siguiente código:\n",
    "\n",
    "```groovy\n",
    "package com.tutorial.demo;\n",
    "\n",
    "import org.springframework.boot.SpringApplication;\n",
    "import org.springframework.boot.autoconfigure.SpringBootApplication;\n",
    "import org.springframework.web.bind.annotation.RequestMapping;\n",
    "import org.springframework.web.bind.annotation.RestController;\n",
    "\n",
    "@SpringBootApplication\n",
    "@RestController\n",
    "\n",
    "public class DemoApplication {\n",
    "   public static void main(String[] args) {\n",
    "      SpringApplication.run(DemoApplication.class, args);\n",
    "   }\n",
    "   @RequestMapping(value = \"/\")\n",
    "   public String hola() {\n",
    "      return \"<h1>Hola, Mundo.</h1>\";\n",
    "   }\n",
    "}\n",
    "```"
   ]
  },
  {
   "cell_type": "markdown",
   "metadata": {},
   "source": [
    "### La anotación ```@SpringBootApplication```.\n",
    "\n",
    "Esta anotación indica que el archivo contiene a una aplicación de *Spring Boot*.\n",
    "\n",
    "La refecia puede ser consultada en https://docs.spring.io/spring-boot/docs/2.1.12.RELEASE/reference/html/using-boot-using-springbootapplication-annotation.html"
   ]
  },
  {
   "cell_type": "markdown",
   "metadata": {},
   "source": [
    "### La anotación ```@RestController```.\n",
    "\n",
    "Esta anotación invoca a un controlador *MVC*, especializado en servicios *REST*."
   ]
  },
  {
   "cell_type": "markdown",
   "metadata": {},
   "source": [
    "### La anotación ```@RequestMapping```.\n",
    "\n",
    "Esta anotación permite ligar una URI local con la definición de un método . El objeto que regrese dicho métodos será publicado en la URL.\n",
    "\n",
    "```\n",
    " @RequestMapping(value = \"<URL>\")\n",
    "   public String <metodo>() {\n",
    "      return <contenido>;\n",
    "   }\n",
    "```\n",
    "\n",
    "La siguiente liga hace referencia a unn artículo que describe la anotación https://springframework.guru/spring-requestmapping-annotation/"
   ]
  },
  {
   "cell_type": "markdown",
   "metadata": {},
   "source": [
    "* A continuación se copiará el archivo  ```DemoApplication.groovy``` en le directorio ```demo/src/main/groovy/com/tutorial/demo/DemoApplication.groovy```."
   ]
  },
  {
   "cell_type": "code",
   "execution_count": null,
   "metadata": {},
   "outputs": [],
   "source": [
    "cp DemoApplication.groovy demo/src/main/groovy/com/tutorial/demo/DemoApplication.groovy"
   ]
  },
  {
   "cell_type": "code",
   "execution_count": null,
   "metadata": {},
   "outputs": [],
   "source": [
    "cd demo"
   ]
  },
  {
   "cell_type": "markdown",
   "metadata": {},
   "source": [
    "* Se construirá el archivo ```build/libs/demo-0.0.1-SNAPSHOT.jar``` usando *Gradle*."
   ]
  },
  {
   "cell_type": "code",
   "execution_count": null,
   "metadata": {},
   "outputs": [],
   "source": [
    "gradle clean build"
   ]
  },
  {
   "cell_type": "markdown",
   "metadata": {},
   "source": [
    "* Se ejecutará dicho archivo, el cual levantará un servicio que podrá ser consultado en http://localhost:8080"
   ]
  },
  {
   "cell_type": "code",
   "execution_count": null,
   "metadata": {},
   "outputs": [],
   "source": [
    "java -jar build/libs/demo-0.0.1-SNAPSHOT.jar"
   ]
  },
  {
   "cell_type": "markdown",
   "metadata": {},
   "source": [
    "* Se regresará al directorio superior."
   ]
  },
  {
   "cell_type": "code",
   "execution_count": null,
   "metadata": {},
   "outputs": [],
   "source": [
    "cd .."
   ]
  },
  {
   "cell_type": "markdown",
   "metadata": {},
   "source": [
    "## Despliegue de un proyecto de *API REST* simple.\n",
    "\n",
    "El archivo [demo-rest.zip](demo-rest.zip) contiene una estructura de directorios y archivos creada mediante *Spring Initializr*.\n",
    "\n",
    "* Se utilizará *Gradle* para construir un archivo *.jar*.\n",
    "* Se seleccionó *Groovy* como el lemguaje por defecto de la aplicación. \n",
    "* El grupo del proyecto es ```tutorial```.\n",
    "* El nombre del proyecto es ```demo-rest```.\n",
    "* La aplicación utiliza una estructura [*HashMap*](https://docs.oracle.com/javase/8/docs/api/java/util/HashMap.html) para almacenar objetos que contienen los atributos:\n",
    "    * ```id```\n",
    "    * ```name```"
   ]
  },
  {
   "cell_type": "markdown",
   "metadata": {},
   "source": [
    "### Definción del proyecto.\n",
    "\n",
    "* La *API REST* corresponde a un sistema *CRUD* para objetos instanciados de una clase ```Product```.\n",
    "* El endpoint [localhost:8080/products](localhost:8080/products) tiene habilitados los métodos:\n",
    "   * ```GET``` para obtener un listado de los productos en formato *JSON*.\n",
    "   * ```POST``` el cual dará de alta un nuevo producto al recibir datos en formato *JSON* con la estructura ```{\"id\":\"<número>\", \"name\":\"<nombre>\"}```.\n",
    "* El endpoint ```localhost:800/products/<id>```, donde ```<id>``` es un número de identificación, tiene habilitados los métodos.\n",
    "   * ```PUT``` el cual modificará a un producto al recibir datos en formato *JSON* con la estructura ```{\"name\":\"<nombre>\"}```.\n",
    "   * ```DELETE``` el cual eliminará al producto con el valor ```<id>``` correspondiente.\n",
    "* Los datos serán almacenados y gestionados en una estructura ```HashMap```."
   ]
  },
  {
   "cell_type": "markdown",
   "metadata": {},
   "source": [
    "* A continuación se desempaquetará el proyecto ```demo-rest```."
   ]
  },
  {
   "cell_type": "code",
   "execution_count": null,
   "metadata": {},
   "outputs": [],
   "source": [
    "unzip demo-rest.zip"
   ]
  },
  {
   "cell_type": "markdown",
   "metadata": {},
   "source": [
    "### El archivo ```DemoRestApplication.groovy```.\n",
    "\n",
    "``` groovy\n",
    "package com.tutorial.demorest\n",
    "\n",
    "import org.springframework.boot.SpringApplication\n",
    "import org.springframework.boot.autoconfigure.SpringBootApplication\n",
    "\n",
    "@SpringBootApplication\n",
    "class DemoRestApplication {\n",
    "\n",
    "\tstatic void main(String[] args) {\n",
    "\t\tSpringApplication.run(DemoRestApplication, args)\n",
    "\t}\n",
    "\n",
    "}\n",
    "```"
   ]
  },
  {
   "cell_type": "markdown",
   "metadata": {},
   "source": [
    "### El archivo ```ProductServiceController.java```.\n",
    "\n",
    "Este archivo es el encargado de la parte del controlador de *MVC*, realziando operaciones específicas de un *endpoint* en función del métido utilizado para acceder a este. \n",
    "\n",
    "\n",
    "```java\n",
    "package com.tutorial.demorest.controller;\n",
    "\n",
    "import java.util.HashMap;\n",
    "import java.util.Map;\n",
    "\n",
    "import org.springframework.http.HttpStatus;\n",
    "import org.springframework.http.ResponseEntity;\n",
    "import org.springframework.web.bind.annotation.PathVariable;\n",
    "import org.springframework.web.bind.annotation.RequestBody;\n",
    "import org.springframework.web.bind.annotation.RequestMapping;\n",
    "import org.springframework.web.bind.annotation.RequestMethod;\n",
    "import org.springframework.web.bind.annotation.RestController;\n",
    "\n",
    "import com.tutorial.demorest.model.Product;\n",
    "\n",
    "@RestController\n",
    "public class ProductServiceController {\n",
    "   private static Map<String, Product> productRepo = new HashMap<>();\n",
    "   static {\n",
    "      Product leche = new Product();\n",
    "      leche.setId(\"1\");\n",
    "      leche.setName(\"Leche\");\n",
    "      productRepo.put(leche.getId(), leche);\n",
    "      \n",
    "      Product pan = new Product();\n",
    "      pan.setId(\"2\");\n",
    "      pan.setName(\"Pan de caja\");\n",
    "      productRepo.put(pan.getId(), pan);\n",
    "   }\n",
    "   \n",
    "   @RequestMapping(value = \"/products/{id}\", method = RequestMethod.DELETE)\n",
    "   public ResponseEntity<Object> delete(@PathVariable(\"id\") String id) { \n",
    "      productRepo.remove(id);\n",
    "      return new ResponseEntity<>(\"Producto eliminado.\", HttpStatus.OK);\n",
    "   }\n",
    "   \n",
    "   @RequestMapping(value = \"/products/{id}\", method = RequestMethod.PUT)\n",
    "   public ResponseEntity<Object> updateProduct(@PathVariable(\"id\") String id, @RequestBody Product product) { \n",
    "      productRepo.remove(id);\n",
    "      product.setId(id);\n",
    "      productRepo.put(id, product);\n",
    "      return new ResponseEntity<>(\"Producto actualizado.\", HttpStatus.OK);\n",
    "   }\n",
    "   \n",
    "   @RequestMapping(value = \"/products\", method = RequestMethod.POST)\n",
    "   public ResponseEntity<Object> createProduct(@RequestBody Product product) {\n",
    "      productRepo.put(product.getId(), product);\n",
    "      return new ResponseEntity<>(\"Producto creado.\", HttpStatus.CREATED);\n",
    "   }\n",
    "   \n",
    "   @RequestMapping(value = \"/products\")\n",
    "   public ResponseEntity<Object> getProduct() {\n",
    "      return new ResponseEntity<>(productRepo.values(), HttpStatus.OK);\n",
    "   }\n",
    "}\n",
    "```"
   ]
  },
  {
   "cell_type": "markdown",
   "metadata": {},
   "source": [
    "### El paquete ```org.springframework.http```.\n",
    "\n",
    "Este paquete contiene herramientas par la gestión de peticiones y respuestas *HTTP*.\n",
    "\n",
    "https://docs.spring.io/spring-framework/docs/current/javadoc-api/org/springframework/http/"
   ]
  },
  {
   "cell_type": "markdown",
   "metadata": {},
   "source": [
    "#### La clase ```org.springframework.http.ResponseEntity```.\n",
    "\n",
    "https://docs.spring.io/spring-framework/docs/current/javadoc-api/org/springframework/http/ResponseEntity.html"
   ]
  },
  {
   "cell_type": "markdown",
   "metadata": {},
   "source": [
    "#### La clase ```org.springframework.http.HttpStatus```.\n",
    "\n",
    "https://docs.spring.io/spring-framework/docs/current/javadoc-api/org/springframework/http/HttpStatus.html"
   ]
  },
  {
   "cell_type": "markdown",
   "metadata": {},
   "source": [
    "## El archivo *Product.java*.\n",
    "\n",
    "``` java\n",
    "package com.tutorial.demorest.model;\n",
    "\n",
    "public class Product {\n",
    "   private String id;\n",
    "   private String name;\n",
    "\n",
    "   public String getId() {\n",
    "      return id;\n",
    "   }\n",
    "   public void setId(String id) {\n",
    "      this.id = id;\n",
    "   }\n",
    "   public String getName() {\n",
    "      return name;\n",
    "   }\n",
    "   public void setName(String name) {\n",
    "      this.name = name;\n",
    "   }\n",
    "}\n",
    "```"
   ]
  },
  {
   "cell_type": "markdown",
   "metadata": {},
   "source": [
    "* Se copiarán los archivos a ```demo-rest/src/main/groovy/com/tutorial/demorest/```."
   ]
  },
  {
   "cell_type": "code",
   "execution_count": null,
   "metadata": {},
   "outputs": [],
   "source": [
    "cp DemoRestApplication.groovy Product.java ProductServiceController.java demo-rest/src/main/groovy/com/tutorial/demorest/"
   ]
  },
  {
   "cell_type": "markdown",
   "metadata": {},
   "source": [
    "* Se creará el archivo *.jar*."
   ]
  },
  {
   "cell_type": "code",
   "execution_count": null,
   "metadata": {},
   "outputs": [],
   "source": [
    "cd demo-rest"
   ]
  },
  {
   "cell_type": "code",
   "execution_count": null,
   "metadata": {},
   "outputs": [],
   "source": [
    "gradle clean build"
   ]
  },
  {
   "cell_type": "markdown",
   "metadata": {},
   "source": [
    "* Se ejecutará dicho archivo, el cual levantará un servicio que podrá ser consultado en http://localhost:8080/products"
   ]
  },
  {
   "cell_type": "code",
   "execution_count": null,
   "metadata": {
    "scrolled": true
   },
   "outputs": [],
   "source": [
    "java -jar build/libs/demo-rest-0.0.1-SNAPSHOT.jar"
   ]
  },
  {
   "cell_type": "markdown",
   "metadata": {},
   "source": [
    "<p style=\"text-align: center\"><a rel=\"license\" href=\"http://creativecommons.org/licenses/by/4.0/\"><img alt=\"Licencia Creative Commons\" style=\"border-width:0\" src=\"https://i.creativecommons.org/l/by/4.0/80x15.png\" /></a><br />Esta obra está bajo una <a rel=\"license\" href=\"http://creativecommons.org/licenses/by/4.0/\">Licencia Creative Commons Atribución 4.0 Internacional</a>.</p>\n",
    "<p style=\"text-align: center\">&copy; José Luis Chiquete Valdivieso. 2020.</p>"
   ]
  }
 ],
 "metadata": {
  "kernelspec": {
   "display_name": "Bash",
   "language": "bash",
   "name": "bash"
  },
  "language_info": {
   "codemirror_mode": "shell",
   "file_extension": ".sh",
   "mimetype": "text/x-sh",
   "name": "bash"
  }
 },
 "nbformat": 4,
 "nbformat_minor": 2
}
