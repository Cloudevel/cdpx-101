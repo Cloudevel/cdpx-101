{
 "cells": [
  {
   "cell_type": "markdown",
   "metadata": {},
   "source": [
    "<a href=\"https://cloudevel.com\"> <img src=\"img/cloudevel.png\" width=\"500px\"></a>"
   ]
  },
  {
   "cell_type": "markdown",
   "metadata": {},
   "source": [
    "# Introducción a *Git*."
   ]
  },
  {
   "cell_type": "markdown",
   "metadata": {},
   "source": [
    "## Sistemas de gesión de versiones.\n",
    "\n",
    "Un sistema de gestión de versiones es una herramienta que permite llevar el seguimiento y control de documentos y archivos dentro de un directorio específico, permitiendo identificar las diversas modificaciones que podría haber tenido cada elemento del directorio a lo largo del tiempo.\n",
    "\n",
    "Los sistemas de gestión de versiones fueron ideados inicialmente para llevar control de código fuente de un proyecto de desarrollo de software, pero también pueden gestionar cualquier tipo de documento de texto e incluso documentos de medios y binarios.\n",
    "\n",
    "En al siguiente liga es posible consultar un listado de programas para el control de versiones.\n",
    "\n",
    "https://es.wikipedia.org/wiki/Programas_para_control_de_versiones\n",
    "\n",
    "**Nota:** Aún cuando un gestor de versiones puede soportar prácticamente cualquier documento, no se recomienda que sea usado como repositorio de binarios, siendo quen existen otras herramientas, como es el caso de [*Jfrog Artifactory*](https://jfrog.com/artifactory/), que han sido diseñadas expresamente para tal fin."
   ]
  },
  {
   "cell_type": "markdown",
   "metadata": {},
   "source": [
    "## Artefactos.\n",
    "\n",
    "El término \"artefacto\" dentro del ámbito de desarrollo de software se refiere a todos aquellos documentos que sean resultado del proceso de desarrollo de software, como es el caso de:\n",
    "\n",
    "* Código fuente.\n",
    "* Documentación\n",
    "* Bibliotecas de binarios.\n",
    "* Paquetes de software.\n",
    "* Imágenes de contenedores o máquinas virtuales.\n",
    "* Archivos de configuración y especificaciones.\n",
    "* Datos.\n",
    "* \"Blobs\", los cuales correspoden a archivos en formato binario que no son necesariamente ejecutables.\n"
   ]
  },
  {
   "cell_type": "markdown",
   "metadata": {},
   "source": [
    "## *Git*.\n",
    "\n",
    "[*Git*](https://git-scm.com/) es un sistema de gestión de versiones distribuido creado por [Linus Torvalds](https://es.wikipedia.org/wiki/Linus_Torvalds) con el propósito inicial de poder dar seguimiento al desarrollo del kernel de *Linux*. Actualmente *Git* es el gestor de versiones más popular entre la comunidad de desarrolladores. \n",
    "\n",
    "\n",
    "Las principales caracterísiticas de *Git* son:\n",
    "\n",
    "* De código abierto.\n",
    "* Descentralizado.\n",
    "* Distribuido.\n",
    "* Rápido.\n",
    "* Robusto."
   ]
  },
  {
   "cell_type": "markdown",
   "metadata": {},
   "source": [
    "### Descarga de  *Git*.\n",
    "\n",
    "*Git* ha sido portado a prácticamente todas plataformas y sistemas operativos modernos, conformando parte de los paquetes básicos de un entorno de desarrollo. Sin embargo, también es posible descargar un instalador desde la siguiente liga: \n",
    "\n",
    "https://git-scm.com/downloads"
   ]
  },
  {
   "cell_type": "markdown",
   "metadata": {},
   "source": [
    "### Clientes de *Git*.\n",
    "\n",
    "*Git* puede ser ejecutado mediante un *cliente*. \n",
    "\n",
    "El cliente más común de *Git* corresponde al comando ```git``` ejecutado desde la Interfaz de Línea de Comandos (*CLI*), sin embargo existe una gran cantidad de clientes que aprovechan una interfaz gráfica las cuales pueden ser consultadas en la siguiente liga:\n",
    "\n",
    "https://git-scm.com/downloads/guis\n",
    "\n",
    "**Nota:** Este curso está basado en el uso del comando ```git``` desde una *CLI* de *GNU/Linux*."
   ]
  },
  {
   "cell_type": "markdown",
   "metadata": {},
   "source": [
    "#### *Git GUI*.\n",
    "\n",
    "El paquete descargado del sitio oficial de *Git* incluye un cliente con una interfaz gráfica basada en [*tcl/tk*](https://es.wikipedia.org/wiki/Tcl) llamado *Git GUI*.\n",
    "\n",
    "La siguiente imagen corresponde a la interfaz de *Git GUI*.\n",
    "\n",
    "<img src=\"img/01/git-gui.png\" width=\"250px\">"
   ]
  },
  {
   "cell_type": "markdown",
   "metadata": {},
   "source": [
    "#### *Git Bash*.\n",
    "\n",
    "El cliente *Git Bash* se utiliza primordialmente en sistemas basados en *Windows*. Este cliente crea una terminal corriendo la biblioteca [*Ming-w64*](mingw-w64.org), la cual es capaz de ejecutar no sólo el comando ```git```, sino que crea un entorno que contiene al *shell* [*Bash*](https://www.gnu.org/software/bash/). De este modo es posible tener una *CLI* muy similar a la usada en sistemas basados en *GNU/Linux*."
   ]
  },
  {
   "cell_type": "markdown",
   "metadata": {},
   "source": [
    "## La documentación de *Git*.\n",
    "\n",
    "El proyecto *Git* cuenta con una extensa documentacion, la cual puede ser consultada desde: \n",
    "\n",
    "https://git-scm.com/doc\n",
    "\n",
    "### El libro *Pro Git*.\n",
    "\n",
    "Entre la documentación del proyecto es posible acceder al libro *Pro Git*, escrito por Scott Chacon y Ben Straub, el cual está disponible en español desde:\n",
    "\n",
    "https://git-scm.com/book/es/v2"
   ]
  },
  {
   "cell_type": "markdown",
   "metadata": {},
   "source": [
    "## El comando ```git```.\n",
    "\n",
    "El comando ```git``` permite realizar muy diversas operaciones con repositorios de *Git* mediante la siguiente sintaxis.\n",
    "\n",
    "``` bash\n",
    "git <verbo> <opciones y argumentos>\n",
    "```\n",
    "Donde:\n",
    "\n",
    "* ```<verbo>``` es un subcomando de ```git```.\n"
   ]
  },
  {
   "cell_type": "markdown",
   "metadata": {},
   "source": [
    "**Ejemplos:**"
   ]
  },
  {
   "cell_type": "markdown",
   "metadata": {},
   "source": [
    "* El comando ```git help``` de la siguiente celda desplegará la ayuda de ```git```."
   ]
  },
  {
   "cell_type": "code",
   "execution_count": 1,
   "metadata": {
    "scrolled": true
   },
   "outputs": [
    {
     "name": "stdout",
     "output_type": "stream",
     "text": [
      "usage: git [--version] [--help] [-C <path>] [-c <name>=<value>]\n",
      "           [--exec-path[=<path>]] [--html-path] [--man-path] [--info-path]\n",
      "           [-p | --paginate | -P | --no-pager] [--no-replace-objects] [--bare]\n",
      "           [--git-dir=<path>] [--work-tree=<path>] [--namespace=<name>]\n",
      "           <command> [<args>]\n",
      "\n",
      "These are common Git commands used in various situations:\n",
      "\n",
      "start a working area (see also: git help tutorial)\n",
      "   clone             Clone a repository into a new directory\n",
      "   init              Create an empty Git repository or reinitialize an existing one\n",
      "\n",
      "work on the current change (see also: git help everyday)\n",
      "   add               Add file contents to the index\n",
      "   mv                Move or rename a file, a directory, or a symlink\n",
      "   restore           Restore working tree files\n",
      "   rm                Remove files from the working tree and from the index\n",
      "   sparse-checkout   Initialize and modify the sparse-checkout\n",
      "\n",
      "examine the history and state (see also: git help revisions)\n",
      "   bisect            Use binary search to find the commit that introduced a bug\n",
      "   diff              Show changes between commits, commit and working tree, etc\n",
      "   grep              Print lines matching a pattern\n",
      "   log               Show commit logs\n",
      "   show              Show various types of objects\n",
      "   status            Show the working tree status\n",
      "\n",
      "grow, mark and tweak your common history\n",
      "   branch            List, create, or delete branches\n",
      "   commit            Record changes to the repository\n",
      "   merge             Join two or more development histories together\n",
      "   rebase            Reapply commits on top of another base tip\n",
      "   reset             Reset current HEAD to the specified state\n",
      "   switch            Switch branches\n",
      "   tag               Create, list, delete or verify a tag object signed with GPG\n",
      "\n",
      "collaborate (see also: git help workflows)\n",
      "   fetch             Download objects and refs from another repository\n",
      "   pull              Fetch from and integrate with another repository or a local branch\n",
      "   push              Update remote refs along with associated objects\n",
      "\n",
      "'git help -a' and 'git help -g' list available subcommands and some\n",
      "concept guides. See 'git help <command>' or 'git help <concept>'\n",
      "to read about a specific subcommand or concept.\n",
      "See 'git help git' for an overview of the system.\n"
     ]
    }
   ],
   "source": [
    "git help"
   ]
  },
  {
   "cell_type": "markdown",
   "metadata": {},
   "source": [
    "* El comando ```git status``` de la siguiente celda desplegará el estado del repositorio actual.\n",
    "\n",
    "**Nota:** Esta notebook pertenece a un repositorio local clonado desde https://github.com/Cloudevel/cdpx-101."
   ]
  },
  {
   "cell_type": "code",
   "execution_count": 2,
   "metadata": {
    "scrolled": true
   },
   "outputs": [
    {
     "name": "stdout",
     "output_type": "stream",
     "text": [
      "On branch master\n",
      "Your branch is up to date with 'origin/master'.\n",
      "\n",
      "Changes not staged for commit:\n",
      "  (use \"git add <file>...\" to update what will be committed)\n",
      "  (use \"git restore <file>...\" to discard changes in working directory)\n",
      "\tmodified:   01_introduccion_a_git.ipynb\n",
      "\n",
      "no changes added to commit (use \"git add\" and/or \"git commit -a\")\n"
     ]
    }
   ],
   "source": [
    "git status"
   ]
  },
  {
   "cell_type": "markdown",
   "metadata": {},
   "source": [
    "* La siguiente celda desplegará la versión de ```git``` que se tiene instalada en el sistema."
   ]
  },
  {
   "cell_type": "code",
   "execution_count": 3,
   "metadata": {
    "scrolled": true
   },
   "outputs": [
    {
     "name": "stdout",
     "output_type": "stream",
     "text": [
      "git version 2.25.1\n"
     ]
    }
   ],
   "source": [
    "git version"
   ]
  },
  {
   "cell_type": "markdown",
   "metadata": {},
   "source": [
    "## Los repositorios de *Git*.\n",
    "\n",
    "Un repositorio de *Git* no es otra cosa más que un directorio que incluye al subdirectorio ```.git```. La información y configuración del repositorio se encuentra en dicho directorio.\n",
    "\n",
    "*Git* permite tener repositorios locales, los cuales a su vez pueden acceder y sincronizarse con repositorios remotos."
   ]
  },
  {
   "cell_type": "markdown",
   "metadata": {},
   "source": [
    "**Ejemplo:**"
   ]
  },
  {
   "cell_type": "markdown",
   "metadata": {},
   "source": [
    "* La siguiente celda mostrará el contenido del subdirectorio ```.git``` que se encuentra en el directorio de esta notebook. "
   ]
  },
  {
   "cell_type": "code",
   "execution_count": 4,
   "metadata": {
    "scrolled": false
   },
   "outputs": [
    {
     "name": "stdout",
     "output_type": "stream",
     "text": [
      "total 60\n",
      "drwxr-xr-x 8 oi oi 4096 Jun 10 18:33 .\n",
      "drwxr-xr-x 8 oi oi 4096 Jun 10 18:35 ..\n",
      "-rw-r--r-- 1 oi oi   23 Jun 10 18:16 HEAD\n",
      "drwxr-xr-x 2 oi oi 4096 Jun 10 18:16 branches\n",
      "-rw-r--r-- 1 oi oi  262 Jun 10 18:16 config\n",
      "-rw-r--r-- 1 oi oi   73 Jun 10 18:16 description\n",
      "drwxr-xr-x 2 oi oi 4096 Jun 10 18:16 hooks\n",
      "-rw-r--r-- 1 oi oi 8641 Jun 10 18:33 index\n",
      "drwxr-xr-x 2 oi oi 4096 Jun 10 18:16 info\n",
      "drwxr-xr-x 3 oi oi 4096 Jun 10 18:16 logs\n",
      "drwxr-xr-x 4 oi oi 4096 Jun 10 18:16 objects\n",
      "-rw-r--r-- 1 oi oi  186 Jun 10 18:16 packed-refs\n",
      "drwxr-xr-x 5 oi oi 4096 Jun 10 18:16 refs\n"
     ]
    }
   ],
   "source": [
    "ls -al .git"
   ]
  },
  {
   "cell_type": "code",
   "execution_count": 5,
   "metadata": {},
   "outputs": [
    {
     "name": "stdout",
     "output_type": "stream",
     "text": [
      ".git\n",
      "├── HEAD\n",
      "├── branches\n",
      "├── config\n",
      "├── description\n",
      "├── hooks\n",
      "│   ├── applypatch-msg.sample\n",
      "│   ├── commit-msg.sample\n",
      "│   ├── fsmonitor-watchman.sample\n",
      "│   ├── post-update.sample\n",
      "│   ├── pre-applypatch.sample\n",
      "│   ├── pre-commit.sample\n",
      "│   ├── pre-merge-commit.sample\n",
      "│   ├── pre-push.sample\n",
      "│   ├── pre-rebase.sample\n",
      "│   ├── pre-receive.sample\n",
      "│   ├── prepare-commit-msg.sample\n",
      "│   └── update.sample\n",
      "├── index\n",
      "├── info\n",
      "│   └── exclude\n",
      "├── logs\n",
      "│   ├── HEAD\n",
      "│   └── refs\n",
      "│       ├── heads\n",
      "│       │   └── master\n",
      "│       └── remotes\n",
      "│           └── origin\n",
      "│               └── HEAD\n",
      "├── objects\n",
      "│   ├── info\n",
      "│   └── pack\n",
      "│       ├── pack-c2669cd29ce85e64e614ec2f712ba7066db5d448.idx\n",
      "│       └── pack-c2669cd29ce85e64e614ec2f712ba7066db5d448.pack\n",
      "├── packed-refs\n",
      "└── refs\n",
      "    ├── heads\n",
      "    │   └── master\n",
      "    ├── remotes\n",
      "    │   └── origin\n",
      "    │       └── HEAD\n",
      "    └── tags\n",
      "\n",
      "16 directories, 25 files\n"
     ]
    }
   ],
   "source": [
    "tree .git"
   ]
  },
  {
   "cell_type": "markdown",
   "metadata": {},
   "source": [
    "## Configuración de *Git*.\n",
    "\n",
    "Para conocer o modificar la configuración de *Git* o de un repositorio de *Git* se utiliza el comando ```git config```.\n",
    "\n",
    "Dicho comando puede gestionar la configuración general de *Git* o la configuración de un repositorio específico.\n",
    "\n",
    "La documentacion oficial de ```git config``` puede ser consultada en la siguiente liga:\n",
    "\n",
    "https://git-scm.com/docs/git-config"
   ]
  },
  {
   "cell_type": "markdown",
   "metadata": {},
   "source": [
    "### Despliegue del listado de campos de la  configuración.\n",
    "\n",
    "La opción ```--list```o ```-l``` se utiliza pare desplegar información, por lo que la siguiente sintaxis regresará  un listado de los campos de que conforman la configuración de *Git*, tanto de la informació del usuario *Git*, así como la del repositorio en el que se encuentra.\n",
    "\n",
    "``` bash\n",
    "git config --list \n",
    "```\n",
    "\n",
    "El resultado es un listado de estructuras ```<registro>.<campo>=<valor>```.\n",
    "\n",
    "Donde:\n",
    "\n",
    "* ```<registro>``` corresponde a un registro de la configuración.\n",
    "* ```<campo>``` corresponde a un campo específico dentro del registro.\n",
    "* ```<valor>``` corresponde al valor asignado al campo indicado. "
   ]
  },
  {
   "cell_type": "markdown",
   "metadata": {},
   "source": [
    "**Ejemplo:**"
   ]
  },
  {
   "cell_type": "markdown",
   "metadata": {},
   "source": [
    "* La siguiente celda mostrará la configuración del usuario actual y del repositorio al que pertence esta notebook."
   ]
  },
  {
   "cell_type": "code",
   "execution_count": 6,
   "metadata": {
    "scrolled": true
   },
   "outputs": [
    {
     "name": "stdout",
     "output_type": "stream",
     "text": [
      "core.repositoryformatversion=0\n",
      "core.filemode=true\n",
      "core.bare=false\n",
      "core.logallrefupdates=true\n",
      "remote.origin.url=https://github.com/Cloudevel/cdpx-101\n",
      "remote.origin.fetch=+refs/heads/*:refs/remotes/origin/*\n",
      "branch.master.remote=origin\n",
      "branch.master.merge=refs/heads/master\n"
     ]
    }
   ],
   "source": [
    "git config --list"
   ]
  },
  {
   "cell_type": "markdown",
   "metadata": {},
   "source": [
    "### Despliege de un valor de un campo con la opción ```--get```.\n",
    "\n",
    "Mientras que la opción ```--list``` despliega todos los datos de configuración, la opción ```--get``` sólo regresará el valor del campo especificado.\n",
    "\n",
    "``` bash\n",
    "git config --get <registro>.<campo>\n",
    "```\n",
    "\n",
    "En caso de no encontrar una coincidencia exacta de la estructura ```<registro>.<campo>``` dentro de la configuración, no se deplegará nada."
   ]
  },
  {
   "cell_type": "markdown",
   "metadata": {},
   "source": [
    "**Ejemplos:**"
   ]
  },
  {
   "cell_type": "markdown",
   "metadata": {},
   "source": [
    "* La siguiente celda regresará el valor del campo ```url``` del registro ```remote.origin```."
   ]
  },
  {
   "cell_type": "code",
   "execution_count": 7,
   "metadata": {
    "scrolled": true
   },
   "outputs": [
    {
     "name": "stdout",
     "output_type": "stream",
     "text": [
      "https://github.com/Cloudevel/cdpx-101\n"
     ]
    }
   ],
   "source": [
    "git config --get remote.origin.url"
   ]
  },
  {
   "cell_type": "markdown",
   "metadata": {},
   "source": [
    "* La siguiente celda regresará el valor del campo ```erroneo``` del registro ```remote.origin```. En vista de que este campo no existe, no se devolverá nada."
   ]
  },
  {
   "cell_type": "code",
   "execution_count": 8,
   "metadata": {},
   "outputs": [
    {
     "ename": "",
     "evalue": "1",
     "output_type": "error",
     "traceback": []
    }
   ],
   "source": [
    "git config --get remote.origin.erroneo"
   ]
  },
  {
   "cell_type": "markdown",
   "metadata": {},
   "source": [
    "### Ámbitos de configuración de *Git*.\n",
    "\n",
    "El comando ```git config``` config puede acceder a:\n",
    "\n",
    "* La configuración del repositorio que se está gestionando, la cual está ligada al archivo ```config``` del subdirectorio ```.git``` del repositorio.\n",
    "* La configuración del usuario de *Git*, la cual está ligada al archivo ```.gitconfig``` localizado en el directorio *home* del usuario.\n",
    "* La configuración de  aplicación *Git* dentro del sistema en el que se encuentra, la cual está, ligada al archivo ```/etc/gitconfig``` del sistema.\n",
    "\n",
    "**Nota:** Los archivos de configuración de ```Git``` están estructurados conforme al formato  \n",
    "\n",
    "La sintaxis para definir el ámbito de ```git config``` es:\n",
    "\n",
    "```\n",
    "git config --<opción de ámbito> <opciones>\n",
    "```\n",
    "\n",
    "Donde:\n",
    "\n",
    "* ```<opción de ámbito>``` puede ser:\n",
    "   * ```local``` para la configuración del repositorio que se está gestionando.\n",
    "   * ```global``` para la configuración global del usuario de *Git*.\n",
    "   * ```system``` para la configuración de la aplicación de *Git* en el sistema en el que se encuentra instalada.\n",
    "   \n",
    "En caso de que no se defina un ámbito, el comando ```git config``` traerá la configuración de los ámbitos ```--local``` y ```--global```."
   ]
  },
  {
   "cell_type": "markdown",
   "metadata": {},
   "source": [
    "#### El archivo ```.git/config``` del ámbito ```--local```.\n",
    "\n",
    "El archivo  ```.git/config``` dentro de un repostiorio de *Git* contiene la configuración de dicho repositorio."
   ]
  },
  {
   "cell_type": "markdown",
   "metadata": {},
   "source": [
    "**Ejemplo:**"
   ]
  },
  {
   "cell_type": "markdown",
   "metadata": {},
   "source": [
    "* La siguiente celda mostrará el contenido del archivo ```.git/config``` del repositorio de esta notebook."
   ]
  },
  {
   "cell_type": "code",
   "execution_count": 9,
   "metadata": {
    "scrolled": false
   },
   "outputs": [
    {
     "name": "stdout",
     "output_type": "stream",
     "text": [
      "[core]\n",
      "\trepositoryformatversion = 0\n",
      "\tfilemode = true\n",
      "\tbare = false\n",
      "\tlogallrefupdates = true\n",
      "[remote \"origin\"]\n",
      "\turl = https://github.com/Cloudevel/cdpx-101\n",
      "\tfetch = +refs/heads/*:refs/remotes/origin/*\n",
      "[branch \"master\"]\n",
      "\tremote = origin\n",
      "\tmerge = refs/heads/master\n"
     ]
    }
   ],
   "source": [
    "cat .git/config"
   ]
  },
  {
   "cell_type": "markdown",
   "metadata": {},
   "source": [
    "* La siguiente celda desplegará la configuración del archivo ```.git/config``` del repsitorio actual usando el comando  ```git config --local list```."
   ]
  },
  {
   "cell_type": "code",
   "execution_count": 10,
   "metadata": {},
   "outputs": [
    {
     "name": "stdout",
     "output_type": "stream",
     "text": [
      "core.repositoryformatversion=0\n",
      "core.filemode=true\n",
      "core.bare=false\n",
      "core.logallrefupdates=true\n",
      "remote.origin.url=https://github.com/Cloudevel/cdpx-101\n",
      "remote.origin.fetch=+refs/heads/*:refs/remotes/origin/*\n",
      "branch.master.remote=origin\n",
      "branch.master.merge=refs/heads/master\n"
     ]
    }
   ],
   "source": [
    "git config --local --list"
   ]
  },
  {
   "cell_type": "markdown",
   "metadata": {},
   "source": [
    "#### El archivo ```~/.gitconfig``` del ámbito ```--global```.\n",
    "\n",
    "El archivo de configuración del usuario se llama ```.gitconfig``` y se encuentra en el directorio *home* del usuario. "
   ]
  },
  {
   "cell_type": "markdown",
   "metadata": {},
   "source": [
    "**Ejemplo:**"
   ]
  },
  {
   "cell_type": "markdown",
   "metadata": {},
   "source": [
    "* La siguiente celda despelgará el contenido del archivo ```~/.gitconfig```."
   ]
  },
  {
   "cell_type": "code",
   "execution_count": 11,
   "metadata": {
    "scrolled": true
   },
   "outputs": [
    {
     "name": "stdout",
     "output_type": "stream",
     "text": [
      "cat: /home/oi/.gitconfig: No such file or directory\n"
     ]
    },
    {
     "ename": "",
     "evalue": "1",
     "output_type": "error",
     "traceback": []
    }
   ],
   "source": [
    "cat ~/.gitconfig"
   ]
  },
  {
   "cell_type": "markdown",
   "metadata": {},
   "source": [
    "* La siguiente celda desplegará la configuración del archivo ```~/.gitconfig```usando el comando  ```git config --global list```."
   ]
  },
  {
   "cell_type": "code",
   "execution_count": 12,
   "metadata": {
    "scrolled": false
   },
   "outputs": [
    {
     "name": "stdout",
     "output_type": "stream",
     "text": [
      "fatal: unable to read config file '/home/oi/.gitconfig': No such file or directory\n"
     ]
    },
    {
     "ename": "",
     "evalue": "128",
     "output_type": "error",
     "traceback": []
    }
   ],
   "source": [
    "git config --global --list"
   ]
  },
  {
   "cell_type": "markdown",
   "metadata": {},
   "source": [
    "#### El archivo ```/etc/.gitconfig``` del ámbito ```--system```.\n",
    "\n",
    "La opción ```--system``` le indica a ```git config``` que ese comando se aplicará a la configuración de la aplicación *Git* en el sistema. En entornos basados en *GNU/Linux* el archivo de configuración se localiza en  ```/etc/gitconfig```:"
   ]
  },
  {
   "cell_type": "markdown",
   "metadata": {},
   "source": [
    "**Ejemplo:**"
   ]
  },
  {
   "cell_type": "markdown",
   "metadata": {},
   "source": [
    "* La siguiente celda tratará de desplegar la configuración contenida en el archivo ```/etc/gitconfig``` usando el comando  ```git config --system list```.\n",
    "\n",
    "**Nota:** Es probable que el archivo ```/etc/gitconfig``` no exista y entonces se producirá un mensaje de error."
   ]
  },
  {
   "cell_type": "code",
   "execution_count": 13,
   "metadata": {
    "scrolled": false
   },
   "outputs": [
    {
     "name": "stdout",
     "output_type": "stream",
     "text": [
      "fatal: unable to read config file '/etc/gitconfig': No such file or directory\n"
     ]
    },
    {
     "ename": "",
     "evalue": "128",
     "output_type": "error",
     "traceback": []
    }
   ],
   "source": [
    "git config --system --list"
   ]
  },
  {
   "cell_type": "markdown",
   "metadata": {},
   "source": [
    "### Adición o modificación de un campo de la configuración.\n",
    "\n",
    "Es posible añadir un campo o modificar el valor de un campo de la configuración de *Git* mediante la siguiente sintaxis:\n",
    "\n",
    "```\n",
    "git config --<opcion de ámbito> <registro>.<campo> <valor>\n",
    "```\n",
    "\n",
    "Donde:\n",
    "\n",
    "* ```<registro>``` indica el nombre del registro al que pertenece el campo a añadir o modificar.\n",
    "* ```<campo>``` indica el nombre del campo a añadir o modificar.\n",
    "* ```<valor>``` indica el valor del campo a añadir o modificar.\n",
    "* ```<opción de ámbito>``` es el ámbito al que se añadirá el campo. En caso de no definirse, se realziará una búsqueda en los ámbitos ```--local``` y ```--global```.\n",
    "\n",
    "Este comando buscará un registro que coincida y posteriormente un campo que coincida en los archivos de confoguración correspondientes. \n",
    "* En caso de que exista un campo que coincida con la estructura ```<registro>.<campo>```, el valor de dicho campo será sustituido por el valor ingresado. \n",
    "* En caso de que no exista un campo que coincida con la estructura ```<registro>.<campo>```, el campo será creado con el valor ingresado. \n",
    "\n",
    "El contenido de ```<valor>``` siempre será considerado como una cadena de caracteres. En caso de que el valor sea una cadena de caracteres que incluya espacios, es necesario encerrar dicho valor entre comillas ```\" \"```."
   ]
  },
  {
   "cell_type": "markdown",
   "metadata": {},
   "source": [
    "#### Ejemplo de la configuración mínima de un usuario de *Git*.\n",
    "\n",
    "Para poder realizar operaciones de \"commit\", es recomendable definir los datos básicos del usuario:\n",
    "\n",
    "* ```user.name``` para el nombre del usuario.\n",
    "* ```user.email``` para la dirección de correo electronico del usuario.\n",
    "\n",
    "Estos datos pertenecen al ámbito ```--global```."
   ]
  },
  {
   "cell_type": "markdown",
   "metadata": {},
   "source": [
    "* la siguiente celda asignará el valor ```Comunidad Cloudevel``` al campo ```user.name``` en el ámbito ```--global```. \n",
    "* Debido a que el valor es una cadena de caracteres con espacios, es necesario encerrarlo entre comillas."
   ]
  },
  {
   "cell_type": "code",
   "execution_count": 14,
   "metadata": {
    "scrolled": true
   },
   "outputs": [],
   "source": [
    "git config --global user.name \"Comunidad Cloudevel\""
   ]
  },
  {
   "cell_type": "markdown",
   "metadata": {},
   "source": [
    "* la siguiente celda asignará el valor ```contacto@cloudevel.com``` al campo ```user.email``` en el ámbito ```--global```. En este caso, las comillas son opcionales."
   ]
  },
  {
   "cell_type": "code",
   "execution_count": 15,
   "metadata": {
    "scrolled": true
   },
   "outputs": [],
   "source": [
    "git config --global user.email contacto@cloudevel.com"
   ]
  },
  {
   "cell_type": "markdown",
   "metadata": {},
   "source": [
    "* La siguientes celdas mostrará las modificaciones a la configuración."
   ]
  },
  {
   "cell_type": "code",
   "execution_count": 16,
   "metadata": {
    "scrolled": true
   },
   "outputs": [
    {
     "name": "stdout",
     "output_type": "stream",
     "text": [
      "user.name=Comunidad Cloudevel\n",
      "user.email=contacto@cloudevel.com\n",
      "core.repositoryformatversion=0\n",
      "core.filemode=true\n",
      "core.bare=false\n",
      "core.logallrefupdates=true\n",
      "remote.origin.url=https://github.com/Cloudevel/cdpx-101\n",
      "remote.origin.fetch=+refs/heads/*:refs/remotes/origin/*\n",
      "branch.master.remote=origin\n",
      "branch.master.merge=refs/heads/master\n"
     ]
    }
   ],
   "source": [
    "git config -l"
   ]
  },
  {
   "cell_type": "code",
   "execution_count": 17,
   "metadata": {
    "scrolled": true
   },
   "outputs": [
    {
     "name": "stdout",
     "output_type": "stream",
     "text": [
      "contacto@cloudevel.com\n"
     ]
    }
   ],
   "source": [
    "git config --get user.email"
   ]
  },
  {
   "cell_type": "code",
   "execution_count": 18,
   "metadata": {},
   "outputs": [
    {
     "name": "stdout",
     "output_type": "stream",
     "text": [
      "[user]\n",
      "\tname = Comunidad Cloudevel\n",
      "\temail = contacto@cloudevel.com\n"
     ]
    }
   ],
   "source": [
    "cat ~/.gitconfig"
   ]
  },
  {
   "cell_type": "markdown",
   "metadata": {},
   "source": [
    "#### Ejemplo de asignación de un campo inútil a la configuración.\n",
    "\n",
    "Es posible añadir múltiples campos mediante ```git config```. El algunos casos estos campos no son útiles para *Git*."
   ]
  },
  {
   "cell_type": "markdown",
   "metadata": {},
   "source": [
    "* La siguiente celda creará el campo ```error``` en le registro ```use``` el cual se guardará en el ámbito ```--global``` con el valor ```Error```."
   ]
  },
  {
   "cell_type": "code",
   "execution_count": 19,
   "metadata": {
    "scrolled": true
   },
   "outputs": [],
   "source": [
    "git config --global use.error Error"
   ]
  },
  {
   "cell_type": "code",
   "execution_count": 20,
   "metadata": {
    "scrolled": true
   },
   "outputs": [
    {
     "name": "stdout",
     "output_type": "stream",
     "text": [
      "Error\n"
     ]
    }
   ],
   "source": [
    "git config --get use.error"
   ]
  },
  {
   "cell_type": "code",
   "execution_count": 21,
   "metadata": {},
   "outputs": [
    {
     "name": "stdout",
     "output_type": "stream",
     "text": [
      "[user]\n",
      "\tname = Comunidad Cloudevel\n",
      "\temail = contacto@cloudevel.com\n",
      "[use]\n",
      "\terror = Error\n"
     ]
    }
   ],
   "source": [
    "cat ~/.gitconfig"
   ]
  },
  {
   "cell_type": "markdown",
   "metadata": {},
   "source": [
    "### Eliminación de un registro dentro de la configuración.\n",
    "\n",
    "Para eliminar un registro, se utiliza la opción ```--remove```.\n",
    "\n",
    "```  bash\n",
    "git config --remove <registro>\n",
    "```"
   ]
  },
  {
   "cell_type": "code",
   "execution_count": 22,
   "metadata": {
    "scrolled": true
   },
   "outputs": [],
   "source": [
    "git config --global --remove use"
   ]
  },
  {
   "cell_type": "code",
   "execution_count": 23,
   "metadata": {
    "scrolled": true
   },
   "outputs": [
    {
     "name": "stdout",
     "output_type": "stream",
     "text": [
      "user.name=Comunidad Cloudevel\n",
      "user.email=contacto@cloudevel.com\n",
      "core.repositoryformatversion=0\n",
      "core.filemode=true\n",
      "core.bare=false\n",
      "core.logallrefupdates=true\n",
      "remote.origin.url=https://github.com/Cloudevel/cdpx-101\n",
      "remote.origin.fetch=+refs/heads/*:refs/remotes/origin/*\n",
      "branch.master.remote=origin\n",
      "branch.master.merge=refs/heads/master\n"
     ]
    }
   ],
   "source": [
    "git config -l"
   ]
  },
  {
   "cell_type": "markdown",
   "metadata": {},
   "source": [
    "### Edición de un archivo de configuración de *Git* con la opción ```-e```.\n",
    "\n",
    "Esta opción permite abrir un editor para modificar el archivo de configuración.\n",
    "``` bash\n",
    "git config <ámbito> -e\n",
    "```\n",
    "\n",
    "\n",
    "**Ejemplo:**\n",
    "\n",
    "En este caso se debe ejecutar desde una terminal:\n",
    "\n",
    "``` bash\n",
    "git config --global -e\n",
    "```"
   ]
  },
  {
   "cell_type": "markdown",
   "metadata": {},
   "source": [
    "<p style=\"text-align: center\"><a rel=\"license\" href=\"http://creativecommons.org/licenses/by/4.0/\"><img alt=\"Licencia Creative Commons\" style=\"border-width:0\" src=\"https://i.creativecommons.org/l/by/4.0/80x15.png\" /></a><br />Esta obra está bajo una <a rel=\"license\" href=\"http://creativecommons.org/licenses/by/4.0/\">Licencia Creative Commons Atribución 4.0 Internacional</a>.</p>\n",
    "<p style=\"text-align: center\">&copy; José Luis Chiquete Valdivieso. 2020.</p>"
   ]
  }
 ],
 "metadata": {
  "kernelspec": {
   "display_name": "Bash",
   "language": "bash",
   "name": "bash"
  },
  "language_info": {
   "codemirror_mode": "shell",
   "file_extension": ".sh",
   "mimetype": "text/x-sh",
   "name": "bash"
  }
 },
 "nbformat": 4,
 "nbformat_minor": 2
}
