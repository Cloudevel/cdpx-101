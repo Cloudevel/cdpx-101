{
 "cells": [
  {
   "cell_type": "markdown",
   "metadata": {},
   "source": [
    "<a href=\"https://cloudevel.com\"> <img src=\"img/cloudevel.png\" width=\"500px\"></a>"
   ]
  },
  {
   "cell_type": "markdown",
   "metadata": {},
   "source": [
    "**ADVERTENCIA:**\n",
    "\n",
    "Se da por sentado de que las celdas de los capítulos previos fueron ejecutadas y que existen imágenes cargadas en el sistema."
   ]
  },
  {
   "cell_type": "markdown",
   "metadata": {},
   "source": [
    "Una de las grandes ventajas de utilizar Docker es la posibilidad de poder desplegar un *registry* propio de manera relativamente sencilla."
   ]
  },
  {
   "cell_type": "markdown",
   "metadata": {},
   "source": [
    "## La imagen ```registry```.\n",
    "\n",
    "Docker ha puesto a disposición de la comunidad la imagen ```registry```, la cual permite crear un contenedor capaz de ofrecer un servicio de *registry*. \n",
    "\n",
    "Referencia: https://docs.docker.com/registry/deploying/"
   ]
  },
  {
   "cell_type": "markdown",
   "metadata": {},
   "source": [
    "### Creación de un *registry* local.\n",
    "\n",
    "Lo únicoque se requiere para desplegar un registry de forma local es crear el contenedor y tener didponible un puerto disponible en el servidor. \\\n",
    "\n",
    "El puerto por defecto es el 5000."
   ]
  },
  {
   "cell_type": "markdown",
   "metadata": {},
   "source": [
    "**Ejemplo:**\n",
    "\n",
    "* Se creará un contenedor simple a partir de la imagen ```registry```.\n",
    "\n",
    "**ADVERTENCIA:** No se recomienda desplegar un *registry* que no cuente con conexiones seguras y medios de autenticación."
   ]
  },
  {
   "cell_type": "code",
   "execution_count": 1,
   "metadata": {
    "scrolled": true
   },
   "outputs": [
    {
     "name": "stdout",
     "output_type": "stream",
     "text": [
      "Unable to find image 'registry:2' locally\n",
      "2: Pulling from library/registry\n",
      "\n",
      "\u001b[1B39affc0a: Pulling fs layer \n",
      "\u001b[1Ba3b098e6: Pulling fs layer \n",
      "\u001b[1Bc43d6c8e: Pulling fs layer \n",
      "\u001b[1B453e5f2d: Pulling fs layer \n",
      "\u001b[1BDigest: sha256:7d081088e4bfd632a88e3f3bcd9e007ef44a796fddfe3261407a3f9f04abe1e7\n",
      "Status: Downloaded newer image for registry:2\n",
      "9f9f52047bfa280b21220f23a5291dd299e6090c07facd0d6dea5ec37d85c957\n"
     ]
    }
   ],
   "source": [
    "sudo docker run -d -p 5000:5000 --restart=always --name registry registry:2"
   ]
  },
  {
   "cell_type": "markdown",
   "metadata": {},
   "source": [
    "* En este caso se guardará la imagen ```nginx_image``` para añadirla al *registry* local."
   ]
  },
  {
   "cell_type": "code",
   "execution_count": 2,
   "metadata": {
    "scrolled": true
   },
   "outputs": [
    {
     "name": "stdout",
     "output_type": "stream",
     "text": [
      "REPOSITORY           TAG                 IMAGE ID            CREATED             SIZE\n",
      "servidor             arch1               5287edae657c        10 minutes ago      190MB\n",
      "cloudevel/nginx      latest              cc8a5aba3bee        About an hour ago   254MB\n",
      "nginx_image          latest              cc8a5aba3bee        About an hour ago   254MB\n",
      "registry             2                   708bc6af7e5e        45 hours ago        25.8MB\n",
      "ubuntu               latest              ccc6e87d482b        9 days ago          64.2MB\n",
      "pythonistaio/cd331   2001                b58572d12e66        12 months ago       246MB\n",
      "cloudevel/cd331      latest              b58572d12e66        12 months ago       246MB\n"
     ]
    }
   ],
   "source": [
    "sudo docker images"
   ]
  },
  {
   "cell_type": "code",
   "execution_count": 3,
   "metadata": {},
   "outputs": [
    {
     "name": "stdout",
     "output_type": "stream",
     "text": [
      "CONTAINER ID        IMAGE               COMMAND                  CREATED             STATUS              PORTS                         NAMES\n",
      "9f9f52047bfa        registry:2          \"/entrypoint.sh /etc…\"   12 seconds ago      Up 10 seconds       0.0.0.0:5000->5000/tcp        registry\n",
      "8ad3df72cb55        ubuntu              \"/bin/bash\"              12 minutes ago      Up 12 minutes                                     ubuntu-exp\n",
      "d98b41fd3435        ubuntu              \"/bin/bash\"              38 minutes ago      Up 38 minutes                                     ubuntu-3\n",
      "853c7eee659f        ubuntu              \"/bin/bash\"              38 minutes ago      Up 38 minutes                                     ubuntu-2\n",
      "2881b7d6883e        nginx_image         \"./start.sh\"             39 minutes ago      Up 39 minutes       0.0.0.0:80->80/tcp, 443/tcp   nginx\n"
     ]
    }
   ],
   "source": [
    "sudo docker ps"
   ]
  },
  {
   "cell_type": "code",
   "execution_count": 4,
   "metadata": {},
   "outputs": [],
   "source": [
    "sudo docker tag nginx_image localhost:5000/nginx:latest"
   ]
  },
  {
   "cell_type": "code",
   "execution_count": 5,
   "metadata": {},
   "outputs": [
    {
     "name": "stdout",
     "output_type": "stream",
     "text": [
      "REPOSITORY             TAG                 IMAGE ID            CREATED             SIZE\n",
      "servidor               arch1               5287edae657c        11 minutes ago      190MB\n",
      "cloudevel/nginx        latest              cc8a5aba3bee        About an hour ago   254MB\n",
      "nginx_image            latest              cc8a5aba3bee        About an hour ago   254MB\n",
      "localhost:5000/nginx   latest              cc8a5aba3bee        About an hour ago   254MB\n",
      "registry               2                   708bc6af7e5e        45 hours ago        25.8MB\n",
      "ubuntu                 latest              ccc6e87d482b        9 days ago          64.2MB\n",
      "cloudevel/cd331        latest              b58572d12e66        12 months ago       246MB\n",
      "pythonistaio/cd331     2001                b58572d12e66        12 months ago       246MB\n"
     ]
    }
   ],
   "source": [
    "sudo docker images"
   ]
  },
  {
   "cell_type": "code",
   "execution_count": null,
   "metadata": {
    "scrolled": true
   },
   "outputs": [
    {
     "name": "stdout",
     "output_type": "stream",
     "text": [
      "The push refers to repository [localhost:5000/nginx]\n",
      "\n",
      "\u001b[1B41e100c6: Preparing \n",
      "\u001b[1Bbd29f6f1: Preparing \n",
      "\u001b[1Bd4b412c8: Preparing \n",
      "\u001b[1B43de8a4c: Preparing \n",
      "\u001b[1B1ef45b53: Preparing \n",
      "\u001b[1B3d4a23bc: Preparing \n",
      "\u001b[1B21695e7b: Preparing \n",
      "\u001b[1B93d66d0b: Preparing \n",
      "\u001b[1B479c17a5: Preparing \n",
      "\u001b[1B983a8d99: Preparing \n"
     ]
    }
   ],
   "source": [
    "sudo docker push localhost:5000/nginx:latest"
   ]
  },
  {
   "cell_type": "markdown",
   "metadata": {},
   "source": [
    "* Ahora es posible destruir la imagen y su tag."
   ]
  },
  {
   "cell_type": "code",
   "execution_count": null,
   "metadata": {},
   "outputs": [],
   "source": [
    "sudo docker image remove nginx_image"
   ]
  },
  {
   "cell_type": "code",
   "execution_count": null,
   "metadata": {},
   "outputs": [],
   "source": [
    "sudo docker image remove localhost:5000/nginx:latest"
   ]
  },
  {
   "cell_type": "code",
   "execution_count": null,
   "metadata": {
    "scrolled": true
   },
   "outputs": [],
   "source": [
    "sudo docker images"
   ]
  },
  {
   "cell_type": "markdown",
   "metadata": {},
   "source": [
    "* A continuación se trae la imagen del *registry* local."
   ]
  },
  {
   "cell_type": "code",
   "execution_count": null,
   "metadata": {},
   "outputs": [],
   "source": [
    "sudo docker pull localhost:5000/nginx"
   ]
  },
  {
   "cell_type": "code",
   "execution_count": null,
   "metadata": {
    "scrolled": true
   },
   "outputs": [],
   "source": [
    "sudo docker images"
   ]
  },
  {
   "cell_type": "markdown",
   "metadata": {},
   "source": [
    "https://docs.docker.com/registry/configuration/"
   ]
  },
  {
   "cell_type": "markdown",
   "metadata": {},
   "source": [
    "<p style=\"text-align: center\"><a rel=\"license\" href=\"http://creativecommons.org/licenses/by/4.0/\"><img alt=\"Licencia Creative Commons\" style=\"border-width:0\" src=\"https://i.creativecommons.org/l/by/4.0/80x15.png\" /></a><br />Esta obra está bajo una <a rel=\"license\" href=\"http://creativecommons.org/licenses/by/4.0/\">Licencia Creative Commons Atribución 4.0 Internacional</a>.</p>\n",
    "<p style=\"text-align: center\">&copy; José Luis Chiquete Valdivieso. 2020.</p>"
   ]
  }
 ],
 "metadata": {
  "kernelspec": {
   "display_name": "Bash",
   "language": "bash",
   "name": "bash"
  },
  "language_info": {
   "codemirror_mode": "shell",
   "file_extension": ".sh",
   "mimetype": "text/x-sh",
   "name": "bash"
  }
 },
 "nbformat": 4,
 "nbformat_minor": 2
}
