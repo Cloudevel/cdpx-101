{
 "cells": [
  {
   "cell_type": "markdown",
   "metadata": {},
   "source": [
    "<a href=\"https://cloudevel.com\"> <img src=\"img/cloudevel.png\" width=\"500px\"></a>"
   ]
  },
  {
   "cell_type": "markdown",
   "metadata": {},
   "source": [
    "# Proyectos de *Gradle*."
   ]
  },
  {
   "cell_type": "markdown",
   "metadata": {},
   "source": [
    "Los proyectos de *Gradle* son por lo general una estructura de directorios y archivos que contienen código fuente tanto del sofware a construir como de las pruebas que se le realizarían a dicho software, scripts de *Gradle* y otros recursos.\n",
    "\n",
    "Las recomendaciones para organizar un proyecto de *Gradle* son las siguientes:\n",
    "\n",
    "* Separar por lenguaje los archivos de código fuente.\n",
    "* Separar los archivos de código fuente por tipo de prueba.\n",
    "* Usar convenciones estándar lo más posible.\n",
    "* Siempre definir un archivo de configuración (settings).\n",
    "* Declarar las propiedades de un proyecto en un archivo ```gradle.properties```. \n",
    "* Evitar el empalme de las salidas de tareas distintas.\n",
    "* Estandarizar lel proceso de construcción de binarios con una distribución de *Gradle* predefinida.\n",
    "* Usar ```buildSrc```  para abstraer la lógica impertiva.\n",
    "\n",
    "\n",
    "La referencia puede ser consultada en:\n",
    "\n",
    "https://docs.gradle.org/current/userguide/organizing_gradle_projects.html"
   ]
  },
  {
   "cell_type": "markdown",
   "metadata": {},
   "source": [
    "## Creando un proyecto estándar.\n",
    "\n",
    "El comando ```gradle init``` permite crear a partir de ciertas opciones específicas.\n",
    "\n",
    "La referencia puede ser consultada en:\n",
    "\n",
    "https://docs.gradle.org/current/userguide/build_init_plugin.html"
   ]
  },
  {
   "cell_type": "markdown",
   "metadata": {},
   "source": [
    "## Análisis de la construcción.\n",
    "\n",
    "*Gradle* cuenta con una herramiente que permite analizar una corrida de construcciónde binarios, la cual es publicada en un servicio web.\n",
    "\n",
    "La referencia puede ser consultada en:\n",
    "\n",
    "https://guides.gradle.org/creating-build-scans/"
   ]
  },
  {
   "cell_type": "markdown",
   "metadata": {},
   "source": [
    "<p style=\"text-align: center\"><a rel=\"license\" href=\"http://creativecommons.org/licenses/by/4.0/\"><img alt=\"Licencia Creative Commons\" style=\"border-width:0\" src=\"https://i.creativecommons.org/l/by/4.0/80x15.png\" /></a><br />Esta obra está bajo una <a rel=\"license\" href=\"http://creativecommons.org/licenses/by/4.0/\">Licencia Creative Commons Atribución 4.0 Internacional</a>.</p>\n",
    "<p style=\"text-align: center\">&copy; José Luis Chiquete Valdivieso. 2020.</p>"
   ]
  }
 ],
 "metadata": {
  "kernelspec": {
   "display_name": "Bash",
   "language": "bash",
   "name": "bash"
  },
  "language_info": {
   "codemirror_mode": "shell",
   "file_extension": ".sh",
   "mimetype": "text/x-sh",
   "name": "bash"
  }
 },
 "nbformat": 4,
 "nbformat_minor": 2
}
