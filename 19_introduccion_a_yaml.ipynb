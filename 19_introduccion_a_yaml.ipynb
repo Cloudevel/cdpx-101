{
 "cells": [
  {
   "cell_type": "markdown",
   "metadata": {},
   "source": [
    "<a href=\"https://cloudevel.com\"> <img src=\"img/cloudevel.png\" width=\"500px\"></a>"
   ]
  },
  {
   "cell_type": "markdown",
   "metadata": {},
   "source": [
    "# Introducción a  *YAML*.\n",
    "\n",
    "[YAML](https://yaml.org/) es el acrónimo de \"Yet Another Markup Language\". Es un lenguaje derivado de *JSON* que es utilizado para la serialización de datos. Los archivos de *YAML* tiene la extensión ```.yml``` o ```.yaml```.  \n",
    "\n",
    "*YAML*, al igual que *JSON* es utilizado para la serialización de estructuras de datos. Los documentos utilizando el formato de *YAML* tiene la ventaja de que que pueden ser procesados eficientemente por sistemas de cómputo y al mismo tiempo son muy legibles para los seres humanos.\n",
    "\n",
    "Algunas herramientas que consumen documentos en formato *YAML* son entre otros:\n",
    "\n",
    "* [Los archivos *compose*](https://docs.docker.com/compose/compose-file/) de *Docker Compose*.\n",
    "* [Los *Playbooks*](https://docs.ansible.com/ansible/latest/user_guide/playbooks_intro.html)  de *Ansible*.\n",
    "* Las definiciones de *Kubernetes*\n",
    "* Los *pipelines* de *Jenkins* como sustituto de *Groovy*.\n",
    "\n",
    "Para mayor referencia es posible consultar la siguiente liga:\n",
    "\n",
    "(https://docs.ansible.com/ansible/latest/reference_appendices/YAMLSyntax.html).\n",
    "\n"
   ]
  },
  {
   "cell_type": "markdown",
   "metadata": {},
   "source": [
    "# Tipo de datos.\n",
    "\n",
    "Todos los valores definidos en un documento en formato *YAML* son considerados como cadenas de caracteres. El sistema que consuma los archivos *YAML* es el encargado de inferir el tipo de dato del que se trata. "
   ]
  },
  {
   "cell_type": "markdown",
   "metadata": {},
   "source": [
    "## Sintaxis de *YAML*.\n",
    "\n",
    "El componente básico de una estructura de datos en *YAML* son:\n",
    "\n",
    "* Mapas.\n",
    "* Listas.\n",
    "\n",
    "A diferencia de *JSON* no se uitilizan las llaves ```{``` ```}``` para delimitar un bloque de datos, sino que de forma similar a *Python*, se utiliza la indentación.\n",
    "\n",
    "**NOTA:** *YAML* no acepta el uso de tabuladores para la indentación. Sólo se aceptan espacios."
   ]
  },
  {
   "cell_type": "markdown",
   "metadata": {},
   "source": [
    "## Mapas.\n",
    "\n",
    "Los mapas son pares ```<clave>: <valor>```, donde el valor puede ser:\n",
    "* Una cadena de caracteres.\n",
    "* Un mapa.\n",
    "* Una lista."
   ]
  },
  {
   "cell_type": "markdown",
   "metadata": {},
   "source": [
    "**Ejemplos:**\n",
    "\n",
    "El siguiente texto contiene a los sigunetes pares:\n",
    "\n",
    "* La clave correspondiente a ```nombre``` y el valor correspondiente a ```Juan```.\n",
    "* La clave correspondiente a ```ruta``` y el valor correspondiente a ```\"/valr/lib/docker\"```.\n",
    "\n",
    "```yaml\n",
    "nombre: Juan\n",
    "ruta: \"/var/lib/docker\"\n",
    "```"
   ]
  },
  {
   "cell_type": "markdown",
   "metadata": {},
   "source": [
    "### Mapas anidados.\n",
    "\n",
    "Los mapas pueden contener a su vez otras estrcuturas de mapas. Para indicar que un mapa pertenece a otro se utiliza la indentación.\n",
    "\n",
    "```\n",
    "<clave 1> :\n",
    "    <clave 11>: <valor 11>\n",
    "    <clave 12>: <valor 12>\n",
    "    ...\n",
    "    ...\n",
    "    <clave 1n>: <valor 1n>\n",
    "    \n",
    "```"
   ]
  },
  {
   "cell_type": "markdown",
   "metadata": {},
   "source": [
    "**Ejemplo:**\n",
    "\n",
    "El siguiente texto define al mapa con clave ```persona```, el cual contiene a los mapas con claves:\n",
    "\n",
    "* ```ìd```.\n",
    "* ```nombre```.\n",
    "* ```primer_apellido```.\n",
    "* ```segundo_apellido```.\n",
    "* ```carrera```.\n",
    "\n",
    "\n",
    "``` yaml\n",
    "persona:\n",
    "    id: 1001\n",
    "    nombre: Juan\n",
    "    primer_apellido: Pérez\n",
    "    segundo_apellido: de la Rosa\n",
    "    carrera: Derecho\n",
    "```"
   ]
  },
  {
   "cell_type": "markdown",
   "metadata": {},
   "source": [
    "## Listas.\n",
    "\n",
    "las listas se definen mediante columnas en las que cada elemento de dicha lista es precedido por un guión medio ```-```.\n",
    "\n",
    "```\n",
    "- <elemento 1>\n",
    "- <elemento 2>\n",
    "...\n",
    "...\n",
    "- <elemento n>\n",
    "```\n",
    "Estos elementos pueden ser cadenas de caracteres, mapas u otras listas."
   ]
  },
  {
   "cell_type": "markdown",
   "metadata": {},
   "source": [
    "**Ejemplo:**\n",
    "\n",
    "El siguiente texto define una estructura que incluye mapas y listas anidadas dentro de una lista.\n",
    "\n",
    "``` yaml\n",
    "cursos:\n",
    "    -py101: AC\n",
    "    -py111: AC\n",
    "    -py121: NA\n",
    "    -py131:\n",
    "        programado:\n",
    "            clave_evento: py131-2007\n",
    "            fecha_inicio: 15/07/2020\n",
    "            requisitos:\n",
    "                -py101\n",
    "                -py111\n",
    "    -py201: NA\n",
    "```"
   ]
  },
  {
   "cell_type": "markdown",
   "metadata": {},
   "source": [
    "## Ejemplo."
   ]
  },
  {
   "cell_type": "markdown",
   "metadata": {},
   "source": [
    "Se utilizará la biblioteca ```pyyaml``` para manipular un texto en *YAML*."
   ]
  },
  {
   "cell_type": "code",
   "execution_count": 1,
   "metadata": {},
   "outputs": [
    {
     "name": "stdout",
     "output_type": "stream",
     "text": [
      "Requirement already satisfied: pyyaml in /usr/lib/python3/dist-packages (3.12)\n",
      "\u001b[33mWARNING: You are using pip version 19.3.1; however, version 20.0.2 is available.\n",
      "You should consider upgrading via the 'pip install --upgrade pip' command.\u001b[0m\n"
     ]
    }
   ],
   "source": [
    "! pip install pyyaml"
   ]
  },
  {
   "cell_type": "code",
   "execution_count": 2,
   "metadata": {},
   "outputs": [],
   "source": [
    "import yaml"
   ]
  },
  {
   "cell_type": "code",
   "execution_count": 3,
   "metadata": {},
   "outputs": [],
   "source": [
    "listado = {'personas': [\n",
    "    {\"id\": 1001,\n",
    "    'nombre': 'Juan',\n",
    "    'primer_apellido': 'Pérez',\n",
    "    'segundo_apellido': 'de la Rosa',\n",
    "    'carrera': 'Derecho',\n",
    "    'cursos': {\n",
    "        'py101': 'AC',\n",
    "        'py111': 'AC',\n",
    "        'py121': 'NA',\n",
    "        'py131': {\n",
    "            'PN': {\n",
    "                'clave_evento': 'py131-2007',\n",
    "                'fecha_inicio': '15/07/2020',\n",
    "                'requisitos': [\n",
    "                    'py101', \n",
    "                    'py111']}},\n",
    "        'py201': 'NA'}},\n",
    "    {\"id\": 1002,\n",
    "     'nombre': 'María',\n",
    "     'primer_apellido': 'Mendoza',\n",
    "     'segundo_apellido': '',\n",
    "     'carrera': 'Derecho',\n",
    "     'cursos': {\n",
    "         'py101': 'AC', \n",
    "         'py111': 'AC', \n",
    "         'py121': 'AC'}}]}"
   ]
  },
  {
   "cell_type": "code",
   "execution_count": 4,
   "metadata": {},
   "outputs": [
    {
     "data": {
      "text/plain": [
       "{'py101': 'AC',\n",
       " 'py111': 'AC',\n",
       " 'py121': 'NA',\n",
       " 'py131': {'PN': {'clave_evento': 'py131-2007',\n",
       "   'fecha_inicio': '15/07/2020',\n",
       "   'requisitos': ['py101', 'py111']}},\n",
       " 'py201': 'NA'}"
      ]
     },
     "execution_count": 4,
     "metadata": {},
     "output_type": "execute_result"
    }
   ],
   "source": [
    "listado['personas'][0]['cursos']"
   ]
  },
  {
   "cell_type": "code",
   "execution_count": 5,
   "metadata": {},
   "outputs": [
    {
     "data": {
      "text/plain": [
       "b'personas:\\n- carrera: Derecho\\n  cursos:\\n    py101: AC\\n    py111: AC\\n    py121: NA\\n    py131:\\n      PN:\\n        clave_evento: py131-2007\\n        fecha_inicio: 15/07/2020\\n        requisitos: [py101, py111]\\n    py201: NA\\n  id: 1001\\n  nombre: Juan\\n  primer_apellido: \"P\\\\xE9rez\"\\n  segundo_apellido: de la Rosa\\n- carrera: Derecho\\n  cursos: {py101: AC, py111: AC, py121: AC}\\n  id: 1002\\n  nombre: \"Mar\\\\xEDa\"\\n  primer_apellido: Mendoza\\n  segundo_apellido: \\'\\'\\n'"
      ]
     },
     "execution_count": 5,
     "metadata": {},
     "output_type": "execute_result"
    }
   ],
   "source": [
    "yaml.dump(listado, encoding=\"utf-8\")"
   ]
  },
  {
   "cell_type": "markdown",
   "metadata": {},
   "source": [
    "<p style=\"text-align: center\"><a rel=\"license\" href=\"http://creativecommons.org/licenses/by/4.0/\"><img alt=\"Licencia Creative Commons\" style=\"border-width:0\" src=\"https://i.creativecommons.org/l/by/4.0/80x15.png\" /></a><br />Esta obra está bajo una <a rel=\"license\" href=\"http://creativecommons.org/licenses/by/4.0/\">Licencia Creative Commons Atribución 4.0 Internacional</a>.</p>\n",
    "<p style=\"text-align: center\">&copy; José Luis Chiquete Valdivieso. 2020\n",
    "    .</p>"
   ]
  }
 ],
 "metadata": {
  "kernelspec": {
   "display_name": "Python 3",
   "language": "python",
   "name": "python3"
  },
  "language_info": {
   "codemirror_mode": {
    "name": "ipython",
    "version": 3
   },
   "file_extension": ".py",
   "mimetype": "text/x-python",
   "name": "python",
   "nbconvert_exporter": "python",
   "pygments_lexer": "ipython3",
   "version": "3.8.5"
  }
 },
 "nbformat": 4,
 "nbformat_minor": 2
}
