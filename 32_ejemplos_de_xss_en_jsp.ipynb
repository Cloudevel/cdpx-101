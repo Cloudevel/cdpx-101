{
 "cells": [
  {
   "cell_type": "markdown",
   "metadata": {},
   "source": [
    "## Ejemplo de XSS en código *JSP*. "
   ]
  },
  {
   "cell_type": "markdown",
   "metadata": {},
   "source": [
    "El presente ejemplo se encuentra disponible en el repositorio de la [*Cyber Security and Privacy Foundation*]( https://cysecurity.org/), localizado en:\n",
    "\n",
    "https://github.com/CSPF-Founder/JavaVulnerableLab\n",
    "\n",
    "Dicho código corresponde al código del curso localizado en:\n",
    "\n",
    "https://github.com/CSPF-Founder/JavaSecurityCourse\n",
    "\n",
    "Ambos contenidos fueron liberados bajo los términos de la licencia [*GNU GPL*](https://github.com/CSPF-Founder/JavaSecurityCourse/blob/master/LICENSE)."
   ]
  },
  {
   "cell_type": "markdown",
   "metadata": {},
   "source": [
    "## Descarga de la máquina virtual."
   ]
  },
  {
   "cell_type": "markdown",
   "metadata": {},
   "source": [
    "http://sourceforge.net/projects/javavulnerablelab/files/v0.1/JavaVulnerableLab.ova/download\n",
    "\n",
    "contraseña de root: ```cspf```"
   ]
  },
  {
   "cell_type": "code",
   "execution_count": null,
   "metadata": {},
   "outputs": [],
   "source": []
  },
  {
   "cell_type": "markdown",
   "metadata": {},
   "source": [
    "http://192.168.56.104:8080/JavaVulnerableLab/install.jsp"
   ]
  },
  {
   "cell_type": "raw",
   "metadata": {},
   "source": []
  }
 ],
 "metadata": {
  "kernelspec": {
   "display_name": "Bash",
   "language": "bash",
   "name": "bash"
  },
  "language_info": {
   "codemirror_mode": "shell",
   "file_extension": ".sh",
   "mimetype": "text/x-sh",
   "name": "bash"
  }
 },
 "nbformat": 4,
 "nbformat_minor": 4
}
