{
 "cells": [
  {
   "cell_type": "markdown",
   "metadata": {},
   "source": [
    "<a href=\"https://cloudevel.com\"> <img src=\"img/cloudevel.png\" width=\"500px\"></a>"
   ]
  },
  {
   "cell_type": "markdown",
   "metadata": {},
   "source": [
    "# Introducción a ```Gradle```.\n",
    "\n",
    "```Gradle``` es una herramienta que permite la automatización de construcción de binarios y elaboración de pruebas. Aún cuando el código de *Gradle* está escrito en *Java* (primordialmente), [*Groovy*](https://groovy-lang.org/) y [*Kotlin*](https://groovy-lang.org/) (a partir de *Gradle 5.0*), es una herramienta que soporta diversos lenguajes frameworks y plataformas.\n",
    "\n",
    "La documentación de Gradle está disponible en:\n",
    "\n",
    "https://docs.gradle.org/current/userguide/userguide.html\n",
    "\n",
    "https://docs.gradle.org/current/userguide/userguide.pdf"
   ]
  },
  {
   "cell_type": "markdown",
   "metadata": {},
   "source": [
    "## ```Gradle 6.x```.\n",
    "\n",
    "*Gradle* es una herramienta que fue creada en 2007 y actualmente se encuentra el la [*versión 6.4*](https://gradle.org/releases/). \n",
    "\n",
    "Aún cuando existen diferencias que hacen incompatible la sintaxis de versiones previas de *Gradle*, es posible migrar el código de forma automatizada desde [*Gradle 5.x*](https://docs.gradle.org/6.4/userguide/upgrading_version_5.html)."
   ]
  },
  {
   "cell_type": "markdown",
   "metadata": {},
   "source": [
    "## Requisitos de instalación.\n",
    "\n",
    "*Gradle 6.x* funciona en prácticamente cualquier plataforma que tenga una *JVM* superior a la version 8.\n",
    "\n",
    "Las instrucciones de instalación están disponibles en:\n",
    "\n",
    "https://docs.gradle.org/current/userguide/installation.html\n",
    "\n",
    "La instalación de *Gradle* ya incluye una versión de *Kotlin*, *Groovy* y [*Apache Ant*](https://ant.apache.org/)."
   ]
  },
  {
   "cell_type": "markdown",
   "metadata": {},
   "source": [
    "## Configuración en el entorno de trabajo.\n",
    "\n",
    "Para fines de este curso, el servidor ```o-i.mx``` tiene instalada una instancia de *Gradle* en el directorio ```/opt/gradle/gradle-6.4/```.\n",
    "\n",
    "Para poder ejecutar los comandos de gradle es necesario añadir esta ruta a la variable de entorno ```PATH``` mediante la siguiente instrucción:"
   ]
  },
  {
   "cell_type": "code",
   "execution_count": null,
   "metadata": {},
   "outputs": [],
   "source": [
    "export PATH=$PATH:/opt/gradle/gradle-6.4/bin"
   ]
  },
  {
   "cell_type": "code",
   "execution_count": null,
   "metadata": {
    "scrolled": true
   },
   "outputs": [],
   "source": [
    "echo $PATH"
   ]
  },
  {
   "cell_type": "markdown",
   "metadata": {},
   "source": [
    "En caso de que se desee que esta configuración sea permanente se puede ejecutar la siguiente instrucción:\n",
    "\n",
    "**Advertencia:** Modificar de forma incorrecta al archivo ```~/.bashrc``` puede ser riesgoso."
   ]
  },
  {
   "cell_type": "code",
   "execution_count": null,
   "metadata": {},
   "outputs": [],
   "source": [
    "echo \"export PATH=$PATH:/opt/gradle/gradle-6.4/bin\" >> ~/.bashrc"
   ]
  },
  {
   "cell_type": "markdown",
   "metadata": {},
   "source": [
    "Para validar que la configuración es correcta puede ejecutar:"
   ]
  },
  {
   "cell_type": "code",
   "execution_count": null,
   "metadata": {},
   "outputs": [],
   "source": [
    "gradle -v"
   ]
  },
  {
   "cell_type": "markdown",
   "metadata": {},
   "source": [
    "## Funcionalidades y características.\n",
    "\n",
    "https://gradle.org/features\n",
    "\n",
    "* Ejecución de corridas (*Gradle builds*).\n",
    "    * Optimización de desempeño.\n",
    "        * Corridas incrementales.\n",
    "        * Corridas en cache.\n",
    "        * Subtareas incrementales.\n",
    "        * Procesamiento incremental de anotaciones.\n",
    "        * Daemon de compliación.\n",
    "        * Ejecución en paralelo.\n",
    "        * Descarga de dependenciasd en paralelo.\n",
    "        * Restriccion de tiempo por tarea.\n",
    "        \n",
    "    * Análisis de la corrida (*build scans*).\n",
    "        * Visualización basada en web.\n",
    "        * Depuración colaborativa.\n",
    "        * Extensible y ajustable.\n",
    "\n",
    "    * Opciones de ejecución.\n",
    "       * Corridas continuas.\n",
    "       * Corridas compuestas.\n",
    "       * Exclusión de tareas.\n",
    "       * Corridas \"en seco\" (*dry run*).\n",
    "       * Ejecución continua después de fallos.\n",
    "       * Ejecución de pruebas de fallo rápidas.\n",
    "       * Sincronización del cache de depandencias con repositorios. \n",
    "* Creación de corridas.\n",
    "    * La lógica es código susceptible de ser probado.\n",
    "        * *DSL* con *Groovy* y *Kotlin*.\n",
    "        * El plugin de inicialización de *Gradle* (*Gradle Init Plugin*).\n",
    "    * Gestión de dependencias.\n",
    "        * Dependencias transitivas.\n",
    "        * Ámbitos de dependencias ajustables.\n",
    "        * Dependencias basadas en archivos.\n",
    "        * Plantillas ajustables de repositorios.\n",
    "        * Compatibilidad con repositorios de *Ivy* y *Maven*.\n",
    "        * Soporte nativo de *BOM*.\n",
    "        * Dependencias dinámicas.\n",
    "        * Bloqueo de dependencias.\n",
    "        * Reglas de selección de dependencias dinámicas.\n",
    "        * Resolución de conflictos de versiones.\n",
    "        * Sustitución de bibliotecas compatibles.\n",
    "        * Soporte mejorado de resolución de metadatos.\n",
    "        * Sustitución de dependencias externas y de proyecto.\n",
    "        \n",
    "    * Estandarización entre gurpos de trabajo.\n",
    "        * Entorno de corrida autogenerado.\n",
    "        * Configuración de los entornos de corrida cotrolados por versiones.\n",
    "        * Distirbuciones a la medida.\n",
    "    * [*Software Domain Modeling*](https://es.wikipedia.org/wiki/Modelo_de_dominio).\n",
    "        * Contenedores de objetos de dominio.\n",
    "        * Publicaciónd de múltiples artefactos.\n",
    "        * Orden de tareas avanzado.\n",
    "        * Inferencia de las dependencias de una tarea.\n",
    "        * Finalizadores de tareas.\n",
    "        * Creación dinámica de tareas.\n",
    "        * Sensor de eventos a detalle.\n",
    "        * Inyección de comportamientos basados en usuarios.\n",
    "        * Inyección de  comportamiento por corrida.\n",
    "        \n",
    "* Funcionalidades específicas de ecosistema.\n",
    "    * Aplicaciones para la *JVM*.\n",
    "        * Compilaciones incrementales de *Java*.\n",
    "        * Soporte de plugins para herramientas de calidad de código de Java ([*JaCoCo*](https://www.jacoco.org/)).\n",
    "        * Empaquetado y distribución de *JARs*, *WARs* y *EARs*.\n",
    "        * Publicación en repositorios de *Maven* e *Ivy*.\n",
    "        * Integración con *Ant*."
   ]
  },
  {
   "cell_type": "markdown",
   "metadata": {},
   "source": [
    "## El comando ```gradle```.\n",
    "\n",
    "La ejecución de los proyectos y tareas de *Gradle* se realiza medainte el comando:\n",
    "\n",
    "```\n",
    "gradle <tarea 1> <tarea 2> ... <tarea n> <opción 1> <opción 2> ... <opción n>\n",
    "```\n",
    "\n",
    "Donde:\n",
    "\n",
    "* ```<tarea i>``` corresponde a una tarea definida.\n",
    "* ```<opción i>``` corresponde a una opción de ejecución de ```gradle```."
   ]
  },
  {
   "cell_type": "markdown",
   "metadata": {},
   "source": [
    "**Ejemplos:**"
   ]
  },
  {
   "cell_type": "markdown",
   "metadata": {},
   "source": [
    "* El siguiente comando desplegará la ayuda de ```gradle```."
   ]
  },
  {
   "cell_type": "code",
   "execution_count": null,
   "metadata": {
    "scrolled": false
   },
   "outputs": [],
   "source": [
    "gradle --help"
   ]
  },
  {
   "cell_type": "markdown",
   "metadata": {},
   "source": [
    "* El siguiente comando levantará un *daemon* desplegará las tareas de construcción de binarios por defecto. "
   ]
  },
  {
   "cell_type": "code",
   "execution_count": null,
   "metadata": {},
   "outputs": [],
   "source": [
    "gradle tasks"
   ]
  },
  {
   "cell_type": "markdown",
   "metadata": {},
   "source": [
    "## Los daemon de *Gradle*.\n",
    "\n",
    "*Gradle* es capaz de levantar *daemons*, los cuales realizarán la construcción de binarios de un proyecto en particular. \n",
    "\n",
    "Es posible tener en ejecución varios daemons de forma paralela.\n",
    "\n",
    "La documentación de los daemons de *Gradel* puede ser consultada desde:\n",
    "\n",
    "https://docs.gradle.org/current/userguide/gradle_daemon.html"
   ]
  },
  {
   "cell_type": "markdown",
   "metadata": {},
   "source": [
    "**Ejemplos:**"
   ]
  },
  {
   "cell_type": "markdown",
   "metadata": {},
   "source": [
    "* El siguiente comando deplegará el estado de todos los daemos activos de un usuario."
   ]
  },
  {
   "cell_type": "code",
   "execution_count": null,
   "metadata": {},
   "outputs": [],
   "source": [
    "gradle --status"
   ]
  },
  {
   "cell_type": "markdown",
   "metadata": {},
   "source": [
    "* El siguiente comando detendrá al *daemon* que ya se encuentra en ejecución."
   ]
  },
  {
   "cell_type": "code",
   "execution_count": null,
   "metadata": {},
   "outputs": [],
   "source": [
    "gradle --stop"
   ]
  },
  {
   "cell_type": "code",
   "execution_count": null,
   "metadata": {},
   "outputs": [],
   "source": [
    "gradle --status"
   ]
  },
  {
   "cell_type": "markdown",
   "metadata": {},
   "source": [
    "## El archivo ```gradle.build```.\n",
    "\n",
    "El archivo ```gradle.build``` es un script escrito en *Groovy* o *Kotiln*, el cual contiene el código de construcción de uno o varios proyectos y tareas. Es el documento básico para la ejecución de las diversas funcionalidades de *Gradle*."
   ]
  },
  {
   "cell_type": "markdown",
   "metadata": {},
   "source": [
    "## El *wrapper* de *Gradle*.\n",
    "\n",
    "El empaquetador (*wrapper*) es un script que permite descargar es instalar gradle y otros componentes, con la finalidad de facilitar la costrucciónd e binarios desde un repositorio.\n",
    "\n",
    "El script que ejecuta estas tareas es ```gradlew```.\n",
    "\n",
    "La documentación del *wrapper* puede ser consultada desde:\n",
    "\n",
    "https://docs.gradle.org/current/userguide/gradle_wrapper.html"
   ]
  },
  {
   "cell_type": "markdown",
   "metadata": {},
   "source": [
    "## Configuración de los entornos.\n",
    "\n",
    "*Gradle* cuenta con diversos recursos para configurar la construcción de binarios.\n",
    "\n",
    "La documentación correspondiente puede ser consultada desde:\n",
    "\n",
    "https://docs.gradle.org/current/userguide/build_environment.html"
   ]
  },
  {
   "cell_type": "markdown",
   "metadata": {},
   "source": [
    "## Componentes.\n",
    "\n",
    "Todo el sistema de automatización y construcción de binarios de *Gradle* está conformado por:\n",
    "\n",
    "* Proyectos.\n",
    "* Tareas.\n",
    "* Plugins."
   ]
  },
  {
   "cell_type": "markdown",
   "metadata": {},
   "source": [
    "### Los proyectos de *Gradle*.\n",
    "\n",
    "Un proyecto es un conjunto de tareas que da por resultado uno o varios \"artefactos\"."
   ]
  },
  {
   "cell_type": "markdown",
   "metadata": {},
   "source": [
    "### Las tareas (tasks) de *Gradle*.\n",
    "\n",
    "Una tarea es una pieza de código que realiza una acción específica en función de ciertas condiciones."
   ]
  },
  {
   "cell_type": "markdown",
   "metadata": {},
   "source": [
    "### Los *plugins* de *Gradle*.\n",
    "\n",
    "Un *plugin* es un script que extiende las funcionalidades de *Gradle*.\n",
    "\n",
    "La referencia de *plugins* puede ser consultada desde: \n",
    "\n",
    "https://docs.gradle.org/current/userguide/plugins.html"
   ]
  },
  {
   "cell_type": "markdown",
   "metadata": {},
   "source": [
    "<p style=\"text-align: center\"><a rel=\"license\" href=\"http://creativecommons.org/licenses/by/4.0/\"><img alt=\"Licencia Creative Commons\" style=\"border-width:0\" src=\"https://i.creativecommons.org/l/by/4.0/80x15.png\" /></a><br />Esta obra está bajo una <a rel=\"license\" href=\"http://creativecommons.org/licenses/by/4.0/\">Licencia Creative Commons Atribución 4.0 Internacional</a>.</p>\n",
    "<p style=\"text-align: center\">&copy; José Luis Chiquete Valdivieso. 2020.</p>"
   ]
  }
 ],
 "metadata": {
  "kernelspec": {
   "display_name": "Bash",
   "language": "bash",
   "name": "bash"
  },
  "language_info": {
   "codemirror_mode": "shell",
   "file_extension": ".sh",
   "mimetype": "text/x-sh",
   "name": "bash"
  }
 },
 "nbformat": 4,
 "nbformat_minor": 2
}
