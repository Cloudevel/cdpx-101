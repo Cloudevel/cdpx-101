{
 "cells": [
  {
   "cell_type": "markdown",
   "metadata": {
    "collapsed": true,
    "slideshow": {
     "slide_type": "slide"
    }
   },
   "source": [
    "<a href=https://cloudevel.com><img src=\"img/cloudevel.png\" width=\"800px\"></a>\n",
    "\n",
    "# Introducción a DevOps."
   ]
  },
  {
   "cell_type": "markdown",
   "metadata": {
    "collapsed": true,
    "slideshow": {
     "slide_type": "slide"
    }
   },
   "source": [
    "# ¿Qué es DevOps?"
   ]
  },
  {
   "cell_type": "markdown",
   "metadata": {
    "slideshow": {
     "slide_type": "fragment"
    }
   },
   "source": [
    "* Es una contracción de \"Operaciones de Desarrollo\"."
   ]
  },
  {
   "cell_type": "markdown",
   "metadata": {
    "slideshow": {
     "slide_type": "fragment"
    }
   },
   "source": [
    "* Muchas personas y organizaciones tienen su propias definiciones sobre \"DevOps\"."
   ]
  },
  {
   "cell_type": "markdown",
   "metadata": {
    "slideshow": {
     "slide_type": "fragment"
    }
   },
   "source": [
    "* El término \"DevOps\" fue utilizado por primera vez en 2009 por [Patrick Debois](https://itrevolution.com/faculty/patrick-debois/)."
   ]
  },
  {
   "cell_type": "markdown",
   "metadata": {
    "slideshow": {
     "slide_type": "slide"
    }
   },
   "source": [
    "# Definición de \"DevOps\"."
   ]
  },
  {
   "cell_type": "markdown",
   "metadata": {
    "slideshow": {
     "slide_type": "fragment"
    }
   },
   "source": [
    "\"Conjunto de prácticas enfocadas a reducir el tiempo entre el registro de un cambio en un sistema y el momento en el que el cambio es puesto en un entrono de producción garantizando la calidad de éste\"."
   ]
  },
  {
   "cell_type": "markdown",
   "metadata": {
    "slideshow": {
     "slide_type": "slide"
    }
   },
   "source": [
    "# DevOps puede considerarse como una 'cultura'."
   ]
  },
  {
   "cell_type": "markdown",
   "metadata": {
    "slideshow": {
     "slide_type": "fragment"
    }
   },
   "source": [
    "Una cultura en la que las organizaciones de desarrollo de TI se enfocan en crear grupos de trabajo mutidisciplinarios que facilitan la comunicacion, control, seguridad, calidad y agilidad del ciclo de vida del software."
   ]
  },
  {
   "cell_type": "markdown",
   "metadata": {
    "slideshow": {
     "slide_type": "slide"
    }
   },
   "source": [
    "# ¿Conceptos ligados a DevOps?"
   ]
  },
  {
   "cell_type": "markdown",
   "metadata": {
    "slideshow": {
     "slide_type": "fragment"
    }
   },
   "source": [
    "* Desarrollo ágil."
   ]
  },
  {
   "cell_type": "markdown",
   "metadata": {
    "slideshow": {
     "slide_type": "fragment"
    }
   },
   "source": [
    "* Cómputo en la nube."
   ]
  },
  {
   "cell_type": "markdown",
   "metadata": {
    "slideshow": {
     "slide_type": "fragment"
    }
   },
   "source": [
    "* Infraestructura como código."
   ]
  },
  {
   "cell_type": "markdown",
   "metadata": {
    "slideshow": {
     "slide_type": "fragment"
    }
   },
   "source": [
    "* Automatización."
   ]
  },
  {
   "cell_type": "markdown",
   "metadata": {
    "slideshow": {
     "slide_type": "fragment"
    }
   },
   "source": [
    "* Microservicios."
   ]
  },
  {
   "cell_type": "markdown",
   "metadata": {
    "slideshow": {
     "slide_type": "fragment"
    }
   },
   "source": [
    "* \"Full stack\" developer."
   ]
  },
  {
   "cell_type": "markdown",
   "metadata": {
    "slideshow": {
     "slide_type": "slide"
    }
   },
   "source": [
    " # Desarrollo ágil.\n",
    " \n",
    "Aún cuando es posible hacer DevOps con metodologías más convencionales, DevOps nació de los conceptos de agilidad.\n"
   ]
  },
  {
   "cell_type": "markdown",
   "metadata": {
    "slideshow": {
     "slide_type": "fragment"
    }
   },
   "source": [
    "* Se basa en ciclos de desarrollo cortos con objetivos y entregables especificos ."
   ]
  },
  {
   "cell_type": "markdown",
   "metadata": {
    "slideshow": {
     "slide_type": "fragment"
    }
   },
   "source": [
    "* El producto (software) evoluciona conforme los ciclos avanzan."
   ]
  },
  {
   "cell_type": "markdown",
   "metadata": {
    "slideshow": {
     "slide_type": "fragment"
    }
   },
   "source": [
    "* Los grupos de trabajo son multidisciplinarios y por lo general autogestionados."
   ]
  },
  {
   "cell_type": "markdown",
   "metadata": {
    "slideshow": {
     "slide_type": "fragment"
    }
   },
   "source": [
    "* Sin embargo, DevOps puede funcionar con otras metodologías."
   ]
  },
  {
   "cell_type": "markdown",
   "metadata": {
    "slideshow": {
     "slide_type": "slide"
    }
   },
   "source": [
    "# ¿Cuál es la promesa de DevOps?"
   ]
  },
  {
   "cell_type": "markdown",
   "metadata": {
    "slideshow": {
     "slide_type": "subslide"
    }
   },
   "source": [
    "## Autoservicio."
   ]
  },
  {
   "cell_type": "markdown",
   "metadata": {
    "slideshow": {
     "slide_type": "subslide"
    }
   },
   "source": [
    "## Autogestión."
   ]
  },
  {
   "cell_type": "markdown",
   "metadata": {
    "slideshow": {
     "slide_type": "subslide"
    }
   },
   "source": [
    "## Entrega e integración continua."
   ]
  },
  {
   "cell_type": "markdown",
   "metadata": {
    "slideshow": {
     "slide_type": "subslide"
    }
   },
   "source": [
    "## Colaboración."
   ]
  },
  {
   "cell_type": "markdown",
   "metadata": {
    "slideshow": {
     "slide_type": "subslide"
    }
   },
   "source": [
    "## Escalabilidad."
   ]
  },
  {
   "cell_type": "markdown",
   "metadata": {
    "slideshow": {
     "slide_type": "slide"
    }
   },
   "source": [
    "# La cadena de DevOps."
   ]
  },
  {
   "cell_type": "markdown",
   "metadata": {
    "slideshow": {
     "slide_type": "fragment"
    }
   },
   "source": [
    "![cadena](img/toolchain.png)\n",
    "Fuente: [Wikipedia](https://en.wikipedia.org/wiki/DevOps#/media/File:Devops-toolchain.svg)"
   ]
  },
  {
   "cell_type": "markdown",
   "metadata": {
    "slideshow": {
     "slide_type": "slide"
    }
   },
   "source": [
    "# Componentes en el desarrollo (ágil) de un producto de software."
   ]
  },
  {
   "cell_type": "markdown",
   "metadata": {
    "slideshow": {
     "slide_type": "fragment"
    }
   },
   "source": [
    "* Control de versiones."
   ]
  },
  {
   "cell_type": "markdown",
   "metadata": {
    "slideshow": {
     "slide_type": "fragment"
    }
   },
   "source": [
    "* Gestión y aprovisionamiento de entornos."
   ]
  },
  {
   "cell_type": "markdown",
   "metadata": {
    "slideshow": {
     "slide_type": "fragment"
    }
   },
   "source": [
    "* Gestión de artefactos."
   ]
  },
  {
   "cell_type": "markdown",
   "metadata": {
    "slideshow": {
     "slide_type": "fragment"
    }
   },
   "source": [
    "* Automatización."
   ]
  },
  {
   "cell_type": "markdown",
   "metadata": {
    "slideshow": {
     "slide_type": "fragment"
    }
   },
   "source": [
    "* Pruebas y QA."
   ]
  },
  {
   "cell_type": "markdown",
   "metadata": {
    "slideshow": {
     "slide_type": "fragment"
    }
   },
   "source": [
    "* Integración."
   ]
  },
  {
   "cell_type": "markdown",
   "metadata": {
    "slideshow": {
     "slide_type": "fragment"
    }
   },
   "source": [
    "* Entrega/Despliegue."
   ]
  },
  {
   "cell_type": "markdown",
   "metadata": {
    "slideshow": {
     "slide_type": "fragment"
    }
   },
   "source": [
    "* Comunicación."
   ]
  },
  {
   "cell_type": "markdown",
   "metadata": {
    "slideshow": {
     "slide_type": "slide"
    }
   },
   "source": [
    "# El \"stack\" de desarrollo de este curso."
   ]
  },
  {
   "cell_type": "markdown",
   "metadata": {
    "slideshow": {
     "slide_type": "slide"
    }
   },
   "source": [
    "## Control de versiones.\n",
    "\n",
    "* El sistema de control de versiones más popular actualmente es [*Git*](git-scm.com/), el cual permite crear repositorios distribuidos de forma local o remota."
   ]
  },
  {
   "cell_type": "markdown",
   "metadata": {
    "slideshow": {
     "slide_type": "fragment"
    }
   },
   "source": [
    "* Con base en *Git* es posible acceder a servicios que ofrecen repositorios remotosm tales como:\n",
    "    * [*Github*](https://github.com/).\n",
    "    * [*BitBucket*](https://bitbucket.org/).\n",
    "    * [*GitLab*](http://gitlab.com/)."
   ]
  },
  {
   "cell_type": "markdown",
   "metadata": {
    "slideshow": {
     "slide_type": "fragment"
    }
   },
   "source": [
    "Cabe hacer notar que la mayoría de los servicios de repositorios remotos han evolucionado para ofrecer sus propios \"stacks\" de DevOps. "
   ]
  },
  {
   "cell_type": "markdown",
   "metadata": {
    "slideshow": {
     "slide_type": "slide"
    }
   },
   "source": [
    "## Aprovisionamiento de entornos.\n",
    "\n",
    "Los entornos en DevOps pueden ser aprovisionados ya sea mediante:"
   ]
  },
  {
   "cell_type": "markdown",
   "metadata": {
    "slideshow": {
     "slide_type": "fragment"
    }
   },
   "source": [
    "* Máquinas virtuales, los cuales son sistemas que pueden emular en diversos grados sistemas de hardware."
   ]
  },
  {
   "cell_type": "markdown",
   "metadata": {
    "slideshow": {
     "slide_type": "fragment"
    }
   },
   "source": [
    "* Contenedores, los cuales permiten crear diversos \"ambientes\" que contienen su propia estructura de archivos y bibliotecas dentro de un sistema anfitrión. En esta ocasión se utilizará [*Docker*](https://www.docker.com/) de forma básica."
   ]
  },
  {
   "cell_type": "markdown",
   "metadata": {
    "slideshow": {
     "slide_type": "fragment"
    }
   },
   "source": [
    "Uno de los fines últimos de DevOps es ofrecer \"Infraestructura como código\" (IaC), de tal forma que los entornos virtualizados o contenerizados puedan ser repoducibles, administrables y orquestados mediante scripts que definen desde un servidor hasta un cluster de servicios."
   ]
  },
  {
   "cell_type": "markdown",
   "metadata": {
    "slideshow": {
     "slide_type": "slide"
    }
   },
   "source": [
    "## Gestión de paquetes y binarios.\n",
    "\n",
    "Un proyecto de desarrollo de software rara vez puede ser contenido en un único archivo binario que no haga uso de una biblioteca de recursos y dependencias.\n"
   ]
  },
  {
   "cell_type": "markdown",
   "metadata": {
    "slideshow": {
     "slide_type": "fragment"
    }
   },
   "source": [
    "En el caso del entorno de *Java* existen herramientas capaces de automatizar de forma eficiente el cálculo de dependencias y la construcción de binarios. Estas herramientas en muchos casos pueden ser utilizadas concurrentemente. "
   ]
  },
  {
   "cell_type": "markdown",
   "metadata": {
    "slideshow": {
     "slide_type": "fragment"
    }
   },
   "source": [
    "En este curso se explorarán las herramientas:\n",
    "\n",
    "* [*Apache Ant*](https://ant.apache.org/)\n",
    "* [*Apache Maven*](https://maven.apache.org)\n",
    "* [*Gradle*](https://maven.apache.org)"
   ]
  },
  {
   "cell_type": "markdown",
   "metadata": {
    "slideshow": {
     "slide_type": "slide"
    }
   },
   "source": [
    "## Gestión de artefactos.\n",
    "\n",
    "Un \"artefacto\" es un recurso que forma parte de un proyecto de desarrollo de software y que a difrencia de un repositorio de código, el cual está conformado primordialmente por archivos de texto, puede consistir en:"
   ]
  },
  {
   "cell_type": "markdown",
   "metadata": {
    "slideshow": {
     "slide_type": "fragment"
    }
   },
   "source": [
    "* Documentación del proyecto.\n",
    "* Archivos de configuración.\n",
    "* Bilbiotecas.\n",
    "* Imágenes de máquinas virtuales o contenedores.\n",
    "* Scripts de pruebas.\n",
    "* Bases de datos.\n",
    "* Binarios de diversas índoles."
   ]
  },
  {
   "cell_type": "markdown",
   "metadata": {
    "slideshow": {
     "slide_type": "fragment"
    }
   },
   "source": [
    "Durante este curso se explorará el uso de [*JFrog Artifactory*](https://jfrog.com/artifactory/)."
   ]
  },
  {
   "cell_type": "markdown",
   "metadata": {
    "slideshow": {
     "slide_type": "slide"
    }
   },
   "source": [
    "## Automatización.\n",
    "\n",
    "La herramientas basada en Python más popular para realizar operaciones de automatización de la configuración genérica es [*Ansible*](https://www.ansible.com/)."
   ]
  },
  {
   "cell_type": "markdown",
   "metadata": {
    "slideshow": {
     "slide_type": "fragment"
    }
   },
   "source": [
    "* Esta herramienta es capaz de realziar operaciones automatizadas en uno o cientos de servidores tan solo con Python y SSH."
   ]
  },
  {
   "cell_type": "markdown",
   "metadata": {
    "slideshow": {
     "slide_type": "slide"
    }
   },
   "source": [
    "## Pruebas.\n",
    "\n",
    "El desarrollo orientado a pruebas (*TDD*) es una disciplina que forma parte esencial de DevOps. La única forma de contar con procesos de desarrollo ágil eficientes y seguros es mediante el diseño y automatización de pruebas de distintas índoles una vez que el código está listo para ser integrado a un proyecto.\n",
    "\n",
    "Este curso está enfocado a explorar las bases de *TDD* e integrarlo como parte fundamental del \"pipeline\" de desarrollo."
   ]
  },
  {
   "cell_type": "markdown",
   "metadata": {
    "slideshow": {
     "slide_type": "subslide"
    }
   },
   "source": [
    "Las herramientas de pruebas que se explorarán e integrarán en este cursos son:"
   ]
  },
  {
   "cell_type": "markdown",
   "metadata": {
    "slideshow": {
     "slide_type": "fragment"
    }
   },
   "source": [
    "* [*JUnit*](https://junit.org) para realizar pruebas en la JVM.\n",
    "* [*Selenium Web Driver*](https://selenium.dev/) para pruebas de aplicaciones web.\n",
    "* [*Postman*](https://www.getpostman.com/) para desarrollo y prueba de web API."
   ]
  },
  {
   "cell_type": "markdown",
   "metadata": {
    "slideshow": {
     "slide_type": "fragment"
    }
   },
   "source": [
    "Cabe aclarar que una vez estudiadas estas herramientas de forma aislada, se explorará la forma en la que estas pueden ser integradas en el proceso de creación de artefactos y binarios tanto con *Gradle* como con *Jenkins*."
   ]
  },
  {
   "cell_type": "markdown",
   "metadata": {
    "slideshow": {
     "slide_type": "slide"
    }
   },
   "source": [
    "## *CI/CD*.\n",
    "\n",
    "La integración, entrega y despliegue continuo (*CI/CD*) del código a un entorno de producción de forma inmediata es el fin último de las metodologías de desarrollo ágil y de DevOps. Todos los esfuerzos y herramientas de una organización ágil de desarrollo de software se enfocan en impementar de forma exitosa un pipeline eficiente y seguro de *CI/CD*."
   ]
  },
  {
   "cell_type": "markdown",
   "metadata": {
    "slideshow": {
     "slide_type": "fragment"
    }
   },
   "source": [
    "La herramienta de CI/CD de código abierto mas popular es [*Jenkins*](https://jenkins.io/), la cual es una herramienta de automatización de proyectos de software, que incluye una gran diversidad de plugins que le permite automatizar la creación de binarios, realización de pruebas y distribución de artefactos de forma flexible y compatible con una gran cantidad de \"stacks\"."
   ]
  },
  {
   "cell_type": "markdown",
   "metadata": {
    "slideshow": {
     "slide_type": "slide"
    }
   },
   "source": [
    "## *DevSecOps*.\n",
    "\n",
    "La promesa de *CI/CD* implica que el código y la integración de este a un proyecto de software sea seguro. *DevSecOps* nació a partir de la necesidad de desplegar aplicaciones y sistemas seguros desde el código."
   ]
  },
  {
   "cell_type": "markdown",
   "metadata": {
    "slideshow": {
     "slide_type": "fragment"
    }
   },
   "source": [
    "Durante este curso se explorarán las herramientas.\n",
    "\n",
    "* [*SonarQube*](https://www.sonarqube.org/) para validar la calidad y seguridad del código.\n",
    "* [*AppScan*](https://www.hcltechsw.com/wps/portal/products/appscan)."
   ]
  },
  {
   "cell_type": "markdown",
   "metadata": {
    "slideshow": {
     "slide_type": "slide"
    }
   },
   "source": [
    "## En caso de dudas.\n",
    "\n",
    "Exsite una enorme cantidad de herramientas y frameworks que pueden ser aprovechados para DevOps y a partir de ahí pueden diseñarse una inmensa cantidad de \"stacks\". Conocer todas las herramientas, frameworks y stacks es imposible.\n",
    "\n",
    "Sin embargo, el sitio [*StackShare*](https://stackshare.io/) es un lugar por el que se puede empezar a evaluar, comparar y conocer sobre la mayoría de estos recursos con la colaboración de una gran comunidad de colegas."
   ]
  },
  {
   "cell_type": "markdown",
   "metadata": {
    "slideshow": {
     "slide_type": "slide"
    }
   },
   "source": [
    "<a href=https://cloudevel.com><img src=\"img/cloudevel.png\" width=\"800px\"></a>\n",
    "<p style=\"text-align: center\"><a rel=\"license\" href=\"http://creativecommons.org/licenses/by/4.0/\"><img alt=\"Licencia Creative Commons\" style=\"border-width:0\" src=\"https://i.creativecommons.org/l/by/4.0/80x15.png\" /></a><br />Esta obra está bajo una <a rel=\"license\" href=\"http://creativecommons.org/licenses/by/4.0/\">Licencia Creative Commons Atribución 4.0 Internacional</a>.</p>\n",
    "<p style=\"text-align: center\">&copy; José Luis Chiquete Valdivieso. 2020.</p>"
   ]
  }
 ],
 "metadata": {
  "celltoolbar": "Slideshow",
  "kernelspec": {
   "display_name": "Python 3",
   "language": "python",
   "name": "python3"
  },
  "language_info": {
   "codemirror_mode": {
    "name": "ipython",
    "version": 3
   },
   "file_extension": ".py",
   "mimetype": "text/x-python",
   "name": "python",
   "nbconvert_exporter": "python",
   "pygments_lexer": "ipython3",
   "version": "3.6.9"
  }
 },
 "nbformat": 4,
 "nbformat_minor": 2
}
