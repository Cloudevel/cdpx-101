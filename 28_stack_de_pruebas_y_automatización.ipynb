{
 "cells": [
  {
   "cell_type": "markdown",
   "metadata": {},
   "source": [
    "<a href=\"https://cloudevel.com\"> <img src=\"img/cloudevel.png\" width=\"500px\"></a>"
   ]
  },
  {
   "cell_type": "markdown",
   "metadata": {},
   "source": [
    "# Stack de pruebas y automatización.\n",
    "\n",
    "* Sevidor: [*Ubuntu Linux*](https://ubuntu.com/) 18.04.\n",
    "* Control de versiones: [*Git*](https://git-scm.com/) y \"Git Bash*.\n",
    "* IDE: [*Eclipse Luna*](https://www.eclipse.org/luna/).\n",
    "* SSH: [*Putty*](https://putty.org/) o *Git Bash*.\n",
    "* JDK: [*Oracle JDK 11*](https://www.oracle.com/java/technologies/javase-jdk11-downloads.html).\n",
    "* Java Framework: [*Spring 5*](https://spring.io/projects/spring-framework).\n",
    "* Automatización y construcción de binarios: [Gradle](https://gradle.org/).\n",
    "* Pruebas unitarias: [JUnit 5](https://junit.org/junit5/) (vintage).\n",
    "* Pruebas de interfaz web: [*Selenium Web Driver*](https://www.selenium.dev).\n",
    "* Pruebas de API: [*Postman*](https://www.postman.com/)/[*Newman*](https://github.com/postmanlabs/newman).\n",
    "* Pruebas de código: [*Sonarqube*](https://www.sonarqube.org/).\n",
    "* Repositorio de binarios: [*Artifactory*](https://jfrog.com/open-source/).\n",
    "* CI/CD: [*Jenkins*](https://jfrog.com/open-source/)."
   ]
  },
  {
   "cell_type": "markdown",
   "metadata": {},
   "source": [
    "<p style=\"text-align: center\"><a rel=\"license\" href=\"http://creativecommons.org/licenses/by/4.0/\"><img alt=\"Licencia Creative Commons\" style=\"border-width:0\" src=\"https://i.creativecommons.org/l/by/4.0/80x15.png\" /></a><br />Esta obra está bajo una <a rel=\"license\" href=\"http://creativecommons.org/licenses/by/4.0/\">Licencia Creative Commons Atribución 4.0 Internacional</a>.</p>\n",
    "<p style=\"text-align: center\">&copy; José Luis Chiquete Valdivieso. 2020.</p>"
   ]
  }
 ],
 "metadata": {
  "kernelspec": {
   "display_name": "Python 3",
   "language": "python",
   "name": "python3"
  },
  "language_info": {
   "codemirror_mode": {
    "name": "ipython",
    "version": 3
   },
   "file_extension": ".py",
   "mimetype": "text/x-python",
   "name": "python",
   "nbconvert_exporter": "python",
   "pygments_lexer": "ipython3",
   "version": "3.8.2"
  }
 },
 "nbformat": 4,
 "nbformat_minor": 2
}
