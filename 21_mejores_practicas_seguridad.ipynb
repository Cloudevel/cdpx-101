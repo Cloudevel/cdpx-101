{
 "cells": [
  {
   "cell_type": "markdown",
   "metadata": {},
   "source": [
    "<a href=\"https://cloudevel.com\"> <img src=\"img/cloudevel.png\" width=\"500px\"></a>"
   ]
  },
  {
   "cell_type": "markdown",
   "metadata": {},
   "source": [
    "# Mejores prácticas de seguridad.\n",
    "\n",
    "El proyecto *OWASP* ha publicado  una serie de \"acordeones\" o \"cheat sheets\" que reflejan la aplicación de mejores prácticas de seguridad en diversos aspectos del desarrollo de aplicaciones.\n",
    "\n",
    "Todas las \"cheat sheets\" pueden ser consultadas desde https://cheatsheetseries.owasp.org/\n",
    "\n",
    "Sin embargo, en este capítulo se discutirán solo algunas de ellas.  "
   ]
  },
  {
   "cell_type": "markdown",
   "metadata": {},
   "source": [
    "## Autenticación.\n",
    "\n",
    "https://cheatsheetseries.owasp.org/cheatsheets/Authentication_Cheat_Sheet.html"
   ]
  },
  {
   "cell_type": "markdown",
   "metadata": {},
   "source": [
    "## Prevención de ataques de Scripts por Sitios Cruzados (*XSS*).\n",
    "\n",
    "https://cheatsheetseries.owasp.org/cheatsheets/Cross_Site_Scripting_Prevention_Cheat_Sheet.html"
   ]
  },
  {
   "cell_type": "markdown",
   "metadata": {},
   "source": [
    "## Validación mediante *Beans*.\n",
    "https://cheatsheetseries.owasp.org/cheatsheets/Bean_Validation_Cheat_Sheet.html"
   ]
  },
  {
   "cell_type": "markdown",
   "metadata": {},
   "source": [
    "## Prevención de Falsificación de Peticiones por Sitios Cruzados(*CSRF*)\n",
    "https://cheatsheetseries.owasp.org/cheatsheets/Cross-Site_Request_Forgery_Prevention_Cheat_Sheet.html"
   ]
  },
  {
   "cell_type": "markdown",
   "metadata": {},
   "source": [
    "## Deserialización.\n",
    "\n",
    "https://cheatsheetseries.owasp.org/cheatsheets/Deserialization_Cheat_Sheet.html\n",
    "\n",
    "https://docs.oracle.com/javase/7/docs/api/java/io/Serializable.html"
   ]
  },
  {
   "cell_type": "markdown",
   "metadata": {},
   "source": [
    "## Prevención de inyecciones *SQL*.\n",
    "\n",
    "https://owasp.org/www-project-cheat-sheets/cheatsheets/SQL_Injection_Prevention_Cheat_Sheet"
   ]
  },
  {
   "cell_type": "markdown",
   "metadata": {},
   "source": [
    "## Prevención de inyecciones.\n",
    "\n",
    "https://cheatsheetseries.owasp.org/cheatsheets/Injection_Prevention_Cheat_Sheet_in_Java.html"
   ]
  },
  {
   "cell_type": "markdown",
   "metadata": {},
   "source": [
    "https://docs.oracle.com/javase/tutorial/jdbc/basics/prepared.html"
   ]
  },
  {
   "cell_type": "markdown",
   "metadata": {},
   "source": [
    "## Validación de entradas.\n",
    "\n",
    "https://cheatsheetseries.owasp.org/cheatsheets/Input_Validation_Cheat_Sheet.html"
   ]
  },
  {
   "cell_type": "markdown",
   "metadata": {},
   "source": [
    "## *JSON Web Tokens* (*JWT*).\n",
    "\n",
    "https://cheatsheetseries.owasp.org/cheatsheets/JSON_Web_Token_Cheat_Sheet_for_Java.html\n",
    "\n",
    "https://jwt.io/\n",
    "\n",
    "https://auth0.com/resources/ebooks/jwt-handbook?utm_source=jwtio&utm_medium=main_gc_banner&utm_campaign=gc_jwt_test_10_2019\n",
    "\n",
    "https://github.com/righettod/poc-jwt"
   ]
  },
  {
   "cell_type": "markdown",
   "metadata": {},
   "source": [
    "## Gestión de dependencias vulnerables.\n",
    "\n",
    "https://cheatsheetseries.owasp.org/cheatsheets/Vulnerable_Dependency_Management_Cheat_Sheet.html\n",
    "\n",
    "https://owasp.org/www-project-dependency-check/"
   ]
  },
  {
   "cell_type": "markdown",
   "metadata": {},
   "source": [
    "## Gestión de bitácoras.\n",
    "\n",
    "https://cheatsheetseries.owasp.org/cheatsheets/Logging_Cheat_Sheet.html"
   ]
  },
  {
   "cell_type": "markdown",
   "metadata": {},
   "source": [
    "<p style=\"text-align: center\"><a rel=\"license\" href=\"http://creativecommons.org/licenses/by/4.0/\"><img alt=\"Licencia Creative Commons\" style=\"border-width:0\" src=\"https://i.creativecommons.org/l/by/4.0/80x15.png\" /></a><br />Esta obra está bajo una <a rel=\"license\" href=\"http://creativecommons.org/licenses/by/4.0/\">Licencia Creative Commons Atribución 4.0 Internacional</a>.</p>\n",
    "<p style=\"text-align: center\">&copy; José Luis Chiquete Valdivieso. 2020.</p>"
   ]
  }
 ],
 "metadata": {
  "kernelspec": {
   "display_name": "Bash",
   "language": "bash",
   "name": "bash"
  },
  "language_info": {
   "codemirror_mode": "shell",
   "file_extension": ".sh",
   "mimetype": "text/x-sh",
   "name": "bash"
  }
 },
 "nbformat": 4,
 "nbformat_minor": 2
}
