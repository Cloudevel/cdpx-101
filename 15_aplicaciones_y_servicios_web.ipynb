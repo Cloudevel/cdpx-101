{
 "cells": [
  {
   "cell_type": "markdown",
   "metadata": {},
   "source": [
    "<a href=\"https://cloudevel.com\"> <img src=\"img/cloudevel.png\" width=\"500px\"></a>"
   ]
  },
  {
   "cell_type": "markdown",
   "metadata": {},
   "source": [
    "# Aplicaciones y servicios web. "
   ]
  },
  {
   "cell_type": "markdown",
   "metadata": {},
   "source": [
    "## Aplicación web (\"web app\").\n",
    "\n",
    "Una aplicación web por lo general está enfocada a realizar transacciones que son accesibles a un usuario final mediante la interfaz de un navegador web. Esta interfaz, también conocida como \"front-end\" es el medio de interacción entre el usuario y dicha aplicación.\n",
    "\n",
    "## Servicios web (\"web services\").\n",
    "\n",
    "Un servicio web está enfocado a la realización de transacciones en la que el énfasis se hace en el intercambio de datos entre el cliente y el servidor mediante al acceso a \"endpoints\".\n",
    "\n",
    "### Puntos de acceso (\"endpoints\").\n",
    "\n",
    "Un \"endpoint\"  es una *URL* que expone un servicio web, dicho servicio puede ser consumido por un cliente (no necesariamente un navegador web) en caso de que cuente con la identidad y los permisos correctos.\n",
    "\n",
    "\n",
    "### Interfaces de programación de aplicaciones (API).\n",
    "\n",
    "Las API son un conjunto de endpoints que exponen diversas funcionalidades de un servicio web, las cuales pueden ser utilizadas para el desarrollo de aplicaciones web.\n",
    "\n",
    "### Aplicaciones web desde el front-end.\n",
    "\n",
    "\n"
   ]
  },
  {
   "cell_type": "markdown",
   "metadata": {},
   "source": [
    "## El patrón Modelo Vista Controlador (*MVC*).\n",
    "\n",
    "Este patrón de diseño de aplicaciones web consiste en separar los datos a los que accede una aplicación de las interfaces de dicha aplicación.\n",
    "\n",
    "El patrón [*MVC*](https://es.wikipedia.org/wiki/Modelo%E2%80%93vista%E2%80%93controlador) se volvió muy popular en el desarrolo de aplicaciones web particularmente con su implementación por medio de [*Ruby on Rails*](https://rubyonrails.org/).\n",
    "\n",
    "<img src=\"img/MVC.gif\">"
   ]
  },
  {
   "cell_type": "markdown",
   "metadata": {},
   "source": [
    "### *Modelo*.\n",
    "\n",
    "El Modelo corresponde a la estructura de datos de la aplicación, la cual por lo general es gestionada por una base de datos y puede ser ligada a una estructura orientada a objetos mediante un Modelo Relacional de Objetos (*ORM* por sus siglas en inglés). \n",
    "\n",
    "El estado de una aplicación se refleja en el modelo, mientras que las vistas y los controladores son interfaces que permiten interactuar con el modelo."
   ]
  },
  {
   "cell_type": "markdown",
   "metadata": {},
   "source": [
    "### *Vista*.\n",
    "\n",
    "La vista es el modo en el que el estado del modelo es presentado al usuario. "
   ]
  },
  {
   "cell_type": "markdown",
   "metadata": {},
   "source": [
    "### *Controlador*.\n",
    "\n",
    "Los controladores son gestores de eventos los cuales tienen la capacidad de:\n",
    "* Interactuar con el estado del modelo.\n",
    "* Interactuar con lo que despliega  vista."
   ]
  },
  {
   "cell_type": "markdown",
   "metadata": {},
   "source": [
    "## Arquitecturas y protocolos de servicios web. "
   ]
  },
  {
   "cell_type": "markdown",
   "metadata": {},
   "source": [
    "### *SOAP*.\n",
    "\n",
    "Protocolo Simple de Acceso a Objetos, o [*SOAP*](https://www.w3.org/TR/soap/) es un protocolo que define la forma en la que dos objetos puden comunicarse mediante el intercambio de datos en formato *XML*. La especificación de SOAP es publicada por la W3C.\n",
    "\n",
    "Las arquitecturas de servicios web basadas en *SOAP* definen a detalle el proceso de construcción y procesamiento de mensajes que perminten una comunicacion bidireccional entre dos extremos."
   ]
  },
  {
   "cell_type": "markdown",
   "metadata": {},
   "source": [
    "### *RESTFul* o *REST*.\n",
    "\n",
    "\n",
    "*REST* corresponde a las siglas en inglés de *Representación de Estado Transaccional* y fue propuesta por primera vez en la [tesis doctoral de Roy Fielding](https://www.ics.uci.edu/~fielding/pubs/dissertation/rest_arch_style.htm) como una serie de reglas para aprovechar los métodos de *HTTP* con la finalidad de  crear servicios web ligeros y rápidos. Los servicos basado en *REST* pueden transmitir recursos en diversos formatos, incluyendo *XML* y *JSON*.\n",
    "\n",
    "Referencia: https://www.restapitutorial.com/"
   ]
  },
  {
   "cell_type": "markdown",
   "metadata": {},
   "source": [
    "## *GraphQL*.\n",
    "\n",
    "[*GraphQL*](https://graphql.org/) es un lenguaje de consultas creado por Facebook con la finalidad de diseñar APIs que permiten optimizar la calidad y detalle de la transferencia de datos.\n",
    "\n",
    "*GraphQL* ha sido implantado en [varios lenguajes de programación](https://graphql.org/code/)y ofrece [diversos clientes](https://graphql.org/graphql-js/graphql-clients/) capces de consumir las *APIs* creadas con este lenguaje."
   ]
  },
  {
   "cell_type": "markdown",
   "metadata": {},
   "source": [
    "## Formatos de serialización y transferencia de datos."
   ]
  },
  {
   "cell_type": "markdown",
   "metadata": {},
   "source": [
    "### *XML*.\n",
    "\n",
    "El *Lenguaje Extensible de Etiquetas* [*XML*](https://www.w3.org/TR/xml/) es una  especificacion de la *W3C* basada en [*SGML*](https://es.wikipedia.org/wiki/SGML) diseñado para serializar y transmitir datos independientemente de los medios de transporte de dato. Es un meta-lenguaje que permite definir formatos derivados mediante el uso de:\n",
    "\n",
    "* [*DTD*](https://es.wikipedia.org/wiki/Definici%C3%B3n_de_tipo_de_documento).\n",
    "* [*XML Schema*](https://es.wikipedia.org/wiki/XML_Schema).\n",
    "\n",
    "Los derivados de *XML* permiten definir estructuras e incluso tipos de datos con propósitos específicos.\n",
    "\n",
    "La especificación también define lenguajes de consulta que permiten extraer información de documentos *XML*.\n",
    "\n",
    "* [*XPATH*](https://en.wikipedia.org/wiki/XPath), el cual es un lenguaje que permite realziar búsquedas dentro de una estructura *XML* por medio de rutas a partir de la raíz del documento. \n",
    "* [*XQuery*](https://es.wikipedia.org/wiki/XQuery) es un lenguaje que permite hacer consultas en un documento XML mediante una sintaxis similar a *SQL*.\n",
    "\n",
    "Incluso es posible transformar un documento con una estructura específica de *XML* en otra mediante [*XSLT*](https://es.wikipedia.org/wiki/Extensible_Stylesheet_Language_Transformations)."
   ]
  },
  {
   "cell_type": "markdown",
   "metadata": {},
   "source": [
    "### *JSON*.\n",
    "\n",
    "[*JSON*](https://es.wikipedia.org/wiki/JSON) es un acrónimo de \"*Javascript Object Notation*\" y corresponde en un principio al modo en que se definen objetos en *Javascript* según las especificaciones previas a [*ECMAScript*](https://www.ecma-international.org/publications/standards/Ecma-262.htm) 5. Sin embargo, la notación es tan simple y práctica que ha sido adoptada como un formato para la serialización y transmisión de datos.\n",
    "\n",
    "Existen incluso lenguajes derivados de *JSON* tales como [*YAML*](https://yaml.org/).\n",
    "\n",
    "Es posibie consultar más sobre *JSON* en la siguiente liga:\n",
    "\n",
    "https://www.json.org/json-en.html"
   ]
  },
  {
   "cell_type": "markdown",
   "metadata": {},
   "source": [
    "## Mejores prácticas para el desarrollo de aplicaciones SaaS.\n",
    "\n",
    "La metodología \"The Twelve-Factor App\" enumera y describe 12 elementos críticos que deben de ser tomados en cuenta cuando se desarrolan aplicaciones que ofrecerán servicios en línea.\n",
    "\n",
    "1. Código base (Codebase)\n",
    "2. Dependencias\n",
    "3. Configuraciones\n",
    "4. Backing services\n",
    "5. Construir, desplegar, ejecutar\n",
    "6. Procesos\n",
    "7. Asignación de puertos\n",
    "8. Concurrencia\n",
    "9. Desechabilidad\n",
    "10. Paridad en desarrollo y producción\n",
    "11. Historiales\n",
    "12. Administración de procesos\n",
    "\n",
    "\n",
    "El documento completo puede ser consutado en https://12factor.net/es/"
   ]
  },
  {
   "cell_type": "markdown",
   "metadata": {},
   "source": [
    "<p style=\"text-align: center\"><a rel=\"license\" href=\"http://creativecommons.org/licenses/by/4.0/\"><img alt=\"Licencia Creative Commons\" style=\"border-width:0\" src=\"https://i.creativecommons.org/l/by/4.0/80x15.png\" /></a><br />Esta obra está bajo una <a rel=\"license\" href=\"http://creativecommons.org/licenses/by/4.0/\">Licencia Creative Commons Atribución 4.0 Internacional</a>.</p>\n",
    "<p style=\"text-align: center\">&copy; José Luis Chiquete Valdivieso. 2020.</p>"
   ]
  }
 ],
 "metadata": {
  "kernelspec": {
   "display_name": "Python 3",
   "language": "python",
   "name": "python3"
  },
  "language_info": {
   "codemirror_mode": {
    "name": "ipython",
    "version": 3
   },
   "file_extension": ".py",
   "mimetype": "text/x-python",
   "name": "python",
   "nbconvert_exporter": "python",
   "pygments_lexer": "ipython3",
   "version": "3.6.9"
  }
 },
 "nbformat": 4,
 "nbformat_minor": 2
}
