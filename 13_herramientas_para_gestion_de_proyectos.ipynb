{
 "cells": [
  {
   "cell_type": "markdown",
   "metadata": {},
   "source": [
    "<a href=\"https://cloudevel.com\"> <img src=\"img/cloudevel.png\" width=\"500px\"></a>"
   ]
  },
  {
   "cell_type": "markdown",
   "metadata": {},
   "source": [
    "# Herramientas de gestión de proyectos."
   ]
  },
  {
   "cell_type": "markdown",
   "metadata": {},
   "source": [
    "## Nota preliminar.\n",
    "\n",
    "Antes de iniciar, cabe aclarar que este capítulo no trata sobre la gestión de proyectos (PM). \n",
    "\n",
    "Para los alcances de este curso, la gestión de proyectos se refiere a la gestión de código, binarios y paquetes a lo largo de un proyecto de desarrollo de sofware en Java."
   ]
  },
  {
   "cell_type": "markdown",
   "metadata": {},
   "source": [
    "## Proyectos de desarrollo de software.\n",
    "\n",
    "En la actualidad, un proyecto de desarrollo de software consiste en la colaboración de grupos de trabajo que comparten diversas piezas de código y echan mano de múltiples bibliotecas a lo largo del proceso que da por resultado un paquete que contiene a todos los archivos necesarios para la correcta ejecución de una aplicación. En el caso de Java, dichos paquetes pueden ser archivos de tipo JAR WAR o EAR.\n",
    "\n",
    "La estructura de un proyecto de desarrollo de software puede comprender una gran cantidad de directorios y archivos de diversas índoles. Sin embargo, dichas estructuras son susceptibles de ser estandarizadas y homologadas con la finalidad de que un equipo de trabajo pueda colaborar con relativa facilidad.\n",
    "\n",
    "La complejidad que implica el desarrollo de un proyecto de software hace muy complicado que una persona pueda llevar el control completo de cada componente y estructura del proyecto. Es por ello por lo que se ha popularizado el uso de frameworks que automatizan la construcción, prueba y gestión de proyectos de desarrollo de software."
   ]
  },
  {
   "cell_type": "markdown",
   "metadata": {},
   "source": [
    "### Herramientas para gestión de proyectos en Java.\n",
    "\n",
    "Los herramientas más populares para la gestión de proyectos en Java son:\n",
    "\n",
    "* [*Apache Ant*](https://ant.apache.org/) \n",
    "* [*Apache Maven*](https://maven.apache.org/)\n",
    "* [*Gradle*](https://gradle.org/)\n",
    "\n",
    "Cada una de estas herramientas tiene características particulares y son utilizadas en diversos proyectos, por lo que es recomendable que un desarrollador esté familiarizado con cada una de ellas.\n",
    "\n",
    "El siguiente hipervínculo apunta a una comparación entre *Ant*, *Maven* y *Gradle* en el sitio StackShare: \n",
    "\n",
    "https://stackshare.io/stackups/ant-vs-gradle-vs-maven\n",
    "\n",
    "Como se puede apreciar, la herramienta más simple pero con menos funcionalidades es *Ant*, mientras que *Maven* y *Gradle* son utilizados para proyectos de mayor complejidad.\n",
    "\n",
    "Una de las grandes ventajas de *Gradle* es que este framework puede integrarse con *Ant* y *Maven*."
   ]
  },
  {
   "cell_type": "markdown",
   "metadata": {},
   "source": [
    "## Funcionalidades básicas."
   ]
  },
  {
   "cell_type": "markdown",
   "metadata": {},
   "source": [
    "## Construcción de binarios.\n",
    "\n",
    "La funcionalidad mínima que se puede esperar de estas herramientas es la de construcción de binarios a partir del código fuente. \n",
    "\n",
    "### El caso de *Ant*.\n",
    "\n",
    "*Ant* es una herramienta especializada en la construcción de binarios de Java mediante acciones específicas llamadas \"[tasks](https://ant.apache.org/manual/tasksoverview.html)\", las cuales son ejecutadas mediante un script en formato *XML* cuyo nombre por convención es *build.xml*.\n",
    "\n",
    "### El caso de *Maven*.\n",
    "\n",
    "*Maven* es una herramienta más compleja que *Ant*, la cual en vez de definir una serie de acciones a ejecutar una después de otra, define un ciclo de vida del proyecto, el cual incluye cálaculo de dependencias, pruebas y construcción de binarios en lo que se conoce como *Project Object Model* (*POM*), los cuales se denfinen en archivos *pom.xml*. En es sentido, la creación de binarios es sólo una parte del *POM*.\n",
    "\n",
    "### El caso de *Gradle*.\n",
    "\n",
    "*Gradle* es un framework que puede soportar diversos lenguajes además de Java como lo son Groovy, Scala, Kotlin e incluso Python y Go; así como frameworks de programación de aplicaciones como Spring. Es posible acceder a estas funcionalidades mediante el uso de plug-ins, los cuales incluyen integración con *Ant* y *Maven*. \n",
    "\n",
    "A diferencia de *Ant* y *Maven*, *Gradle* cuenta con *Lenguajes Especializados de Dominio* (SDL) basados en Kotlin y Groovy, los cuales definen el proceso del ciclo de vida del proyecto por medio de un archivo llamado *build.gradle*. \n",
    "\n",
    "*Gradle* puede ser extendido mediante *plug-ins*."
   ]
  },
  {
   "cell_type": "markdown",
   "metadata": {},
   "source": [
    "## Gestión de dependencias y repositorios.\n",
    "\n",
    "Es común en prácticamente cualquier lenguaje de programación que existan repositorios remotos que contengan de bibliotecas públicas a las que se pueda acceder e incluirlas como dependencias en un proyecto local. "
   ]
  },
  {
   "cell_type": "markdown",
   "metadata": {},
   "source": [
    "### *Ant*  + *Ivy*.\n",
    "\n",
    "*Ant* no cuenta por si mismo la funcionalidad de acceder a repositorios remotos. Sin embargo, de forma paralela se desarrolló el proyecto [*Ivy*](http://ant.apache.org/ivy/) el cual permite gestionar repositorios remotos y locales de bibliotecas basadas en *Ant*."
   ]
  },
  {
   "cell_type": "markdown",
   "metadata": {},
   "source": [
    "### Repositorios de *Maven*.\n",
    "\n",
    "*Maven* es un proyecto que fue ideado para poder desplegar repostorios locales, centralizados y remotos para facilitar la gestión de dependencias. Los repositorios de Maven son muy populares para publicar proyectos comunitarios que cuentan con una gran cantidad de bibliotecas disponibles.\n",
    "\n",
    "En el siguiente hipervínculo es posible consultar algunos de los repositorios de *Maven* más conocidos.\n",
    "\n",
    "https://www.deps.co/guides/public-maven-repositories/"
   ]
  },
  {
   "cell_type": "markdown",
   "metadata": {},
   "source": [
    "#### Maven Central.\n",
    "\n",
    "[*Maven Central*](https://central.sonatype.org/) es el repositorio que utiliza *Maven* por defecto. "
   ]
  },
  {
   "cell_type": "markdown",
   "metadata": {},
   "source": [
    "**Ejemplo:**\n",
    "\n",
    "Es necesario que cambie el kernel de la notebook a Java."
   ]
  },
  {
   "cell_type": "code",
   "execution_count": null,
   "metadata": {},
   "outputs": [],
   "source": [
    "%maven org.knowm.xchart:xchart:3.5.2\n",
    "import org.knowm.xchart.*;\n",
    "double[] xData = new double[] {0.0, 1.0, 2.0};\n",
    "double[] yData = new double[] {1.0, 5.0, 11.0};\n",
    "XYChart chart =QuickChart.getChart(\"ejemplo\", \"x\", \"y\", \"f(x)\", xData, yData);\n",
    "BitmapEncoder.getBufferedImage(chart);"
   ]
  },
  {
   "cell_type": "markdown",
   "metadata": {},
   "source": [
    "### integración de *Gradle*.\n",
    "\n",
    "*Gradle* es capaz de integrar los repositorios de *Maven* y de *Ivy* de tal forma que puede acceder a una cantidad de bibliotecas sin necesidad de definir su propio esquema de repositorios."
   ]
  },
  {
   "cell_type": "markdown",
   "metadata": {},
   "source": [
    "## Estructura de archivos de un proyecto.\n",
    "\n",
    "A lo largo del tiempo, tanto *Maven* como *Gradle* han definido estructuras específicas para proyectos particulares que son creadas de forma automática dependiendo del tipo de aplicación de la que se trate. De ese modo, es posible que grandes grupos de trabajo puedan colaborar en integrar proyectos."
   ]
  },
  {
   "cell_type": "markdown",
   "metadata": {},
   "source": [
    "### Arquetipos de *Maven*.\n",
    "\n",
    "En el caso de *Maven* a los artefactos que definen estas estructuras se les conoce como *Arquetipos*.\n",
    "\n",
    "https://maven.apache.org/guides/mini/guide-creating-archetypes.html"
   ]
  },
  {
   "cell_type": "markdown",
   "metadata": {},
   "source": [
    "### Plantillas de *Gradle*.\n",
    "\n",
    "En el caso de *Gradle* el plugin de temolates permite definir la estructura de un proyecto de diversas índoles.\n",
    "\n",
    "https://github.com/townsfolk/gradle-templates/wiki"
   ]
  },
  {
   "cell_type": "markdown",
   "metadata": {},
   "source": [
    "## Comparación entre un archivo *pom.xml* y un archivo *build.gradle*.\n",
    "\n",
    "A contunuación se mostrarán los archivos *pom.xml* y un *build.gradle* para un proyecto de Spring Boot el cual se puede crear mediante el [*Spring Initalizer*](https://start.spring.io/).\n",
    "\n",
    "### El archivo *pom.xml*.\n",
    "\n",
    "``` xml\n",
    "<?xml version=\"1.0\" encoding=\"UTF-8\"?>\n",
    "<project xmlns=\"http://maven.apache.org/POM/4.0.0\" xmlns:xsi=\"http://www.w3.org/2001/XMLSchema-instance\"\n",
    "\txsi:schemaLocation=\"http://maven.apache.org/POM/4.0.0 https://maven.apache.org/xsd/maven-4.0.0.xsd\">\n",
    "\t<modelVersion>4.0.0</modelVersion>\n",
    "\t<parent>\n",
    "\t\t<groupId>org.springframework.boot</groupId>\n",
    "\t\t<artifactId>spring-boot-starter-parent</artifactId>\n",
    "\t\t<version>2.2.2.RELEASE</version>\n",
    "\t\t<relativePath/> <!-- lookup parent from repository -->\n",
    "\t</parent>\n",
    "\t<groupId>com.example</groupId>\n",
    "\t<artifactId>spring-boot</artifactId>\n",
    "\t<version>0.0.1-SNAPSHOT</version>\n",
    "\t<name>spring-boot</name>\n",
    "\t<description>Demo project for Spring Boot</description>\n",
    "\n",
    "\t<properties>\n",
    "\t\t<java.version>1.8</java.version>\n",
    "\t</properties>\n",
    "\n",
    "\t<dependencies>\n",
    "\t\t<dependency>\n",
    "\t\t\t<groupId>org.springframework.boot</groupId>\n",
    "\t\t\t<artifactId>spring-boot-starter-web</artifactId>\n",
    "\t\t</dependency>\n",
    "\n",
    "\t\t<dependency>\n",
    "\t\t\t<groupId>org.springframework.boot</groupId>\n",
    "\t\t\t<artifactId>spring-boot-starter-test</artifactId>\n",
    "\t\t\t<scope>test</scope>\n",
    "\t\t\t<exclusions>\n",
    "\t\t\t\t<exclusion>\n",
    "\t\t\t\t\t<groupId>org.junit.vintage</groupId>\n",
    "\t\t\t\t\t<artifactId>junit-vintage-engine</artifactId>\n",
    "\t\t\t\t</exclusion>\n",
    "\t\t\t</exclusions>\n",
    "\t\t</dependency>\n",
    "\t</dependencies>\n",
    "\n",
    "\t<build>\n",
    "\t\t<plugins>\n",
    "\t\t\t<plugin>\n",
    "\t\t\t\t<groupId>org.springframework.boot</groupId>\n",
    "\t\t\t\t<artifactId>spring-boot-maven-plugin</artifactId>\n",
    "\t\t\t</plugin>\n",
    "\t\t</plugins>\n",
    "\t</build>\n",
    "\n",
    "</project>\n",
    "```"
   ]
  },
  {
   "cell_type": "markdown",
   "metadata": {},
   "source": [
    "### El archivo *build.gradle*.\n",
    "\n",
    "``` groovy\n",
    "plugins {\n",
    "\tid 'org.springframework.boot' version '2.2.2.RELEASE'\n",
    "\tid 'io.spring.dependency-management' version '1.0.8.RELEASE'\n",
    "\tid 'java'\n",
    "}\n",
    "\n",
    "group = 'com.example'\n",
    "version = '0.0.1-SNAPSHOT'\n",
    "sourceCompatibility = '1.8'\n",
    "\n",
    "repositories {\n",
    "\tmavenCentral()\n",
    "}\n",
    "\n",
    "dependencies {\n",
    "\timplementation 'org.springframework.boot:spring-boot-starter-web'\n",
    "\ttestImplementation('org.springframework.boot:spring-boot-starter-test') {\n",
    "\t\texclude group: 'org.junit.vintage', module: 'junit-vintage-engine'\n",
    "\t}\n",
    "}\n",
    "\n",
    "test {\n",
    "\tuseJUnitPlatform()\n",
    "}\n",
    "```"
   ]
  },
  {
   "cell_type": "markdown",
   "metadata": {},
   "source": [
    "## Instalación en Ubuntu."
   ]
  },
  {
   "cell_type": "code",
   "execution_count": null,
   "metadata": {},
   "outputs": [],
   "source": [
    "sudo apt update && sudo apt upgrade -y"
   ]
  },
  {
   "cell_type": "code",
   "execution_count": null,
   "metadata": {
    "scrolled": false
   },
   "outputs": [],
   "source": [
    "sudo apt install ant -y"
   ]
  },
  {
   "cell_type": "code",
   "execution_count": null,
   "metadata": {},
   "outputs": [],
   "source": [
    "ant -v"
   ]
  },
  {
   "cell_type": "code",
   "execution_count": null,
   "metadata": {},
   "outputs": [],
   "source": [
    "sudo apt install maven -y"
   ]
  },
  {
   "cell_type": "code",
   "execution_count": null,
   "metadata": {},
   "outputs": [],
   "source": [
    "mvn -v"
   ]
  },
  {
   "cell_type": "code",
   "execution_count": null,
   "metadata": {},
   "outputs": [],
   "source": [
    "mkdir ~/maven"
   ]
  },
  {
   "cell_type": "code",
   "execution_count": null,
   "metadata": {},
   "outputs": [],
   "source": [
    "sudo apt install gradle -y"
   ]
  },
  {
   "cell_type": "code",
   "execution_count": null,
   "metadata": {},
   "outputs": [],
   "source": [
    "gradle -v"
   ]
  },
  {
   "cell_type": "markdown",
   "metadata": {},
   "source": [
    "<p style=\"text-align: center\"><a rel=\"license\" href=\"http://creativecommons.org/licenses/by/4.0/\"><img alt=\"Licencia Creative Commons\" style=\"border-width:0\" src=\"https://i.creativecommons.org/l/by/4.0/80x15.png\" /></a><br />Esta obra está bajo una <a rel=\"license\" href=\"http://creativecommons.org/licenses/by/4.0/\">Licencia Creative Commons Atribución 4.0 Internacional</a>.</p>\n",
    "<p style=\"text-align: center\">&copy; José Luis Chiquete Valdivieso. 2020.</p>"
   ]
  }
 ],
 "metadata": {
  "kernelspec": {
   "display_name": "Bash",
   "language": "bash",
   "name": "bash"
  },
  "language_info": {
   "codemirror_mode": "shell",
   "file_extension": ".sh",
   "mimetype": "text/x-sh",
   "name": "bash"
  }
 },
 "nbformat": 4,
 "nbformat_minor": 2
}
