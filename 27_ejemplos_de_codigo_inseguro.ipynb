{
 "cells": [
  {
   "cell_type": "markdown",
   "metadata": {},
   "source": [
    "<a href=\"https://cloudevel.com\"> <img src=\"img/cloudevel.png\" width=\"500px\"></a>"
   ]
  },
  {
   "cell_type": "markdown",
   "metadata": {},
   "source": [
    "# Código inseguro.\n",
    "\n",
    "A continuación se mostrarán algunos ejemplos representativos de código inseguro tomados del Top 25 del proyecto \"Common Weakness Enumeration\". \n",
    "\n",
    "https://cwe.mitre.org/top25/archive/2019/2019_cwe_top25.html"
   ]
  },
  {
   "cell_type": "markdown",
   "metadata": {},
   "source": [
    "## Validación impropia de un ingreso de datos.\n",
    "\n",
    "https://cwe.mitre.org/data/definitions/20.html"
   ]
  },
  {
   "cell_type": "markdown",
   "metadata": {},
   "source": [
    "### Ejemplo 1.\n",
    "\n",
    "El siguiente código no impide que se usen números negativos, por lo que un usuario podría ingresar un saldo a favor.\n",
    "\n",
    "```java\n",
    "...\n",
    "public static final double price = 20.00;\n",
    "int quantity = currentUser.getAttribute(\"quantity\");\n",
    "double total = price * quantity;\n",
    "chargeUser(total);\n",
    "...\n",
    "```\n"
   ]
  },
  {
   "cell_type": "markdown",
   "metadata": {},
   "source": [
    "### Ejemplo 2.\n",
    "\n",
    "El siguiente código crea una lista a partir de un valor ingresado por el usuario. Valida que no se ingresen números negativos, pero permite crear arreglos de valor igual a ```0```, lo que desnecadenará una excepción.\n",
    "\n",
    "``` java\n",
    "private void buildList ( int untrustedListSize ){\n",
    "if ( 0 > untrustedListSize ){\n",
    "die(\"Negative value supplied for list size, die evil hacker!\");\n",
    "}\n",
    "Widget[] list = new Widget [ untrustedListSize ];\n",
    "list[0] = new Widget();\n",
    "}\n",
    "```"
   ]
  },
  {
   "cell_type": "markdown",
   "metadata": {},
   "source": [
    "### Ejemplo 3.\n",
    "\n",
    "El siguiente código asume que siempre se ingresará una URL. \n",
    "\n",
    "En caso de no ingresar una URL, el método ```intent.getStringExtra()``` regresará ```null```, causando una excepción al ejecutar ```URL.length()```.\n",
    "\n",
    "``` java\n",
    "...\n",
    "IntentFilter filter = new IntentFilter(\"com.example.URLHandler.openURL\");\n",
    "MyReceiver receiver = new MyReceiver();\n",
    "registerReceiver(receiver, filter);\n",
    "...\n",
    "\n",
    "public class UrlHandlerReceiver extends BroadcastReceiver {\n",
    "@Override\n",
    "public void onReceive(Context context, Intent intent) {\n",
    "if(\"com.example.URLHandler.openURL\".equals(intent.getAction())) {\n",
    "String URL = intent.getStringExtra(\"URLToOpen\");\n",
    "int length = URL.length();\n",
    "\n",
    "...\n",
    "}\n",
    "}\n",
    "}\n",
    "```"
   ]
  },
  {
   "cell_type": "markdown",
   "metadata": {},
   "source": [
    "## Exposición de datos sensibles a un usuario sin autorización.\n",
    "\n",
    "https://cwe.mitre.org/data/definitions/200.html"
   ]
  },
  {
   "cell_type": "markdown",
   "metadata": {},
   "source": [
    "### Ejemplo 1.\n",
    "El siguiente código intentará abrir una conexión a una base de datos y desplegará la información de una excepción en caso de que ocurra. \n",
    "``` java\n",
    "try {\n",
    "openDbConnection();\n",
    "}\n",
    "//print exception message that includes exception message and configuration file location\n",
    "catch (Exception $e) {\n",
    "echo 'Caught exception: ', $e->getMessage(), '\\n';\n",
    "echo 'Check credentials in config file at: ', $Mysql_config_location, '\\n';\n",
    "}\n",
    "```"
   ]
  },
  {
   "cell_type": "markdown",
   "metadata": {},
   "source": [
    "### Ejemplo 2.\n",
    "\n",
    "En le siguiente código, el método  ```getUserBankAccount()``` accede a la información de una base de datos por medio de ```username``` y ```accountNumber```.\n",
    "\n",
    "La ocurrir una excepción ```SQLException```, el mensaje es enviado a una bitácora.\n",
    "\n",
    "El mensaje de error incluye información sobre la consulta a la base de datos, lo quen podría facilitar un ataque posterior de SQL Injection. \n",
    "\n",
    "```java\n",
    "public BankAccount getUserBankAccount(String username, String accountNumber) {\n",
    "BankAccount userAccount = null;\n",
    "String query = null;\n",
    "try {\n",
    "if (isAuthorizedUser(username)) {\n",
    "query = \"SELECT * FROM accounts WHERE owner = \"\n",
    "+ username + \" AND accountID = \" + accountNumber;\n",
    "DatabaseManager dbManager = new DatabaseManager();\n",
    "Connection conn = dbManager.getConnection();\n",
    "Statement stmt = conn.createStatement();\n",
    "ResultSet queryResult = stmt.executeQuery(query);\n",
    "userAccount = (BankAccount)queryResult.getObject(accountNumber);\n",
    "}\n",
    "} catch (SQLException ex) {\n",
    "String logMessage = \"Unable to retrieve account information from database,\\nquery: \" + query;\n",
    "Logger.getLogger(BankManager.class.getName()).log(Level.SEVERE, logMessage, ex);\n",
    "}\n",
    "return userAccount;\n",
    "}\n",
    "```"
   ]
  },
  {
   "cell_type": "markdown",
   "metadata": {},
   "source": [
    "### Ejemplo 3.\n",
    "\n",
    "* El siguiente código almacena información sobre la localización de un usuario, la cual será enviada a una bitácora.\n",
    "\n",
    "``` java\n",
    "locationClient = new LocationClient(this, this, this);\n",
    "locationClient.connect();\n",
    "currentUser.setLocation(locationClient.getLastLocation());\n",
    "...\n",
    "\n",
    "catch (Exception e) {\n",
    "AlertDialog.Builder builder = new AlertDialog.Builder(this);\n",
    "builder.setMessage(\"Sorry, this application has experienced an error.\");\n",
    "AlertDialog alert = builder.create();\n",
    "alert.show();\n",
    "Log.e(\"ExampleActivity\", \"Caught exception: \" + e + \" While on User:\" + User.toString());\n",
    "}\n",
    "```"
   ]
  },
  {
   "cell_type": "markdown",
   "metadata": {},
   "source": [
    "### Ejemplo 4.\n",
    "\n",
    "En el siguiente caso, una aplicación requiere de la localización de un usuario. Sin embargo, no es necesario que la lozalización sea de lata precisión.\n",
    "\n",
    "* El archivo ```manifest.xml``` indica que la aplicación debe de usar una localización de alta precisión.\n",
    "\n",
    "\n",
    "``` XML\n",
    "<uses-permission android:name=\"android.permission.ACCESS_FINE_LOCATION\"/>\n",
    "```\n",
    "\n",
    "* La aplicación solo requiere datos generales de localización.\n",
    "\n",
    "``` java\n",
    "locationClient = new LocationClient(this, this, this);\n",
    "locationClient.connect();\n",
    "Location userCurrLocation;\n",
    "userCurrLocation = locationClient.getLastLocation();\n",
    "deriveStateFromCoords(userCurrLocation);\n",
    "```"
   ]
  },
  {
   "cell_type": "markdown",
   "metadata": {},
   "source": [
    "## Otros ejemplos de código distinto a Java."
   ]
  },
  {
   "cell_type": "markdown",
   "metadata": {},
   "source": [
    "### Cross site scripting.\n",
    "\n",
    "https://cwe.mitre.org/data/definitions/79.html\n",
    "\n",
    "### SQL Injection.\n",
    "\n",
    "https://cwe.mitre.org/data/definitions/89.html\n",
    "\n",
    "\n",
    "### Cross-Site Request Forgery (CSRF)\n",
    "\n",
    "https://cwe.mitre.org/data/definitions/352.html\n",
    "\n",
    "### Autenticación impropia.\n",
    "\n",
    "https://cwe.mitre.org/data/definitions/287.html\n",
    "\n",
    "### Restricción impropia de una referencia a una entidad externa de XML.\n",
    "\n",
    "https://cwe.mitre.org/data/definitions/611.html\n",
    "\n",
    "### Inyección de código.\n",
    "\n",
    "https://cwe.mitre.org/data/definitions/94.html"
   ]
  },
  {
   "cell_type": "markdown",
   "metadata": {},
   "source": [
    "<p style=\"text-align: center\"><a rel=\"license\" href=\"http://creativecommons.org/licenses/by/4.0/\"><img alt=\"Licencia Creative Commons\" style=\"border-width:0\" src=\"https://i.creativecommons.org/l/by/4.0/80x15.png\" /></a><br />Esta obra está bajo una <a rel=\"license\" href=\"http://creativecommons.org/licenses/by/4.0/\">Licencia Creative Commons Atribución 4.0 Internacional</a>.</p>\n",
    "<p style=\"text-align: center\">&copy; José Luis Chiquete Valdivieso. 2020.</p>"
   ]
  }
 ],
 "metadata": {
  "kernelspec": {
   "display_name": "Python 3",
   "language": "python",
   "name": "python3"
  },
  "language_info": {
   "codemirror_mode": {
    "name": "ipython",
    "version": 3
   },
   "file_extension": ".py",
   "mimetype": "text/x-python",
   "name": "python",
   "nbconvert_exporter": "python",
   "pygments_lexer": "ipython3",
   "version": "3.7.6"
  }
 },
 "nbformat": 4,
 "nbformat_minor": 2
}
