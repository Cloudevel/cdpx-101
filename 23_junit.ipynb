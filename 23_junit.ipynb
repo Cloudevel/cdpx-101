{
 "cells": [
  {
   "cell_type": "markdown",
   "metadata": {},
   "source": [
    "<a href=\"https://cloudevel.com\"> <img src=\"img/cloudevel.png\" width=\"500px\"></a>"
   ]
  },
  {
   "cell_type": "markdown",
   "metadata": {},
   "source": [
    "# Introducción a *JUnit*.\n",
    "\n",
    "[*JUnit*](https://junit.org/junit5/) es la herramienta más utilizada para realizar pruebas de aplicaciones en Java. \n",
    "\n",
    "La versión más reciente es *JUnit 5*, la cual fue publicada en 2017. Sin embargo, *JUnit 4* aún sigue siendo la versión más popular actualmente. \n",
    "\n",
    "https://junit.org/junit5/docs/current/user-guide/index.pdf"
   ]
  },
  {
   "cell_type": "markdown",
   "metadata": {},
   "source": [
    "### *Junit 4*.\n",
    "\n",
    "Esta herramienta tiene las siguientes características: \n",
    "* Basada en *Java 5*.\n",
    "* No es modular y existe dentro de un archivo único *junit.jar*.\n",
    "* Sólo puede ejecutar un \"runner\" a la vez.\n",
    "* Sus reglas son limitadas comparadas con JUnit5."
   ]
  },
  {
   "cell_type": "markdown",
   "metadata": {},
   "source": [
    "## *JUnit 5*.\n",
    "\n",
    "* Apegado a *Java 9*.\n",
    "* Modular.\n",
    "* Extensible.\n",
    "* Integración.\n",
    "* Compatible con *JUnit 4*."
   ]
  },
  {
   "cell_type": "markdown",
   "metadata": {},
   "source": [
    "### Componentes.\n",
    "\n",
    "Esta herramienta tiene las siguientes características: \n",
    "\n",
    "* **JUnit Platform**. la cual contiene los componentes principales de *Junit 5 *.\n",
    "* **JUnit Jupiter**. Contiene el modelo de programación y de extensión de *JUnit 5*.\n",
    "* **JUnit Vintage**. Permite la compatibilidad con código de *JUnit 3* y *JUnit 4*.\n"
   ]
  },
  {
   "cell_type": "markdown",
   "metadata": {},
   "source": [
    "### Anotaciones compatibles de *JUnit 4* y *Junit 5*.\n",
    "\n",
    "<table><tbody><tr><th>Funcionalidad</th><th>JUnit 4</th><th>Junit 5</th></tr><tr><td>Declarar un método de prueba</td><td><code>@Test</code></td><td><code>@Test</code></td></tr><tr><td>Ejecutar antes que todos los métodos de prueba en la clase actual</td><td><code>@BeforeClass</code></td><td><code>@BeforeAll</code></td></tr><tr><td>Ejecutar después que todos los métodos de prueba en la clase actual</td><td><code>@AfterClass</code></td><td><code>@AfterAll</code></td></tr><tr><td>Ejecutar antes de cada método de prueba</td><td><code>@Before</code></td><td><code>@BeforeEach</code></td></tr><tr><td>Ejecutar después de cada método de prueba<td><code>@After</code></td><td><code>@AfterEach</code></td></tr><tr><td>Deshabilitar el método de prueba / clase</td><td><code>@Ignore</code></td><td><code>@Disabled</code></td></tr><tr><td>Fábrica de pruebas dinámicas</td><td>NA</td><td><code>@TestFactory</code></td></tr><tr><td>Pruebas anidadas</td><td>NA</td><td><code>@Nested</code></td></tr><tr><td>Etiquetado y filtrado</td><td><code>@Category</code></td><td><code>@Tag</code></td></tr><tr><td>Registro de extensiones a la medida</td><td>NA</td><td><code>@ExtendWith</code></td></tr></tbody></table>"
   ]
  },
  {
   "cell_type": "markdown",
   "metadata": {},
   "source": [
    "## Actividad.\n",
    "\n",
    "Se descargará mediante Eclipse el repositorio https://github.com/junit-team/junit5-samples"
   ]
  },
  {
   "cell_type": "markdown",
   "metadata": {},
   "source": [
    "## Referencias.\n",
    "\n",
    "https://howtodoinjava.com/junit-4/\n",
    "\n",
    "https://howtodoinjava.com/junit-5-tutorial/"
   ]
  },
  {
   "cell_type": "markdown",
   "metadata": {},
   "source": [
    "<p style=\"text-align: center\"><a rel=\"license\" href=\"http://creativecommons.org/licenses/by/4.0/\"><img alt=\"Licencia Creative Commons\" style=\"border-width:0\" src=\"https://i.creativecommons.org/l/by/4.0/80x15.png\" /></a><br />Esta obra está bajo una <a rel=\"license\" href=\"http://creativecommons.org/licenses/by/4.0/\">Licencia Creative Commons Atribución 4.0 Internacional</a>.</p>\n",
    "<p style=\"text-align: center\">&copy; José Luis Chiquete Valdivieso. 2020.</p>"
   ]
  }
 ],
 "metadata": {
  "kernelspec": {
   "display_name": "Bash",
   "language": "bash",
   "name": "bash"
  },
  "language_info": {
   "codemirror_mode": "shell",
   "file_extension": ".sh",
   "mimetype": "text/x-sh",
   "name": "bash"
  }
 },
 "nbformat": 4,
 "nbformat_minor": 2
}
